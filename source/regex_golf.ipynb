{
  "nbformat": 4,
  "nbformat_minor": 0,
  "metadata": {
    "colab": {
      "name": "regex_golf.ipynb",
      "provenance": [],
      "collapsed_sections": [
        "ISPE_Lhzn-Ap",
        "hiCQx8wh23YI"
      ]
    },
    "kernelspec": {
      "name": "python3",
      "display_name": "Python 3"
    }
  },
  "cells": [
    {
      "cell_type": "markdown",
      "metadata": {
        "id": "ISPE_Lhzn-Ap"
      },
      "source": [
        "# Priprema podataka"
      ]
    },
    {
      "cell_type": "markdown",
      "metadata": {
        "id": "1HNfv6NG-T-O"
      },
      "source": [
        "**Ucitavanje podataka iz datoteke**\r\n",
        "  - u prvoj liniji su reci za koje treba naci regex (skup M)\r\n",
        "  - u drugoj liniji su reci za koje ne treba naci regex (skup U)\r\n",
        "  - reci u razdvojene sa: \", \""
      ]
    },
    {
      "cell_type": "code",
      "metadata": {
        "id": "UeMYatGC84Z2"
      },
      "source": [
        "def readFile(filename):\r\n",
        "    with open(filename, 'r') as f:\r\n",
        "        match = [word for word in f.readline().split(\", \")]\r\n",
        "        # uklanjanje novog reda iz poslednje reci\r\n",
        "        match[-1] = match[-1][:-1]\r\n",
        "        unmatch = [word for word in f.readline().split(\", \")]\r\n",
        "        \r\n",
        "    return match, unmatch"
      ],
      "execution_count": 25,
      "outputs": []
    },
    {
      "cell_type": "code",
      "metadata": {
        "id": "urj9UlsW91GF",
        "colab": {
          "base_uri": "https://localhost:8080/"
        },
        "outputId": "f1ef7f10-d964-4b84-c1ad-c49502db8e41"
      },
      "source": [
        "match, unmatch = readFile(\"example_1.txt\")\r\n",
        "print(\"Prvi skup: \", match)\r\n",
        "print(\"Drugi skup: \", unmatch)"
      ],
      "execution_count": 26,
      "outputs": [
        {
          "output_type": "stream",
          "text": [
            "Prvi skup:  ['afoot', 'catfoot', 'dogfoot', 'fanfoot', 'foody', 'foolery', 'foolish', 'fooster', 'footage', 'foothot', 'footle', 'footpad', 'footway', 'hotfoot', 'jawfoot', 'mafoo', 'nonfood', 'padfoot', 'prefool', 'sfoot', 'unfool']\n",
            "Drugi skup:  ['Atlas', 'Aymoro', 'Iberic', 'Mahran', 'Ormazd', 'Silipan', 'altared', 'chandoo', 'crenel', 'crooked', 'fardo', 'folksy', 'forest', 'hebamic', 'idgah', 'manlike', 'marly', 'palazzi', 'sixfold', 'tarrock', 'unfold']\n"
          ],
          "name": "stdout"
        }
      ]
    },
    {
      "cell_type": "code",
      "metadata": {
        "id": "hN69PJ-Wx1aj"
      },
      "source": [
        "# skup za poredjenje rezultata iz dokumentacije\r\n",
        "# match = ['can', 'banana', 'and', 'ball']\r\n",
        "# match = ['bar', 'den', 'foo', 'can']\r\n",
        "# unmatch = ['indy', 'call', 'name', 'man']"
      ],
      "execution_count": 27,
      "outputs": []
    },
    {
      "cell_type": "code",
      "metadata": {
        "id": "EGt04P3F_Zyu",
        "colab": {
          "base_uri": "https://localhost:8080/"
        },
        "outputId": "80c1f019-3934-40a3-c094-ba360d3d0b95"
      },
      "source": [
        "# Broj reci u skupovima\r\n",
        "num_m = len(match)\r\n",
        "num_u = len(unmatch)\r\n",
        "print(num_m)\r\n",
        "print(num_u)"
      ],
      "execution_count": 28,
      "outputs": [
        {
          "output_type": "stream",
          "text": [
            "21\n",
            "21\n"
          ],
          "name": "stdout"
        }
      ]
    },
    {
      "cell_type": "markdown",
      "metadata": {
        "id": "MURatuNTEsXH"
      },
      "source": [
        "**Karakteri koji se pojavljuju u jednom skupu reci**"
      ]
    },
    {
      "cell_type": "code",
      "metadata": {
        "id": "0W6_Yhe0DyJR"
      },
      "source": [
        "def charsInSet(wordSet):\n",
        "    chars = []\n",
        " \n",
        "    for word in wordSet:\n",
        "        for c in word:\n",
        "            if c not in chars:\n",
        "                chars.append(c)\n",
        " \n",
        "    chars.sort()\n",
        " \n",
        "    return chars"
      ],
      "execution_count": 29,
      "outputs": []
    },
    {
      "cell_type": "code",
      "metadata": {
        "id": "8fh6YP-iEGUb",
        "colab": {
          "base_uri": "https://localhost:8080/"
        },
        "outputId": "7ff690dc-239f-491a-f0fe-d03eb1d21a5f"
      },
      "source": [
        "chars_in_M = charsInSet(match)\r\n",
        "print(chars_in_M)"
      ],
      "execution_count": 30,
      "outputs": [
        {
          "output_type": "stream",
          "text": [
            "['a', 'c', 'd', 'e', 'f', 'g', 'h', 'i', 'j', 'l', 'm', 'n', 'o', 'p', 'r', 's', 't', 'u', 'w', 'y']\n"
          ],
          "name": "stdout"
        }
      ]
    },
    {
      "cell_type": "markdown",
      "metadata": {
        "id": "Jca6y4S-ExZ_"
      },
      "source": [
        "**Opsezi reci (partial ranges) koji se javljaju u skupu M**"
      ]
    },
    {
      "cell_type": "code",
      "metadata": {
        "id": "fmjDtrNFAQRR"
      },
      "source": [
        "def makeRanges(chars_in_M):\r\n",
        "    ranges = []\r\n",
        "\r\n",
        "    i = 0\r\n",
        "    #za svako slovo niza proveravamo\r\n",
        "    while i < len(chars_in_M)-1:\r\n",
        "        distance = 0\r\n",
        "        for j in range(i+1, len(chars_in_M)):\r\n",
        "            if ord(chars_in_M[j]) - ord(chars_in_M[i]) == distance + 1:\r\n",
        "                distance += 1\r\n",
        "            else:\r\n",
        "                if chars_in_M[i] != chars_in_M[j-1]:\r\n",
        "                    ranges.append(chars_in_M[i] + '-' + chars_in_M[j-1])\r\n",
        "                i = j\r\n",
        "                break\r\n",
        "\r\n",
        "    return ranges"
      ],
      "execution_count": 31,
      "outputs": []
    },
    {
      "cell_type": "code",
      "metadata": {
        "id": "djfuWM9kARZI",
        "colab": {
          "base_uri": "https://localhost:8080/"
        },
        "outputId": "d8881f94-3b37-4b5c-dfea-a42c2815c4ac"
      },
      "source": [
        "ranges = makeRanges(chars_in_M)\r\n",
        "print(ranges)"
      ],
      "execution_count": 32,
      "outputs": [
        {
          "output_type": "stream",
          "text": [
            "['c-j', 'l-p', 'r-u']\n"
          ],
          "name": "stdout"
        }
      ]
    },
    {
      "cell_type": "markdown",
      "metadata": {
        "id": "9W6gGCDjGkIj"
      },
      "source": [
        "**n-grami**"
      ]
    },
    {
      "cell_type": "code",
      "metadata": {
        "id": "okk1oZ_LGvFa"
      },
      "source": [
        "def ngram(M, U):\r\n",
        "    res = {}\r\n",
        "\r\n",
        "    # n-grami su duzine od 2 do 4\r\n",
        "    for n in range(2, 5):\r\n",
        "        # prolazimo kroz sve reci iz M i iz U \r\n",
        "        # (radi ako su skupovi iste duzine)\r\n",
        "        for i in range(0, len(M)):\r\n",
        "            word_m = M[i]\r\n",
        "            word_u = U[i]\r\n",
        "            \r\n",
        "            word_m_visited = False\r\n",
        "            word_u_visited = False\r\n",
        "            \r\n",
        "            # pravimo n-grame od jedne reci iz M i jedne iz U\r\n",
        "            ngrams_m = zip(*[word_m[i:] for i in range(n)])\r\n",
        "            ngrams_u = zip(*[word_u[i:] for i in range(n)])\r\n",
        "\r\n",
        "            gram_m = [\"\".join(gr) for gr in ngrams_m]\r\n",
        "            gram_u = [\"\".join(gr) for gr in ngrams_u]\r\n",
        "\r\n",
        "            # ne smemo imati ponavljanje n-grama u istoj reci (pravimo skup)\r\n",
        "            gram_m = set(gram_m)\r\n",
        "            gram_u = set(gram_u)\r\n",
        "\r\n",
        "            # azuriramo score za ngram u zavisnosti u kom skupu se nalazi\r\n",
        "            for g in gram_m: # povecavamo score ako je u M\r\n",
        "                if g not in res:\r\n",
        "                    res[g] = 1\r\n",
        "                elif g in res: \r\n",
        "                    res[g] += 1\r\n",
        "\r\n",
        "            for g in gram_u: # smanjujemo score ako je u U\r\n",
        "                if g not in res:\r\n",
        "                    res[g] = -1\r\n",
        "                elif g in res:\r\n",
        "                    res[g] -= 1\r\n",
        "\r\n",
        "    return res"
      ],
      "execution_count": 33,
      "outputs": []
    },
    {
      "cell_type": "code",
      "metadata": {
        "id": "xwy2yN8TowU3",
        "colab": {
          "base_uri": "https://localhost:8080/"
        },
        "outputId": "6d30d71a-56de-4021-9e26-06af9b21f659"
      },
      "source": [
        "ngrams = ngram(match, unmatch)\r\n",
        "ngrams = sorted(ngrams.items(), key=lambda x: x[1], reverse=True)\r\n",
        "\r\n",
        "# ngram_subset je najmanji podskup od ngrams tako da je skor reci bar |M|\r\n",
        "ngram_subset = []\r\n",
        "score = 0\r\n",
        "\r\n",
        "for i in range(len(ngrams)):\r\n",
        "    if ngrams[i][1] > 0: # azuriramo samo ako je skor pozitivan\r\n",
        "        score += ngrams[i][1]\r\n",
        "        ngram_subset.append(ngrams[i][0])\r\n",
        "\r\n",
        "        if score >= num_m:\r\n",
        "            break \r\n",
        "\r\n",
        "print(ngram_subset)\r\n",
        "# print(score)"
      ],
      "execution_count": 34,
      "outputs": [
        {
          "output_type": "stream",
          "text": [
            "['foo']\n"
          ],
          "name": "stdout"
        }
      ]
    },
    {
      "cell_type": "markdown",
      "metadata": {
        "id": "OJ1LqEhCAdnP"
      },
      "source": [
        "**Terminal i Function skupovi**"
      ]
    },
    {
      "cell_type": "code",
      "metadata": {
        "id": "H1QYV3TkAdVp"
      },
      "source": [
        "# . je placeholder za dete cvor\r\n",
        "FUNCTION_SET = [\".*\", \".+\", \".?\", \".{.,.}+\", # possessive quantifiers\r\n",
        "                \"(.)\",                          # group\r\n",
        "                \"[.]\",                          # character class\r\n",
        "                \"[^.]\",                         # negated character\r\n",
        "                \"..\",                           # concatenator (binary node) mislim da treba da promenimo prikaz ovog noda tipa ` jer je kod njih tacka na sredini a ovo znaci concat\r\n",
        "                \".|.\",                          # disjunction\r\n",
        "                ]"
      ],
      "execution_count": 35,
      "outputs": []
    },
    {
      "cell_type": "code",
      "metadata": {
        "id": "qq_YS0U6B1jH"
      },
      "source": [
        "TERMINAL_SET = [\"a-z\", \"A-Z\", \"0-9\", \"^\", \"$\", \"%\", # instance independent terminals\r\n",
        "                \"\\w\", \"\\W\", \"\\d\", \"\\D\", \"\\b\", \"\\B\", \"\\A\", \"\\Z\", \"\\s\", \"\\S\"\r\n",
        "               ]"
      ],
      "execution_count": 36,
      "outputs": []
    },
    {
      "cell_type": "code",
      "metadata": {
        "id": "2OTi9DqqwaIW",
        "colab": {
          "base_uri": "https://localhost:8080/"
        },
        "outputId": "a8370733-fa74-43a8-df79-453de7da5210"
      },
      "source": [
        "# dodajemo sve karaktere iz M u terminal set\n",
        "TERMINAL_SET.extend(chars_in_M)\n",
        "\n",
        "# upisujemo n_grame u terminal set\n",
        "TERMINAL_SET.extend(ngram_subset)\n",
        "\n",
        "# ispisujemo range-ove u terminal set\n",
        "TERMINAL_SET.extend(ranges)\n",
        "\n",
        "print(TERMINAL_SET)"
      ],
      "execution_count": 37,
      "outputs": [
        {
          "output_type": "stream",
          "text": [
            "['a-z', 'A-Z', '0-9', '^', '$', '%', '\\\\w', '\\\\W', '\\\\d', '\\\\D', '\\x08', '\\\\B', '\\\\A', '\\\\Z', '\\\\s', '\\\\S', 'a', 'c', 'd', 'e', 'f', 'g', 'h', 'i', 'j', 'l', 'm', 'n', 'o', 'p', 'r', 's', 't', 'u', 'w', 'y', 'foo', 'c-j', 'l-p', 'r-u']\n"
          ],
          "name": "stdout"
        }
      ]
    },
    {
      "cell_type": "markdown",
      "metadata": {
        "id": "hiCQx8wh23YI"
      },
      "source": [
        "# Parametri za algoritam genetskog programiranja\r\n",
        "\r\n"
      ]
    },
    {
      "cell_type": "code",
      "metadata": {
        "id": "jRCMOB6J3COm"
      },
      "source": [
        "# pocetni parametri (zasnovani na dokumentaciji)\r\n",
        "POPULATION_SIZE = 500\r\n",
        "GENERATIONS_NUM = 1000\r\n",
        "POPULATION_NUM = 32\r\n",
        "TOURNAMENT_SIZE = 7"
      ],
      "execution_count": 38,
      "outputs": []
    },
    {
      "cell_type": "markdown",
      "metadata": {
        "id": "9dlZ8YuQ3neO"
      },
      "source": [
        "# Algoritam genetskog programiranja"
      ]
    },
    {
      "cell_type": "markdown",
      "metadata": {
        "id": "UCFnxyce6MHd"
      },
      "source": [
        "U nastavku je samo kostur/pseudokod GP-a"
      ]
    },
    {
      "cell_type": "markdown",
      "metadata": {
        "id": "81w_ilWI8wkb"
      },
      "source": [
        "Svaka jedinka ima 2 vrste fitnesa:\r\n",
        "- funkcija n_m - n_u treba da se maksimizuje\r\n",
        "- duzina r treba da se minimizuje\r\n",
        "\r\n",
        "r je trenutni regex, n_m je broj reci iz M koje su poklopljene sa r, n_u je broj reci iz U koje su poklopljene sa r"
      ]
    },
    {
      "cell_type": "code",
      "metadata": {
        "id": "FMD9wViZyB_Z"
      },
      "source": [
        "import re\n",
        "import random"
      ],
      "execution_count": 39,
      "outputs": []
    },
    {
      "cell_type": "code",
      "metadata": {
        "id": "fdvmyeLPEnSO"
      },
      "source": [
        "def getRandom():\n",
        "      pickSet = random.choice(['f', 't'])\n",
        "      if pickSet == 't':\n",
        "        value = random.choice(FUNCTION_SET)\n",
        "        if value in [\".{.,.}+\"]:\n",
        "          return value, 3\n",
        "        elif value in [\".|.\", \"..\"]:\n",
        "          return value, 2\n",
        "        else:\n",
        "          return value, 1\n",
        "      else:\n",
        "        value = random.choice(TERMINAL_SET)\n",
        "        return value, 0\n",
        "class Node(object):\n",
        "  def __init__(self, depth, root):\n",
        "    self.depth = depth\n",
        "    self.value = \"\"\n",
        "    self.childrenNum = 0\n",
        "    self.id = -1\n",
        "    \n",
        "    \n",
        "    if root:\n",
        "      self.value = \".\"\n",
        "      self.childrenNum = 2\n",
        "    else:\n",
        "      self.value, self.childrenNum = getRandom()\n",
        "    \n",
        "    self.left = None\n",
        "    self.right = None\n",
        "    self.third = None\n",
        "\n",
        "    if self.childrenNum == 3:\n",
        "      self.left= Node(depth+1, False)\n",
        "      self.right = Node(depth +1, False)\n",
        "      self.third = Node(depth+1, False)\n",
        "    elif self.childrenNum == 2:\n",
        "      self.left = Node(depth+1, False)\n",
        "      self.right = Node(depth+1, False)\n",
        "    elif self.childrenNum == 1:\n",
        "      self.left = Node(depth+1, False)  "
      ],
      "execution_count": 40,
      "outputs": []
    },
    {
      "cell_type": "code",
      "metadata": {
        "id": "Vpw0scGYW21i"
      },
      "source": [
        "def treeNumeration(n):\n",
        "  unvisit(n)\n",
        "  #prolazimo kroz drvo i numerisemo cvorove, koristimo bfs algoritam\n",
        "  #obilazak je BFS\n",
        "  parentMap = {}\n",
        "  q = []\n",
        "  q.append(n)\n",
        "  num = 0\n",
        "  while(len(q) >= 1):\n",
        "    top = q.pop(0)\n",
        "    if(top.id == -1):\n",
        "      top.id = num\n",
        "      num += 1\n",
        "      i = top.childrenNum\n",
        "      if i == 0:\n",
        "        parentMap[num-1] = [-1]\n",
        "      elif i == 1:\n",
        "        q.append(top.left)\n",
        "        parentMap[num-1] = [top.left]\n",
        "      elif i == 2:\n",
        "        q.append(top.left)\n",
        "        q.append(top.right)\n",
        "        parentMap[num-1] = [top.left, top.right]\n",
        "      else:\n",
        "        q.append(top.left)\n",
        "        q.append(top.right)\n",
        "        q.append(top.third)\n",
        "        parentMap[num-1] = [top.left, top.right, top.third]\n",
        "  #u mapi se uvek prvo navodi indeks levog, zatim desnog(ako postoji) i na kraju treceg deteta(ako postoji)\n",
        "  return parentMap\n"
      ],
      "execution_count": 302,
      "outputs": []
    },
    {
      "cell_type": "code",
      "metadata": {
        "id": "w89pncLsn_9j"
      },
      "source": [
        "def treeToString(node):\n",
        "  if node.value in TERMINAL_SET:\n",
        "    if node.value == \"%\":\n",
        "      return \".\"\n",
        "    return node.value\n",
        "  \n",
        "  rl= treeToString(node.left)\n",
        "  if node.childrenNum == 2:\n",
        "    rr = treeToString(node.right)\n",
        "  if node.childrenNum == 3:\n",
        "    rr = treeToString(node.right)\n",
        "    rt = treeToString(node.third)\n",
        "  \n",
        "  if node.value in FUNCTION_SET:\n",
        "    if node.value == \".*\":\n",
        "      string = rl + \"*\"\n",
        "      return string\n",
        "    if node.value == \".+\":\n",
        "      string = rl + \"+\"\n",
        "      return string\n",
        "    if node.value == \".?\":\n",
        "      string = rl + \"?\"\n",
        "      return string\n",
        "    if node.value == \"(.)\":\n",
        "      string = \"(\" + rl + \")\"\n",
        "      return string\n",
        "    if node.value == \"[.]\":\n",
        "      string = \"[\" + rl + \"]\"\n",
        "      return string\n",
        "    if node.value == \"[^.]\":\n",
        "      string = \"[^\" + rl + \"]\"\n",
        "      return string\n",
        "    if node.value == \"..\":\n",
        "      string = rl + rr\n",
        "      return string\n",
        "    if node.value == \".|.\":\n",
        "      string = rl + \"|\" + rr\n",
        "      return string\n",
        "    if node.value == \".{.,.}+\":\n",
        "      string = rl + \"{\" + rr + \",\" + rt + \"}+\"\n",
        "      return string\n",
        "    print(\"MATCHOVO SE SA FUNCTIONAL A NIJE FUNCTIONAL \" + node.value)\n",
        "  #ako je dosao do ovde je root\n",
        "  string = rl + rr\n",
        "  return string\n"
      ],
      "execution_count": 303,
      "outputs": []
    },
    {
      "cell_type": "code",
      "metadata": {
        "id": "HPnhgi_4Eubx",
        "colab": {
          "base_uri": "https://localhost:8080/"
        },
        "outputId": "52408f66-998c-4d0b-9003-30143806f6f1"
      },
      "source": [
        "#testiranje gore navedenih funkcija\n",
        "n = Node(0, True)\n",
        "p = treeToString(n)\n",
        "print(p)\n",
        "re.compile(p)\n",
        "roditelji = treeNumeration(n)\n",
        "print(roditelji)\n",
        "print(len(roditelji))\n"
      ],
      "execution_count": 304,
      "outputs": [
        {
          "output_type": "stream",
          "text": [
            "[^\\d*]?e*\n",
            "{0: [<__main__.Node object at 0x7f72490aadd8>, <__main__.Node object at 0x7f72490aa4a8>], 1: [<__main__.Node object at 0x7f72490aaeb8>], 2: [<__main__.Node object at 0x7f72490aaac8>], 3: [<__main__.Node object at 0x7f72490aa080>], 4: [-1], 5: [<__main__.Node object at 0x7f72490aa9b0>], 6: [-1]}\n",
            "7\n"
          ],
          "name": "stdout"
        }
      ]
    },
    {
      "cell_type": "code",
      "metadata": {
        "id": "Uj_P2KA95mus"
      },
      "source": [
        "class Individual:\n",
        "  #Kako resavamo problem plain strings nase wi= 10\n",
        "    def __init__(self, setM, setU):\n",
        "        #kod je ustvari neko apstrakto drvo koje cuva odredjeni regex u sebi\n",
        "        #napraviti f-ju initialize koja poziva konstruktor noda sve dok ne dobije regex koji je validan\n",
        "        self.code = self.initialize()\n",
        "        self.wi = 10\n",
        "        self.setM = setM.copy()\n",
        "        self.setU = setU.copy()\n",
        "\n",
        "        self.n_m = 0\n",
        "        self.n_u = 0\n",
        "        #n_m - n_u - maximize\n",
        "        self.fitnessFunction = self.calculateFitnessFunction()\n",
        "        #length of r - minimize\n",
        "        self.fitnessRegex = self.calculateFitnessRegex()\n",
        "        #zapravo fitness racunamo kao wi*(n_m - n_u) - length(r)\n",
        "        self.fitness = self.finalFitness()\n",
        "    \n",
        "    def finalFitness(self):\n",
        "      return self.wi * self.calculateFitnessFunction() - self.calculateFitnessRegex()\n",
        "\n",
        "\n",
        "    def initialize(self):\n",
        "      generated = False\n",
        "      while(not generated):\n",
        "        n = Node(0, True)\n",
        "        treeString = treeToString(n)\n",
        "        try:\n",
        "          re.compile(treeString)\n",
        "          #ako kompilacija regexa ne izazove exception, onda je to validan regex i prihvatamo ovu jedinku\n",
        "          generated = True \n",
        "        except Exception:\n",
        "          continue\n",
        "          #print(\"Generating another one\")\n",
        "        \n",
        "      return n\n",
        "\n",
        "    def isFeasible(self):\n",
        "      treeString = treeToString(self.code)\n",
        "      try:\n",
        "        re.compile(treeString)\n",
        "        return True\n",
        "      except Exception:\n",
        "        return False\n",
        "\n",
        "    def __lt__(self, other):\n",
        "      #Dakle zapravo zelimo da maksimizujemo taj skor\n",
        "      return self.fitness > other.fitness\n",
        "\n",
        "    def calculateFitnessFunction(self):\n",
        "        #pretvoriti drvo u regex i videti i izracunati n_m - n_u\n",
        "        string = treeToString(self.code)\n",
        "        for wordM, wordU in zip(self.setM, self.setU): \n",
        "          #vratice nam listu stringova koji se poklapaju\n",
        "          matchM = re.findall(string, wordM)\n",
        "          matchU = re.findall(string, wordU)\n",
        "          for m in matchM:\n",
        "            #add : or m in wordM\n",
        "            if len(m) == len(wordM):\n",
        "              self.n_m +=1\n",
        "            \n",
        "          for m in  matchU:\n",
        "            #add:or m in wordU\n",
        "            if len(m) == len(wordU):\n",
        "              self.n_u += 1\n",
        "        return self.n_m - self.n_u\n",
        "\n",
        "    def calculateFitnessRegex(self):\n",
        "        #pretvoriti drvo u string i vratiti njegovu duzinu\n",
        "        string = treeToString(self.code)\n",
        "        return len(string)\n",
        "    \n",
        "    def __str__(self):\n",
        "      treeString = treeToString(self.code)\n",
        "      return treeString"
      ],
      "execution_count": 305,
      "outputs": []
    },
    {
      "cell_type": "code",
      "metadata": {
        "id": "7M1VZspkJlAk"
      },
      "source": [
        "#Selekcija je klasicna, od sedam slucajno odabranih jedinki biramo onu sa najboljim fitnesom i njen indeks vracamo\n",
        "\n",
        "def selection(population):\n",
        "  betsFitness = float('-inf')\n",
        "  bestIndex = -1\n",
        "\n",
        "  for i in range(TOURNAMENT_SIZE):\n",
        "    index = random.randrange(len(population))\n",
        "    if population[index].fitness > betsFitness:\n",
        "      betsFitness = population[index].fitness\n",
        "      bestIndex = index\n",
        "  return bestIndex"
      ],
      "execution_count": 306,
      "outputs": []
    },
    {
      "cell_type": "code",
      "metadata": {
        "id": "zKwTyD6NgIwB"
      },
      "source": [
        "import copy\n",
        "#znaci ova funkcija mora da primiti individual.code\n",
        "def unvisit(n):\n",
        "  #obilazimo drvo i oznacavamo da cvorovi nisu psoeceni\n",
        "  q = []\n",
        "  q.append(n)\n",
        "  while(len(q) >= 1):\n",
        "    top = q.pop(0)\n",
        "    #print(top)\n",
        "    if(top.id > -1):\n",
        "      top.id = -1\n",
        "      i = top.childrenNum\n",
        "      if i == 1:\n",
        "        q.append(top.left)\n",
        "        \n",
        "      elif i == 2:\n",
        "        q.append(top.left)\n",
        "        q.append(top.right)\n",
        "        \n",
        "      elif i == 3:\n",
        "        q.append(top.left)\n",
        "        q.append(top.right)\n",
        "        q.append(top.third)\n",
        "        \n",
        "def replace(root, position, child, address):\n",
        "  #pokusavamo da nadjemo cvor koji je numerisan brojem position, i njegovo dete(levo-0, desno-1, trece-2), menjamo dreesom podstabla address\n",
        "  red = []\n",
        "  red.append(root)\n",
        "  found = False\n",
        "  while(not found):\n",
        "    node = red.pop(0)\n",
        "    if node.id == position:\n",
        "      found = True\n",
        "      if child == 0:\n",
        "        node.left = address\n",
        "      elif child == 1:\n",
        "        node.right = address\n",
        "      else:\n",
        "        node.third = address\n",
        "    else:\n",
        "      children = node.childrenNum\n",
        "      if children == 1:\n",
        "        red.append(node.left)\n",
        "      elif children == 2:\n",
        "        red.append(node.left)\n",
        "        red.append(node.right)\n",
        "      elif children == 3:\n",
        "        red.append(node.left)\n",
        "        red.append(node.right)\n",
        "        red.append(node.third)\n",
        "    #print(root)\n",
        "def crossover(parent1, parent2, child1, child2):\n",
        "  #definisemo jednopoziciono ukrstanje\n",
        "  map1 = treeNumeration(parent1.code)\n",
        "  map2 = treeNumeration(parent2.code)\n",
        "  \n",
        "  parent1Size = len(map1)\n",
        "  parent2Size = len(map2) \n",
        "\n",
        "  breakpoint = -1\n",
        "  if parent1Size <= parent2Size:\n",
        "    breakpoint = random.randrange(parent1Size)\n",
        "  else:\n",
        "    breakpoint = random.randrange(parent2Size)\n",
        "\n",
        "  find = breakpoint\n",
        "  #print(\"Id podstabla \" + str(find))\n",
        "  #print(\"Breakpoint \" + str(breakpoint))\n",
        "  #u pitanju je koren\n",
        "  if find == 0:\n",
        "    #print(\"Root has been chosen \" + str(find))\n",
        "    child1.code = copy.deepcopy(parent2.code)\n",
        "    child2.code = copy.deepcopy(parent1.code)\n",
        "  else:\n",
        "    child1.code = copy.deepcopy(parent1.code)\n",
        "    child2.code = copy.deepcopy(parent2.code)\n",
        "    \n",
        "    unvisit(child1.code)\n",
        "    unvisit(child2.code)\n",
        "    #znamo da ce cvorovi biti isto numerisani\n",
        "    mapChild1 = treeNumeration(child1.code)\n",
        "    mapChild2 = treeNumeration(child2.code)\n",
        "    \n",
        "    map1Keys = mapChild1.keys()\n",
        "    map2Keys = mapChild2.keys()\n",
        "\n",
        "    replaceAtPositionParent1 = -1\n",
        "    childAdress1 = -1\n",
        "    side1 = -1\n",
        "    replaceAtPositionParent2 = -1\n",
        "    childAdress2 = -1\n",
        "    side2 = -1\n",
        "\n",
        "    #print(find)\n",
        "    for i in map1Keys:\n",
        "      children = mapChild1[i]\n",
        "      index = 0;\n",
        "      for child in children:\n",
        "        if child == -1:\n",
        "          continue\n",
        "        if find == child.id:\n",
        "          #id roditelja podstabla koje menjamo\n",
        "          replaceAtPositionParent1 = i\n",
        "          #pokazivac na podstablo koje menjamo\n",
        "          childAdress1 = child\n",
        "          #broj koji sugerise d ali je levo(0), desno(1), ili trece(2) dete\n",
        "          side1 = index\n",
        "        else:\n",
        "          index+=1\n",
        "    #isto i ovde\n",
        "    for i in map2Keys:\n",
        "      children = mapChild2[i]\n",
        "      index = 0\n",
        "      for child in children:\n",
        "        if child == -1:\n",
        "          continue\n",
        "        if find == child.id:\n",
        "          replaceAtPositionParent2 = i\n",
        "          childAdress2 = child\n",
        "          side2 = index\n",
        "        else:\n",
        "          index+=1\n",
        "  \n",
        "    #print(\"adresa pozicije\")\n",
        "    #print(replaceAtPositionParent1)\n",
        "    replace(child1.code, replaceAtPositionParent1, side1, childAdress2)\n",
        "    replace(child2.code, replaceAtPositionParent2, side2, childAdress1) \n",
        "\n",
        "    if not child1.isFeasible():\n",
        "      #odbaci ga nekako?\n",
        "      child1.code = copy.deepcopy(parent1)\n",
        "    if not child2.isFeasible():\n",
        "      #odbaciti nekako\n",
        "      child2.code = copy.deepcopy(parent2)\n",
        "    #cvorovi na koje pokazujem su vec poseceni pa ih samo oznacimkao da nisu poseceni\n",
        "    #IDEJA:pre svakog treeNumeration pozovi unvisit da do ovoga ne bi dolazilo\n",
        "    #unvisit(child1.code)\n",
        "    #unvisit(child2.code)\n"
      ],
      "execution_count": 307,
      "outputs": []
    },
    {
      "cell_type": "code",
      "metadata": {
        "colab": {
          "base_uri": "https://localhost:8080/"
        },
        "id": "QfavqG-IbMIb",
        "outputId": "84c0e038-e2d4-46e0-cad0-d9fad34e60ed"
      },
      "source": [
        "#testiranje crossovera\n",
        "node1 = Individual(match, unmatch)\n",
        "node2 = Individual(match, unmatch)\n",
        "print(node1)\n",
        "print(node2)\n",
        "child1 = Individual(match, unmatch)\n",
        "child2 = Individual(match, unmatch)\n",
        "crossover(node1, node2, child1, child2)\n",
        "unvisit(child1.code)\n",
        "print(len(treeNumeration(child1.code)))\n",
        "print(child1)\n",
        "print(child2)"
      ],
      "execution_count": 308,
      "outputs": [
        {
          "output_type": "stream",
          "text": [
            "\\s{l,l-p}+[r-u]\n",
            "afoo[[^0-9+]]\n",
            "10\n",
            "\\s{[[^0-9+]],l-p}+[r-u]\n",
            "afool\n"
          ],
          "name": "stdout"
        }
      ]
    },
    {
      "cell_type": "code",
      "metadata": {
        "id": "yj_mlJROg4IY"
      },
      "source": [
        "def mutation(individual):\n",
        "  MUTATION_PROB = 0.1\n",
        "  q = random.random()\n",
        "  #q = 0.01\n",
        "  \n",
        "  if MUTATION_PROB > q:\n",
        "    #zelimo da pre mutacije sacuvamo trenutno drvo odnosno kod \n",
        "    oldCode= copy.deepcopy(individual.code)\n",
        "    mapaSuseda = treeNumeration(individual.code)\n",
        "    choiceRange = len(mapaSuseda)\n",
        "    #print(choiceRange)\n",
        "\n",
        "    index = random.randrange(choiceRange)\n",
        "    #oblizaimo drvo dok se ne pozicioniramo na cvor sa datim indeksom\n",
        "    previousValue = \"\"\n",
        "    found = False\n",
        "\n",
        "    q = []\n",
        "    q.append(individual.code)\n",
        "    while(not found):\n",
        "      n = q.pop(0)\n",
        "      if n.id == index:\n",
        "        #dosli smo u cvor sa datim indeksom\n",
        "        found = True\n",
        "        previousValue = n.value\n",
        "        if n.value in FUNCTION_SET:\n",
        "          #znamo da je onda u pitanju neki unutrasnji cvor\n",
        "          newValue = random.choice(FUNCTION_SET)\n",
        "          n.value = newValue\n",
        "          children = n.childrenNum\n",
        "          #print(children)\n",
        "          if n.value in [\".*\", \".+\", \".?\", \"(.)\", \"[.]\", \"[^.]\"] and children != 1:\n",
        "            n.right = None\n",
        "            if children == 3:\n",
        "              n.third = None\n",
        "            n.childrenNum = 1\n",
        "          elif n.value in [\"..\", \".|.\"] and children != 2:\n",
        "            if children == 1:\n",
        "              n.right = Node(n.depth+1, False)\n",
        "            else:\n",
        "              #znaci da ima troje dece\n",
        "              n.third = None\n",
        "            n.childrenNum = 2\n",
        "          elif n.value == \".{.,.}+\" and children != 3:\n",
        "            if children == 1:\n",
        "              n.right = Node(n.depth+1, False)\n",
        "              n.third = Node(n.depth+1, False)\n",
        "            else:\n",
        "              #znaci da ima 2 dece\n",
        "              n.third = Node(n.depth, False)\n",
        "            n.childrenNum = 3\n",
        "          if not individual.isFeasible():\n",
        "            individual.code = oldCode\n",
        "        else:\n",
        "          #znamo da je onda u pitanju neki list i nivu vrednost bitramo iz terminal_set-a\n",
        "          newValue = random.choice(TERMINAL_SET)\n",
        "          n.value = newValue\n",
        "          if not individual.isFeasible():\n",
        "            n.value = previousValue\n",
        "      else:\n",
        "        children = n.childrenNum\n",
        "        if children == 0:\n",
        "          continue\n",
        "        elif children == 1:\n",
        "          q.append(n.left)\n",
        "        elif children == 2:\n",
        "          q.append(n.left)\n",
        "          q.append(n.right)\n",
        "        elif children == 3:\n",
        "          q.append(n.left)\n",
        "          q.append(n.right)\n",
        "          q.append(n.third)\n"
      ],
      "execution_count": 314,
      "outputs": []
    },
    {
      "cell_type": "code",
      "metadata": {
        "colab": {
          "base_uri": "https://localhost:8080/"
        },
        "id": "QNZRYYmSoybz",
        "outputId": "1490662f-1df6-4abe-ad46-8ca4fff27431"
      },
      "source": [
        "n = Individual(match, unmatch)\n",
        "print(n)\n",
        "mutation(n)\n",
        "print(n)"
      ],
      "execution_count": 315,
      "outputs": [
        {
          "output_type": "stream",
          "text": [
            "rc\n",
            "rc\n"
          ],
          "name": "stdout"
        }
      ]
    },
    {
      "cell_type": "markdown",
      "metadata": {
        "id": "RXddTWc878MS"
      },
      "source": [
        "\r\n",
        "- Prvih |M| jedinki populacije se formiraju tako sto se koriste samo slova iz trenutne reci i operator konkatenacije (..)\r\n",
        "- Ostalih POPULATION_SIZE-|M| jedinki se formiraju random, dubine drveta 1-5"
      ]
    },
    {
      "cell_type": "markdown",
      "metadata": {
        "id": "JUWTwnw9-pOC"
      },
      "source": [
        "Formiranje nove populacije:\r\n",
        "- 10% random\r\n",
        "- 10% mutacijom\r\n",
        "- 80% ukrstanje"
      ]
    },
    {
      "cell_type": "code",
      "metadata": {
        "id": "Fbu8GKpM5r7r"
      },
      "source": [
        "def genetic_programming():\r\n",
        "    population = [Individual(match, unmatch) for _ in range(POPULATION_SIZE)]\r\n",
        "    newPopulation = [Individual(match, unmatch) for _ in range(POPULATION_SIZE)]\r\n",
        "\r\n",
        "    solutions = []\r\n",
        "    solutionFound = False\r\n",
        "    GENERATIONS_NUM = 200\r\n",
        "    for i in range(GENERATIONS_NUM):\r\n",
        "        population.sort()\r\n",
        "\r\n",
        "        if population[0].fitnessFunction == num_m:\r\n",
        "            #ako ne radi sort lepo izvadi odavde najkraci IDEJA\r\n",
        "            solutions.append(population[0])\r\n",
        "            solutionFound = True\r\n",
        "\r\n",
        "        for j in range(0, POPULATION_SIZE, 2):\r\n",
        "            parent1Index = selection(population)\r\n",
        "            parent2Index = selection(population)\r\n",
        "\r\n",
        "            crossover(population[parent1Index], population[parent2Index], newPopulation[j], newPopulation[j+1])\r\n",
        "\r\n",
        "            mutation(newPopulation[j])\r\n",
        "            mutation(newPopulation[j+1])\r\n",
        "\r\n",
        "            newPopulation[j].fitness = newPopulation[j].finalFitness()\r\n",
        "            newPopulation[j+1].fitness = newPopulation[j+1].finalFitness()\r\n",
        "\r\n",
        "        population = newPopulation\r\n",
        "    population.sort()\r\n",
        "    for i in range(20):\r\n",
        "      print(population[i])\r\n",
        "      print(\"Fitness: \" + str(population[i].fitness))\r\n",
        "    print(solutions)"
      ],
      "execution_count": 316,
      "outputs": []
    },
    {
      "cell_type": "code",
      "metadata": {
        "id": "mNHxAYetHZtd",
        "colab": {
          "base_uri": "https://localhost:8080/"
        },
        "outputId": "5ba20fe0-705c-4520-c843-dd36a744fde0"
      },
      "source": [
        "genetic_programming()"
      ],
      "execution_count": 319,
      "outputs": [
        {
          "output_type": "stream",
          "text": [
            "y\n",
            "Fitness: 129\n",
            "f\n",
            "Fitness: 79\n",
            "y\n",
            "Fitness: 79\n",
            "f\n",
            "Fitness: 79\n",
            "$\n",
            "Fitness: 79\n",
            "d\n",
            "Fitness: 69\n",
            "w\n",
            "Fitness: 19\n",
            "n\n",
            "Fitness: 19\n",
            "a\n",
            "Fitness: -1\n",
            "y\n",
            "Fitness: -1\n",
            "y\n",
            "Fitness: -1\n",
            "y\n",
            "Fitness: -1\n",
            "w\n",
            "Fitness: -1\n",
            "w\n",
            "Fitness: -1\n",
            "w\n",
            "Fitness: -1\n",
            "o\n",
            "Fitness: -1\n",
            "w\n",
            "Fitness: -1\n",
            "r\n",
            "Fitness: -1\n",
            "o\n",
            "Fitness: -1\n",
            "f\n",
            "Fitness: -1\n",
            "[]\n"
          ],
          "name": "stdout"
        }
      ]
    },
    {
      "cell_type": "code",
      "metadata": {
        "id": "Ba0G8G40N8Pu"
      },
      "source": [
        ""
      ],
      "execution_count": 298,
      "outputs": []
    }
  ]
}