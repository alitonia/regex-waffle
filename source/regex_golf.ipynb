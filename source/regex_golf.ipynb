{
 "nbformat": 4,
 "nbformat_minor": 0,
 "metadata": {
  "colab": {
   "name": "regex_golf.ipynb",
   "provenance": [],
   "collapsed_sections": []
  },
  "kernelspec": {
   "name": "python3",
   "display_name": "Python 3"
  }
 },
 "cells": [
  {
   "cell_type": "markdown",
   "metadata": {
    "id": "ISPE_Lhzn-Ap"
   },
   "source": [
    "# Data preparation"
   ]
  },
  {
   "cell_type": "markdown",
   "metadata": {
    "id": "1HNfv6NG-T-O"
   },
   "source": [
    "**Loading datasets from file**\n",
    "  - in the first line are words for which we need to find matching regex (set M) \n",
    "  - in the second line are words for which found regex can't match (set U) \n",
    "  - words are separated with comma ','"
   ]
  },
  {
   "cell_type": "code",
   "metadata": {
    "id": "UeMYatGC84Z2"
   },
   "source": [
    "def readFile(filename):\n",
    "\twith open(filename, 'r') as f:\n",
    "\t\tmatch = [word for word in f.readline().split(\", \")]\n",
    "\t\t# removing of new line from last word in M\n",
    "\t\tmatch[-1] = match[-1][:-1]\n",
    "\t\tunmatch = [word for word in f.readline().split(\", \")]\n",
    "\n",
    "\treturn match, unmatch"
   ],
   "execution_count": 126,
   "outputs": []
  },
  {
   "cell_type": "code",
   "metadata": {
    "id": "urj9UlsW91GF"
   },
   "source": [
    "# word sets M and U\n",
    "match, unmatch = readFile(\"../datasets/sample.txt\")\n",
    "print(\"set M: \", match)\n",
    "print(\"set U: \", unmatch)"
   ],
   "execution_count": 127,
   "outputs": [
    {
     "name": "stderr",
     "output_type": "stream",
     "text": [
      "IOPub data rate exceeded.\n",
      "The notebook server will temporarily stop sending output\n",
      "to the client in order to avoid crashing it.\n",
      "To change this limit, set the config variable\n",
      "`--NotebookApp.iopub_data_rate_limit`.\n",
      "\n",
      "Current values:\n",
      "NotebookApp.iopub_data_rate_limit=1000000.0 (bytes/sec)\n",
      "NotebookApp.rate_limit_window=3.0 (secs)\n",
      "\n"
     ]
    }
   ]
  },
  {
   "cell_type": "code",
   "execution_count": 128,
   "outputs": [],
   "source": [
    "from urllib.parse import urlparse, parse_qs\n",
    "frac_match = [urlparse(x) for x in match]\n",
    "dict_match = dict()\n",
    "\n",
    "for link in frac_match:\n",
    "\tif dict_match.get(link.path) is None:\n",
    "\t\tdict_match[link.path] = dict()\n",
    "\t\tdict_match[link.path]['pos'] = [link.query]\n",
    "\telse:\n",
    "\t\ttry:\n",
    "\t\t\tif dict_match[link.path]['pos'].index(link.query):\n",
    "\t\t\t\tpass\n",
    "\t\texcept ValueError:\n",
    "\t\t\tdict_match[link.path]['pos'].append(link.query)\n",
    "\n",
    "#\n",
    "frac_unmatch = [urlparse(x) for x in unmatch]\n",
    "\n",
    "for link in frac_unmatch:\n",
    "\tif dict_match.get(link.path) is None:\n",
    "\t\tdict_match[link.path] = dict()\n",
    "\t\tdict_match[link.path]['neg'] = [link.query]\n",
    "\telif dict_match.get(link.path).get('neg') is None:\n",
    "\t\tdict_match[link.path]['neg'] = [link.query]\n",
    "\telse:\n",
    "\t\ttry:\n",
    "\t\t\tif dict_match[link.path]['neg'].index(link.query):\n",
    "\t\t\t\tpass\n",
    "\t\texcept ValueError:\n",
    "\t\t\tdict_match[link.path]['neg'].append(link.query)\n",
    "\n",
    "\n",
    "\n",
    "# frac_match"
   ],
   "metadata": {
    "collapsed": false,
    "pycharm": {
     "name": "#%%\n"
    }
   }
  },
  {
   "cell_type": "code",
   "execution_count": 129,
   "outputs": [
    {
     "ename": "TabError",
     "evalue": "inconsistent use of tabs and spaces in indentation (<ipython-input-129-c23364b89a33>, line 11)",
     "output_type": "error",
     "traceback": [
      "\u001B[0;36m  File \u001B[0;32m\"<ipython-input-129-c23364b89a33>\"\u001B[0;36m, line \u001B[0;32m11\u001B[0m\n\u001B[0;31m    return  unique_list\u001B[0m\n\u001B[0m                       ^\u001B[0m\n\u001B[0;31mTabError\u001B[0m\u001B[0;31m:\u001B[0m inconsistent use of tabs and spaces in indentation\n"
     ]
    }
   ],
   "source": [
    "def unique(list1):\n",
    "\n",
    "    # initialize a null list\n",
    "    unique_list = []\n",
    "\n",
    "    # traverse for all elements\n",
    "    for x in list1:\n",
    "        # check if exists in unique_list or not\n",
    "        if x not in unique_list:\n",
    "            unique_list.append(x)\n",
    "\treturn  unique_list\n"
   ],
   "metadata": {
    "collapsed": false,
    "pycharm": {
     "name": "#%%\n"
    }
   }
  },
  {
   "cell_type": "code",
   "execution_count": 191,
   "outputs": [
    {
     "ename": "TypeError",
     "evalue": "can only join an iterable",
     "output_type": "error",
     "traceback": [
      "\u001B[0;31m---------------------------------------------------------------------------\u001B[0m",
      "\u001B[0;31mTypeError\u001B[0m                                 Traceback (most recent call last)",
      "\u001B[0;32m<ipython-input-191-87edc06d122e>\u001B[0m in \u001B[0;36m<module>\u001B[0;34m\u001B[0m\n\u001B[1;32m      6\u001B[0m \u001B[0;31m# unmatch_ed = []\u001B[0m\u001B[0;34m\u001B[0m\u001B[0;34m\u001B[0m\u001B[0;34m\u001B[0m\u001B[0m\n\u001B[1;32m      7\u001B[0m \u001B[0;34m\u001B[0m\u001B[0m\n\u001B[0;32m----> 8\u001B[0;31m \u001B[0munmatch\u001B[0m \u001B[0;34m=\u001B[0m \u001B[0;34m[\u001B[0m\u001B[0;34m' '\u001B[0m\u001B[0;34m.\u001B[0m\u001B[0mjoin\u001B[0m\u001B[0;34m(\u001B[0m\u001B[0mparse_qs\u001B[0m\u001B[0;34m(\u001B[0m\u001B[0mx\u001B[0m\u001B[0;34m)\u001B[0m\u001B[0;34m.\u001B[0m\u001B[0mget\u001B[0m\u001B[0;34m(\u001B[0m\u001B[0;34m'cantidad'\u001B[0m\u001B[0;34m)\u001B[0m\u001B[0;34m)\u001B[0m\u001B[0;32mfor\u001B[0m \u001B[0mx\u001B[0m \u001B[0;32min\u001B[0m \u001B[0munmatch\u001B[0m\u001B[0;34m]\u001B[0m\u001B[0;34m\u001B[0m\u001B[0;34m\u001B[0m\u001B[0m\n\u001B[0m\u001B[1;32m      9\u001B[0m \u001B[0mprint\u001B[0m\u001B[0;34m(\u001B[0m\u001B[0munmatch\u001B[0m\u001B[0;34m)\u001B[0m\u001B[0;34m\u001B[0m\u001B[0;34m\u001B[0m\u001B[0m\n\u001B[1;32m     10\u001B[0m \u001B[0;34m\u001B[0m\u001B[0m\n",
      "\u001B[0;32m<ipython-input-191-87edc06d122e>\u001B[0m in \u001B[0;36m<listcomp>\u001B[0;34m(.0)\u001B[0m\n\u001B[1;32m      6\u001B[0m \u001B[0;31m# unmatch_ed = []\u001B[0m\u001B[0;34m\u001B[0m\u001B[0;34m\u001B[0m\u001B[0;34m\u001B[0m\u001B[0m\n\u001B[1;32m      7\u001B[0m \u001B[0;34m\u001B[0m\u001B[0m\n\u001B[0;32m----> 8\u001B[0;31m \u001B[0munmatch\u001B[0m \u001B[0;34m=\u001B[0m \u001B[0;34m[\u001B[0m\u001B[0;34m' '\u001B[0m\u001B[0;34m.\u001B[0m\u001B[0mjoin\u001B[0m\u001B[0;34m(\u001B[0m\u001B[0mparse_qs\u001B[0m\u001B[0;34m(\u001B[0m\u001B[0mx\u001B[0m\u001B[0;34m)\u001B[0m\u001B[0;34m.\u001B[0m\u001B[0mget\u001B[0m\u001B[0;34m(\u001B[0m\u001B[0;34m'cantidad'\u001B[0m\u001B[0;34m)\u001B[0m\u001B[0;34m)\u001B[0m\u001B[0;32mfor\u001B[0m \u001B[0mx\u001B[0m \u001B[0;32min\u001B[0m \u001B[0munmatch\u001B[0m\u001B[0;34m]\u001B[0m\u001B[0;34m\u001B[0m\u001B[0;34m\u001B[0m\u001B[0m\n\u001B[0m\u001B[1;32m      9\u001B[0m \u001B[0mprint\u001B[0m\u001B[0;34m(\u001B[0m\u001B[0munmatch\u001B[0m\u001B[0;34m)\u001B[0m\u001B[0;34m\u001B[0m\u001B[0;34m\u001B[0m\u001B[0m\n\u001B[1;32m     10\u001B[0m \u001B[0;34m\u001B[0m\u001B[0m\n",
      "\u001B[0;31mTypeError\u001B[0m: can only join an iterable"
     ]
    }
   ],
   "source": [
    "dict_match['/tienda1/publico/anadir.jsp'].get('pos').__len__()\n",
    "\n",
    "match, unmatch = dict_match['/tienda1/publico/anadir.jsp'].get('pos'), dict_match['/tienda1/publico/anadir.jsp'].get('neg')\n",
    "\n",
    "match_ed = [' '.join(parse_qs(x).get('cantidad')) for x in match]\n",
    "# unmatch_ed = []\n",
    "\n",
    "unmatch = [' '.join(parse_qs(x).get('cantidad')) for x in unmatch]\n",
    "print(unmatch)\n"
   ],
   "metadata": {
    "collapsed": false,
    "pycharm": {
     "name": "#%%\n"
    }
   }
  },
  {
   "cell_type": "code",
   "metadata": {
    "id": "EGt04P3F_Zyu"
   },
   "source": [
    "# number of words in sets\n",
    "num_m = len(match_ed)\n",
    "num_u = len(unmatch_ed)\n",
    "print(num_m)\n",
    "print(num_u)"
   ],
   "execution_count": 160,
   "outputs": [
    {
     "name": "stdout",
     "output_type": "stream",
     "text": [
      "838\n",
      "0\n"
     ]
    }
   ]
  },
  {
   "cell_type": "code",
   "execution_count": 188,
   "outputs": [
    {
     "name": "stdout",
     "output_type": "stream",
     "text": [
      "[]\n"
     ]
    }
   ],
   "source": [
    "match, unmatch = match_ed, unmatch_ed\n",
    "print(unmatch_ed)"
   ],
   "metadata": {
    "collapsed": false,
    "pycharm": {
     "name": "#%%\n"
    }
   }
  },
  {
   "cell_type": "markdown",
   "metadata": {
    "id": "MURatuNTEsXH"
   },
   "source": [
    "**Sorted set of characters that appear in M**"
   ]
  },
  {
   "cell_type": "code",
   "metadata": {
    "id": "0W6_Yhe0DyJR"
   },
   "source": [
    "def charsInSet(wordSet):\n",
    "\tchars = []\n",
    "\n",
    "\tfor word in wordSet:\n",
    "\t\tfor c in word:\n",
    "\t\t\tif c not in chars:\n",
    "\t\t\t\tchars.append(c)\n",
    "\n",
    "\tchars.sort()\n",
    "\n",
    "\treturn chars"
   ],
   "execution_count": 162,
   "outputs": []
  },
  {
   "cell_type": "code",
   "metadata": {
    "id": "8fh6YP-iEGUb"
   },
   "source": [
    "chars_in_M = charsInSet(match)\n",
    "print(chars_in_M)"
   ],
   "execution_count": 163,
   "outputs": [
    {
     "name": "stdout",
     "output_type": "stream",
     "text": [
      "['0', '1', '2', '3', '4', '5', '6', '7', '8', '9']\n"
     ]
    }
   ]
  },
  {
   "cell_type": "markdown",
   "metadata": {
    "id": "Jca6y4S-ExZ_"
   },
   "source": [
    "**Partial ranges of characters in M**"
   ]
  },
  {
   "cell_type": "code",
   "metadata": {
    "id": "fmjDtrNFAQRR"
   },
   "source": [
    "def makeRanges(chars_in_M):\n",
    "\tranges = []\n",
    "\tdone = False\n",
    "\ti = 0\n",
    "\n",
    "\twhile i < len(chars_in_M) - 1:\n",
    "\t\tdistance = 0\n",
    "\t\tfor j in range(i + 1, len(chars_in_M)):\n",
    "\t\t\tprint(chars_in_M[j], chars_in_M[i])\n",
    "\t\t\tif ord(chars_in_M[j]) - ord(chars_in_M[i]) == distance + 1:\n",
    "\t\t\t\tdistance += 1\n",
    "\t\t\t\t# if range contains last character from chars_in_M,\n",
    "\t\t\t\t# we exit both loops (search is done)\n",
    "\t\t\t\tif j == (len(chars_in_M) - 1):\n",
    "\t\t\t\t\tranges.append(chars_in_M[i] + '-' + chars_in_M[j])\n",
    "\t\t\t\t\tdone = True\n",
    "\t\t\t\t\tbreak\n",
    "\t\t\telse:\n",
    "\t\t\t\tif chars_in_M[i] != chars_in_M[j - 1]:\n",
    "\t\t\t\t\tranges.append(chars_in_M[i] + '-' + chars_in_M[j - 1])\n",
    "\t\t\t\ti = j\n",
    "\t\t\t\tbreak\n",
    "\t\tif done:\n",
    "\t\t\tbreak\n",
    "\n",
    "\treturn ranges"
   ],
   "execution_count": 164,
   "outputs": []
  },
  {
   "cell_type": "code",
   "metadata": {
    "id": "djfuWM9kARZI"
   },
   "source": [
    "ranges = makeRanges(chars_in_M)\n",
    "print(ranges)"
   ],
   "execution_count": 165,
   "outputs": [
    {
     "name": "stdout",
     "output_type": "stream",
     "text": [
      "1 0\n",
      "2 0\n",
      "3 0\n",
      "4 0\n",
      "5 0\n",
      "6 0\n",
      "7 0\n",
      "8 0\n",
      "9 0\n",
      "['0-9']\n"
     ]
    }
   ]
  },
  {
   "cell_type": "markdown",
   "metadata": {
    "id": "9W6gGCDjGkIj"
   },
   "source": [
    "**n-grams**"
   ]
  },
  {
   "cell_type": "code",
   "metadata": {
    "id": "okk1oZ_LGvFa"
   },
   "source": [
    "def ngram(M, U):\n",
    "\tres = {}\n",
    "\n",
    "\t# length of n-grams is between 2 and 4\n",
    "\tfor n in range(1, 5):\n",
    "\t\t# we go through all elements in M\n",
    "\t\tfor i in range(0, len(M)):\n",
    "\t\t\tword_m = M[i]\n",
    "\n",
    "\t\t\t# n-grams from current element\n",
    "\t\t\tngrams_m = zip(*[word_m[i:] for i in range(n)])\n",
    "\t\t\tgram_m = [\"\".join(gr) for gr in ngrams_m]\n",
    "\n",
    "\t\t\t# we need set of n-grams\n",
    "\t\t\tgram_m = set(gram_m)\n",
    "\n",
    "\t\t\t# we update score for n-gram by +1, if it can be found in M\n",
    "\t\t\tfor g in gram_m:\n",
    "\t\t\t\tif g not in res:\n",
    "\t\t\t\t\tres[g] = 1\n",
    "\t\t\t\telif g in res:\n",
    "\t\t\t\t\tres[g] += 1\n",
    "\n",
    "\t\t# we go through all elements in U\n",
    "\t\tfor j in range(0, len(U)):\n",
    "\t\t\tword_u = U[j]\n",
    "\n",
    "\t\t\tngrams_u = zip(*[word_u[j:] for j in range(n)])\n",
    "\t\t\tgram_u = [\"\".join(gr) for gr in ngrams_u]\n",
    "\t\t\tgram_u = set(gram_u)\n",
    "\n",
    "\t\t\t# we update score for n-gram by -1, if it can be found in U\n",
    "\t\t\tfor g in gram_u:\n",
    "\t\t\t\tif g not in res:\n",
    "\t\t\t\t\tres[g] = -1\n",
    "\t\t\t\telif g in res:\n",
    "\t\t\t\t\tres[g] -= 1\n",
    "\n",
    "\treturn res"
   ],
   "execution_count": 168,
   "outputs": []
  },
  {
   "cell_type": "code",
   "metadata": {
    "id": "xwy2yN8TowU3"
   },
   "source": [
    "ngrams = ngram(match, unmatch)\n",
    "ngrams = sorted(ngrams.items(), key=lambda x: x[1], reverse=True)\n",
    "\n",
    "# ngram_subset is the smallest subset of n-grams\n",
    "# for which total score equals at least |M|\n",
    "# (|M| = number of elements in M)\n",
    "ngram_subset = []\n",
    "score = 0\n",
    "\n",
    "for i in range(len(ngrams)):\n",
    "\tif ngrams[i][1] > 0:  # we update only if score is positive\n",
    "\t\tscore += ngrams[i][1]\n",
    "\t\tngram_subset.append(ngrams[i][0])\n",
    "\n",
    "\t\tif score >= num_m:\n",
    "\t\t\tbreak\n",
    "\n",
    "print(ngram_subset)"
   ],
   "execution_count": 169,
   "outputs": [
    {
     "name": "stdout",
     "output_type": "stream",
     "text": [
      "['5', '6', '3', '8', '7', '9']\n"
     ]
    }
   ]
  },
  {
   "cell_type": "markdown",
   "metadata": {
    "id": "OJ1LqEhCAdnP"
   },
   "source": [
    "**Terminal i Function skupovi**"
   ]
  },
  {
   "cell_type": "code",
   "metadata": {
    "id": "H1QYV3TkAdVp"
   },
   "source": [
    "# . is a placeholder for child node\n",
    "FUNCTION_SET = [\".*\", \".+\", \".?\", \".{.,.}+\",  # possessive quantifiers\n",
    "                \"(.)\",  # group\n",
    "                \"[.]\",  # character class\n",
    "                \"[^.]\",  # negated character\n",
    "                \"..\",  # concatenator (binary node)\n",
    "                \".|.\",  # disjunction\n",
    "                ]"
   ],
   "execution_count": 170,
   "outputs": []
  },
  {
   "cell_type": "code",
   "metadata": {
    "id": "qq_YS0U6B1jH"
   },
   "source": [
    "TERMINAL_SET = [\"a-z\", \"A-Z\", \"0-9\", \"^\", \"$\", \"%\",  # instance independent terminals\n",
    "                \"\\w\", \"\\W\", \"\\d\", \"\\D\", \"\\b\", \"\\B\", \"\\A\", \"\\Z\", \"\\s\", \"\\S\"\n",
    "                ]"
   ],
   "execution_count": 171,
   "outputs": []
  },
  {
   "cell_type": "code",
   "metadata": {
    "id": "2OTi9DqqwaIW"
   },
   "source": [
    "# chars_in_M set goes in Terminal set\n",
    "TERMINAL_SET.extend(chars_in_M)\n",
    "\n",
    "# ngram_subset goes in Terminal set\n",
    "TERMINAL_SET.extend(ngram_subset)\n",
    "\n",
    "# ranges go in Terminal set\n",
    "TERMINAL_SET.extend(ranges)\n",
    "\n",
    "print(TERMINAL_SET)"
   ],
   "execution_count": 172,
   "outputs": [
    {
     "name": "stdout",
     "output_type": "stream",
     "text": [
      "['a-z', 'A-Z', '0-9', '^', '$', '%', '\\\\w', '\\\\W', '\\\\d', '\\\\D', '\\x08', '\\\\B', '\\\\A', '\\\\Z', '\\\\s', '\\\\S', '0', '1', '2', '3', '4', '5', '6', '7', '8', '9', '5', '6', '3', '8', '7', '9', '0-9']\n"
     ]
    }
   ]
  },
  {
   "cell_type": "markdown",
   "metadata": {
    "id": "9dlZ8YuQ3neO"
   },
   "source": [
    "# Making of Individuals"
   ]
  },
  {
   "cell_type": "code",
   "metadata": {
    "id": "FMD9wViZyB_Z"
   },
   "source": [
    "import re\n",
    "import random"
   ],
   "execution_count": 173,
   "outputs": []
  },
  {
   "cell_type": "markdown",
   "metadata": {
    "id": "tNVz7TuhDc8t"
   },
   "source": [
    "Function *getRandom()* chooses one element from Terminal or Function set"
   ]
  },
  {
   "cell_type": "code",
   "metadata": {
    "id": "YEYrP_-uV4Vt"
   },
   "source": [
    "def getRandom():\n",
    "\tpickSet = random.choice(['f', 't'])\n",
    "\tif pickSet == 't':\n",
    "\t\tvalue = random.choice(FUNCTION_SET)\n",
    "\t\tif value in [\".{.,.}+\"]:\n",
    "\t\t\treturn value, 3\n",
    "\t\telif value in [\".|.\", \"..\"]:\n",
    "\t\t\treturn value, 2\n",
    "\t\telse:\n",
    "\t\t\treturn value, 1\n",
    "\telse:\n",
    "\t\tvalue = random.choice(TERMINAL_SET)\n",
    "\t\treturn value, 0"
   ],
   "execution_count": 174,
   "outputs": []
  },
  {
   "cell_type": "markdown",
   "metadata": {
    "id": "2KMYr_arDmpK"
   },
   "source": [
    "Class *Node* represents abstract tree from which we later get valid regex"
   ]
  },
  {
   "cell_type": "code",
   "metadata": {
    "id": "fdvmyeLPEnSO"
   },
   "source": [
    "class Node(object):\n",
    "\tdef __init__(self, depth, root):\n",
    "\t\tself.depth = depth\n",
    "\t\tself.value = \"\"\n",
    "\t\tself.childrenNum = 0\n",
    "\t\tself.id = -1\n",
    "\n",
    "\t\tif root:\n",
    "\t\t\tself.value = \".\"\n",
    "\t\t\tself.childrenNum = 2\n",
    "\t\telse:\n",
    "\t\t\tself.value, self.childrenNum = getRandom()\n",
    "\n",
    "\t\tself.left = None\n",
    "\t\tself.right = None\n",
    "\t\tself.third = None\n",
    "\n",
    "\t\tif self.childrenNum == 3:\n",
    "\t\t\tself.left = Node(depth + 1, False)\n",
    "\t\t\tself.right = Node(depth + 1, False)\n",
    "\t\t\tself.third = Node(depth + 1, False)\n",
    "\t\telif self.childrenNum == 2:\n",
    "\t\t\tself.left = Node(depth + 1, False)\n",
    "\t\t\tself.right = Node(depth + 1, False)\n",
    "\t\telif self.childrenNum == 1:\n",
    "\t\t\tself.left = Node(depth + 1, False)"
   ],
   "execution_count": 175,
   "outputs": []
  },
  {
   "cell_type": "markdown",
   "metadata": {
    "id": "n6xPNtvCD7Rc"
   },
   "source": [
    "We use BFS algorithm to visit and mark all nodes as *unvisited*"
   ]
  },
  {
   "cell_type": "code",
   "metadata": {
    "id": "FECqx1zDvS8v"
   },
   "source": [
    "def unvisit(n):\n",
    "\tq = []\n",
    "\tq.append(n)\n",
    "\n",
    "\twhile len(q) >= 1:\n",
    "\t\ttop = q.pop(0)\n",
    "\n",
    "\t\tif top.id > -1:\n",
    "\t\t\ttop.id = -1\n",
    "\t\t\ti = top.childrenNum\n",
    "\t\t\tif i == 1:\n",
    "\t\t\t\tq.append(top.left)\n",
    "\n",
    "\t\t\telif i == 2:\n",
    "\t\t\t\tq.append(top.left)\n",
    "\t\t\t\tq.append(top.right)\n",
    "\n",
    "\t\t\telif i == 3:\n",
    "\t\t\t\tq.append(top.left)\n",
    "\t\t\t\tq.append(top.right)\n",
    "\t\t\t\tq.append(top.third)"
   ],
   "execution_count": 176,
   "outputs": []
  },
  {
   "cell_type": "markdown",
   "metadata": {
    "id": "67tJe6W7ECGz"
   },
   "source": [
    "We use BFS algorithm to visit and numerate all nodes"
   ]
  },
  {
   "cell_type": "code",
   "metadata": {
    "id": "Vpw0scGYW21i"
   },
   "source": [
    "def treeNumeration(n):\n",
    "\tunvisit(n)\n",
    "\n",
    "\tparentMap = {}\n",
    "\tq = []\n",
    "\tq.append(n)\n",
    "\tnum = 0\n",
    "\n",
    "\twhile len(q) >= 1:\n",
    "\t\ttop = q.pop(0)\n",
    "\n",
    "\t\tif top.id == -1:\n",
    "\t\t\ttop.id = num\n",
    "\t\t\tnum += 1\n",
    "\t\t\ti = top.childrenNum\n",
    "\t\t\tif i == 0:\n",
    "\t\t\t\tparentMap[num - 1] = [-1]\n",
    "\t\t\telif i == 1:\n",
    "\t\t\t\tq.append(top.left)\n",
    "\t\t\t\tparentMap[num - 1] = [top.left]\n",
    "\t\t\telif i == 2:\n",
    "\t\t\t\tq.append(top.left)\n",
    "\t\t\t\tq.append(top.right)\n",
    "\t\t\t\tparentMap[num - 1] = [top.left, top.right]\n",
    "\t\t\telse:\n",
    "\t\t\t\tq.append(top.left)\n",
    "\t\t\t\tq.append(top.right)\n",
    "\t\t\t\tq.append(top.third)\n",
    "\t\t\t\tparentMap[num - 1] = [top.left, top.right, top.third]\n",
    "\n",
    "\t# in map is always first index of left,\n",
    "\t# then right (if exists) and finally\n",
    "\t# third (if exists) child\n",
    "\treturn parentMap"
   ],
   "execution_count": 177,
   "outputs": []
  },
  {
   "cell_type": "markdown",
   "metadata": {
    "id": "nYdHBOWBEMDT"
   },
   "source": [
    "We form string (which represents regex) from abstract tree"
   ]
  },
  {
   "cell_type": "code",
   "metadata": {
    "id": "w89pncLsn_9j"
   },
   "source": [
    "def treeToString(node):\n",
    "\tif node.value in TERMINAL_SET:\n",
    "\t\tif node.value == \"%\":\n",
    "\t\t\treturn \".\"\n",
    "\t\treturn node.value\n",
    "\n",
    "\trl = treeToString(node.left)\n",
    "\tif node.childrenNum == 2:\n",
    "\t\trr = treeToString(node.right)\n",
    "\tif node.childrenNum == 3:\n",
    "\t\trr = treeToString(node.right)\n",
    "\t\trt = treeToString(node.third)\n",
    "\n",
    "\tif node.value in FUNCTION_SET:\n",
    "\t\tif node.value == \".*\":\n",
    "\t\t\tstring = rl + \"*\"\n",
    "\t\t\treturn string\n",
    "\t\tif node.value == \".+\":\n",
    "\t\t\tstring = rl + \"+\"\n",
    "\t\t\treturn string\n",
    "\t\tif node.value == \".?\":\n",
    "\t\t\tstring = rl + \"?\"\n",
    "\t\t\treturn string\n",
    "\t\tif node.value == \"(.)\":\n",
    "\t\t\tstring = \"(\" + rl + \")\"\n",
    "\t\t\treturn string\n",
    "\t\tif node.value == \"[.]\":\n",
    "\t\t\tstring = \"[\" + rl + \"]\"\n",
    "\t\t\treturn string\n",
    "\t\tif node.value == \"[^.]\":\n",
    "\t\t\tstring = \"[^\" + rl + \"]\"\n",
    "\t\t\treturn string\n",
    "\t\tif node.value == \"..\":\n",
    "\t\t\tstring = rl + rr\n",
    "\t\t\treturn string\n",
    "\t\tif node.value == \".|.\":\n",
    "\t\t\tstring = rl + \"|\" + rr\n",
    "\t\t\treturn string\n",
    "\t\tif node.value == \".{.,.}+\":\n",
    "\t\t\tstring = rl + \"{\" + rr + \",\" + rt + \"}+\"\n",
    "\t\t\treturn string\n",
    "\n",
    "\t# root\n",
    "\tstring = rl + rr\n",
    "\n",
    "\treturn string"
   ],
   "execution_count": 178,
   "outputs": []
  },
  {
   "cell_type": "markdown",
   "metadata": {
    "id": "-_aRP2dQEVJq"
   },
   "source": [
    "**Class *Individual* represents individual which we use for generating population**"
   ]
  },
  {
   "cell_type": "markdown",
   "metadata": {
    "id": "81w_ilWI8wkb"
   },
   "source": [
    "Each individual has 2 kinds of fitness:\n",
    "- function $n_m - n_u$ which should be maximized\n",
    "- length r which should be minimized\n",
    "\n",
    "r is current regex, $n_m$ is number of words/elements from M which are matched by r, $n_u$ is number of words/elements from U which are matched by r"
   ]
  },
  {
   "cell_type": "code",
   "metadata": {
    "id": "Uj_P2KA95mus"
   },
   "source": [
    "class Individual:\n",
    "\tdef __init__(self, setM, setU):\n",
    "\t\t# code is abstract tree which saves regex\n",
    "\t\tself.code = self.initialize()\n",
    "\t\tself.wi = 10\n",
    "\t\t# setM and setU are sets M and U from beginning\n",
    "\t\tself.setM = setM.copy()\n",
    "\t\tself.setU = setU.copy()\n",
    "\n",
    "\t\t#n_m - n_u - maximize\n",
    "\t\tself.fitnessFunction = self.calculateFitnessFunction()\n",
    "\t\t# length(r) - minimize\n",
    "\t\tself.fitnessRegex = self.calculateFitnessRegex()\n",
    "\t\t# final fitness = wi*(n_m - n_u) - length(r)\n",
    "\t\t# and it should be maximized\n",
    "\t\tself.fitness = self.finalFitness()\n",
    "\n",
    "\tdef initialize(self):\n",
    "\t\tgenerated = False\n",
    "\t\twhile not generated:\n",
    "\t\t\tn = Node(0, True)\n",
    "\t\t\ttreeString = treeToString(n)\n",
    "\t\t\ttry:\n",
    "\t\t\t\tre.compile(treeString)\n",
    "\t\t\t\t# if compile doesn't throw exception,\n",
    "\t\t\t\t# we've got a valid regex and we accept\n",
    "\t\t\t\t# this individual\n",
    "\t\t\t\tgenerated = True\n",
    "\t\t\texcept Exception:\n",
    "\t\t\t\tgenerated = False\n",
    "\n",
    "\t\treturn n\n",
    "\n",
    "\t# check if current regex is valid\n",
    "\tdef isFeasible(self):\n",
    "\t\ttreeString = treeToString(self.code)\n",
    "\t\ttry:\n",
    "\t\t\tre.compile(treeString)\n",
    "\t\t\treturn True\n",
    "\t\texcept Exception:\n",
    "\t\t\treturn False\n",
    "\n",
    "\tdef __lt__(self, other):\n",
    "\t\t# we want to maximize final fitness\n",
    "\t\treturn self.fitness > other.fitness\n",
    "\n",
    "\tdef __str__(self):\n",
    "\t\ttreeString = treeToString(self.code)\n",
    "\t\treturn treeString\n",
    "\n",
    "\tdef calculateFitnessFunction(self):\n",
    "\t\tn_m = 0\n",
    "\t\tn_u = 0\n",
    "\t\tregex = treeToString(self.code)\n",
    "\n",
    "\t\tfor wordM in self.setM:\n",
    "\t\t\t# matchM - list of strings that are matched\n",
    "\t\t\tmatchM = re.findall(regex, wordM)\n",
    "\t\t\tfoundM = False\n",
    "\n",
    "\t\t\tfor m in matchM:\n",
    "\t\t\t\t# in case of character | in regex,\n",
    "\t\t\t\t# m can have more elements\n",
    "\t\t\t\tfor elem in m:\n",
    "\t\t\t\t\tif elem != \"\":\n",
    "\t\t\t\t\t\tif len(elem) == len(wordM) or elem in wordM:\n",
    "\t\t\t\t\t\t\tn_m += 1\n",
    "\t\t\t\t\t\t\tfoundM = True\n",
    "\t\t\t\t\t\t\tbreak\n",
    "\t\t\t\tif foundM:\n",
    "\t\t\t\t\tbreak\n",
    "\n",
    "\t\tfor wordU in self.setU:\n",
    "\t\t\tmatchU = re.findall(regex, wordU)\n",
    "\t\t\tfoundU = False\n",
    "\n",
    "\t\t\tfor m in matchU:\n",
    "\t\t\t\tfor elem in m:\n",
    "\t\t\t\t\tif elem != \"\":\n",
    "\t\t\t\t\t\tif len(elem) == len(wordU) or elem in wordU:\n",
    "\t\t\t\t\t\t\tn_u += 1\n",
    "\t\t\t\t\t\t\tfoundU = True\n",
    "\t\t\t\t\t\t\tbreak\n",
    "\t\t\t\tif foundU:\n",
    "\t\t\t\t\tbreak\n",
    "\n",
    "\t\treturn n_m - n_u\n",
    "\n",
    "\tdef calculateFitnessRegex(self):\n",
    "\t\tregex = treeToString(self.code)\n",
    "\t\treturn len(regex)\n",
    "\n",
    "\tdef finalFitness(self):\n",
    "\t\ttry:\n",
    "\t\t\treturn self.wi * self.calculateFitnessFunction() - self.calculateFitnessRegex()\n",
    "\t\texcept Exception:\n",
    "\t\t\treturn -100000"
   ],
   "execution_count": 179,
   "outputs": []
  },
  {
   "cell_type": "markdown",
   "metadata": {
    "id": "ecFcRuanFVDd"
   },
   "source": [
    "# Parameters of genetic programming"
   ]
  },
  {
   "cell_type": "code",
   "metadata": {
    "id": "OX-BtWu7FUP1"
   },
   "source": [
    "# (based on documentation)\n",
    "POPULATION_SIZE = 500\n",
    "GENERATIONS_NUM = 1000\n",
    "POPULATION_NUM = 32\n",
    "TOURNAMENT_SIZE = 7\n",
    "MUTATION_PROB = 0.1\n",
    "ELITIZM_SIZE = int(0.2 * POPULATION_SIZE)"
   ],
   "execution_count": 180,
   "outputs": []
  },
  {
   "cell_type": "markdown",
   "metadata": {
    "id": "kOgdOKZAFG1o"
   },
   "source": [
    "# Genetic programming"
   ]
  },
  {
   "cell_type": "markdown",
   "metadata": {
    "id": "53JEMl7kFjIy"
   },
   "source": [
    "We use standard algorithm for *selection* - from 7 randomly choosen individual, we pick one with best fitness and return it's index"
   ]
  },
  {
   "cell_type": "code",
   "metadata": {
    "id": "O_oXrtwwFpM2"
   },
   "source": [
    "import copy"
   ],
   "execution_count": 181,
   "outputs": []
  },
  {
   "cell_type": "code",
   "metadata": {
    "id": "7M1VZspkJlAk"
   },
   "source": [
    "def selection(population):\n",
    "\tbetsFitness = float('-inf')\n",
    "\tbestIndex = -1\n",
    "\n",
    "\tfor i in range(TOURNAMENT_SIZE):\n",
    "\t\tindex = random.randrange(len(population))\n",
    "\t\tif population[index].fitness > betsFitness:\n",
    "\t\t\tbetsFitness = population[index].fitness\n",
    "\t\t\tbestIndex = index\n",
    "\n",
    "\treturn bestIndex"
   ],
   "execution_count": 182,
   "outputs": []
  },
  {
   "cell_type": "markdown",
   "metadata": {
    "id": "sEm6ufwCFsgy"
   },
   "source": [
    "We try to find node numerated with *position*, and we replace it's child (left - 0, right - 1, third - 2) with address of subtree *address*"
   ]
  },
  {
   "cell_type": "code",
   "metadata": {
    "id": "LxgLd6vvF17L"
   },
   "source": [
    "def replace(root, position, child, address):\n",
    "\tred = []\n",
    "\tred.append(root)\n",
    "\tfound = False\n",
    "\n",
    "\twhile not found:\n",
    "\t\tnode = red.pop(0)\n",
    "\t\tif node.id == position:\n",
    "\t\t\tfound = True\n",
    "\t\t\tif child == 0:\n",
    "\t\t\t\tnode.left = address\n",
    "\t\t\telif child == 1:\n",
    "\t\t\t\tnode.right = address\n",
    "\t\t\telse:\n",
    "\t\t\t\tnode.third = address\n",
    "\t\telse:\n",
    "\t\t\tchildren = node.childrenNum\n",
    "\t\t\tif children == 1:\n",
    "\t\t\t\tred.append(node.left)\n",
    "\t\t\telif children == 2:\n",
    "\t\t\t\tred.append(node.left)\n",
    "\t\t\t\tred.append(node.right)\n",
    "\t\t\telif children == 3:\n",
    "\t\t\t\tred.append(node.left)\n",
    "\t\t\t\tred.append(node.right)\n",
    "\t\t\t\tred.append(node.third)"
   ],
   "execution_count": 183,
   "outputs": []
  },
  {
   "cell_type": "markdown",
   "metadata": {
    "id": "Jo-3hItxF4x0"
   },
   "source": [
    "Single-point crossover"
   ]
  },
  {
   "cell_type": "code",
   "metadata": {
    "id": "zKwTyD6NgIwB"
   },
   "source": [
    "def crossover(parent1, parent2, child1, child2):\n",
    "\tmap1 = treeNumeration(parent1.code)\n",
    "\tmap2 = treeNumeration(parent2.code)\n",
    "\n",
    "\tparent1Size = len(map1)\n",
    "\tparent2Size = len(map2)\n",
    "\n",
    "\tbreakpoint = -1\n",
    "\tif parent1Size <= parent2Size:\n",
    "\t\tbreakpoint = random.randrange(parent1Size)\n",
    "\telse:\n",
    "\t\tbreakpoint = random.randrange(parent2Size)\n",
    "\n",
    "\tfind = breakpoint\n",
    "\n",
    "\tif find == 0:\n",
    "\t\t# root is chosen\n",
    "\t\tchild1.code = copy.deepcopy(parent2.code)\n",
    "\t\tchild2.code = copy.deepcopy(parent1.code)\n",
    "\telse:\n",
    "\t\tchild1.code = copy.deepcopy(parent1.code)\n",
    "\t\tchild2.code = copy.deepcopy(parent2.code)\n",
    "\n",
    "\t\tunvisit(child1.code)\n",
    "\t\tunvisit(child2.code)\n",
    "\n",
    "\t\t# we know that nodes will have same numeration\n",
    "\t\tmapChild1 = treeNumeration(child1.code)\n",
    "\t\tmapChild2 = treeNumeration(child2.code)\n",
    "\n",
    "\t\tmap1Keys = mapChild1.keys()\n",
    "\t\tmap2Keys = mapChild2.keys()\n",
    "\n",
    "\t\treplaceAtPositionParent1 = -1\n",
    "\t\tchildAdress1 = -1\n",
    "\t\tside1 = -1\n",
    "\t\treplaceAtPositionParent2 = -1\n",
    "\t\tchildAdress2 = -1\n",
    "\t\tside2 = -1\n",
    "\n",
    "\t\tfor i in map1Keys:\n",
    "\t\t\tchildren = mapChild1[i]\n",
    "\t\t\tindex = 0\n",
    "\t\t\tfor child in children:\n",
    "\t\t\t\tif child == -1:\n",
    "\t\t\t\t\tcontinue\n",
    "\t\t\t\tif find == child.id:\n",
    "\t\t\t\t\t# parent id of subtree we will change\n",
    "\t\t\t\t\treplaceAtPositionParent1 = i\n",
    "\t\t\t\t\t# subtree which we'll change\n",
    "\t\t\t\t\tchildAdress1 = child\n",
    "\t\t\t\t\t# number to identify which child it is\n",
    "\t\t\t\t\t# left - 0, right - 1, third - 2\n",
    "\t\t\t\t\tside1 = index\n",
    "\t\t\t\telse:\n",
    "\t\t\t\t\tindex += 1\n",
    "\n",
    "\t\t# same process\n",
    "\t\tfor i in map2Keys:\n",
    "\t\t\tchildren = mapChild2[i]\n",
    "\t\t\tindex = 0\n",
    "\t\t\tfor child in children:\n",
    "\t\t\t\tif child == -1:\n",
    "\t\t\t\t\tcontinue\n",
    "\t\t\t\tif find == child.id:\n",
    "\t\t\t\t\treplaceAtPositionParent2 = i\n",
    "\t\t\t\t\tchildAdress2 = child\n",
    "\t\t\t\t\tside2 = index\n",
    "\t\t\t\telse:\n",
    "\t\t\t\t\tindex += 1\n",
    "\n",
    "\t\treplace(child1.code, replaceAtPositionParent1, side1, childAdress2)\n",
    "\t\treplace(child2.code, replaceAtPositionParent2, side2, childAdress1)\n",
    "\n",
    "\t\tif not child1.isFeasible():\n",
    "\t\t\tchild1.code = copy.deepcopy(parent1.code)\n",
    "\t\tif not child2.isFeasible():\n",
    "\t\t\tchild2.code = copy.deepcopy(parent2.code)\n"
   ],
   "execution_count": 184,
   "outputs": []
  },
  {
   "cell_type": "markdown",
   "metadata": {
    "id": "sZWmt3W7GK9o"
   },
   "source": [
    "Mutation with probability 0.1"
   ]
  },
  {
   "cell_type": "code",
   "metadata": {
    "id": "yj_mlJROg4IY"
   },
   "source": [
    "def mutation(individual):\n",
    "\tq = random.random()\n",
    "\n",
    "\tif MUTATION_PROB > q:\n",
    "\t\t# we save current tree (code of individual)\n",
    "\t\toldCode = copy.deepcopy(individual.code)\n",
    "\t\tmapaSuseda = treeNumeration(individual.code)\n",
    "\t\tchoiceRange = len(mapaSuseda)\n",
    "\n",
    "\t\tindex = random.randrange(choiceRange)\n",
    "\n",
    "\t\t# we search tree for a node with wanted index\n",
    "\t\tpreviousValue = \"\"\n",
    "\t\tfound = False\n",
    "\n",
    "\t\tq = []\n",
    "\t\tq.append(individual.code)\n",
    "\n",
    "\t\twhile not found:\n",
    "\t\t\tn = q.pop(0)\n",
    "\t\t\tif n.id == index:\n",
    "\t\t\t\t# we found a node\n",
    "\t\t\t\tfound = True\n",
    "\t\t\t\tpreviousValue = n.value\n",
    "\t\t\t\tif n.value in FUNCTION_SET:\n",
    "\t\t\t\t\t# it's some inner node\n",
    "\t\t\t\t\tnewValue = random.choice(FUNCTION_SET)\n",
    "\t\t\t\t\tn.value = newValue\n",
    "\t\t\t\t\tchildren = n.childrenNum\n",
    "\n",
    "\t\t\t\t\tif n.value in [\".*\", \".+\", \".?\", \"(.)\", \"[.]\", \"[^.]\"] and children != 1:\n",
    "\t\t\t\t\t\tn.right = None\n",
    "\t\t\t\t\t\tif children == 3:\n",
    "\t\t\t\t\t\t\tn.third = None\n",
    "\t\t\t\t\t\tn.childrenNum = 1\n",
    "\t\t\t\t\telif n.value in [\"..\", \".|.\"] and children != 2:\n",
    "\t\t\t\t\t\tif children == 1:\n",
    "\t\t\t\t\t\t\tn.right = Node(n.depth + 1, False)\n",
    "\t\t\t\t\t\telse:\n",
    "\t\t\t\t\t\t\t# it has three children\n",
    "\t\t\t\t\t\t\tn.third = None\n",
    "\t\t\t\t\t\tn.childrenNum = 2\n",
    "\t\t\t\t\telif n.value == \".{.,.}+\" and children != 3:\n",
    "\t\t\t\t\t\tif children == 1:\n",
    "\t\t\t\t\t\t\tn.right = Node(n.depth + 1, False)\n",
    "\t\t\t\t\t\t\tn.third = Node(n.depth + 1, False)\n",
    "\t\t\t\t\t\telse:\n",
    "\t\t\t\t\t\t\t# it has two children\n",
    "\t\t\t\t\t\t\tn.third = Node(n.depth, False)\n",
    "\t\t\t\t\t\tn.childrenNum = 3\n",
    "\n",
    "\t\t\t\t\tif not individual.isFeasible():\n",
    "\t\t\t\t\t\tn.value = previousValue\n",
    "\t\t\t\t\t\tindividual.code = oldCode\n",
    "\t\t\t\telse:\n",
    "\t\t\t\t\t# it's leaf node and we choose new value from Terminal set\n",
    "\t\t\t\t\tnewValue = random.choice(TERMINAL_SET)\n",
    "\t\t\t\t\tn.value = newValue\n",
    "\t\t\t\t\tif not individual.isFeasible():\n",
    "\t\t\t\t\t\tn.value = previousValue\n",
    "\t\t\telse:\n",
    "\t\t\t\tchildren = n.childrenNum\n",
    "\t\t\t\tif children == 0:\n",
    "\t\t\t\t\tcontinue\n",
    "\t\t\t\telif children == 1:\n",
    "\t\t\t\t\tq.append(n.left)\n",
    "\t\t\t\telif children == 2:\n",
    "\t\t\t\t\tq.append(n.left)\n",
    "\t\t\t\t\tq.append(n.right)\n",
    "\t\t\t\telif children == 3:\n",
    "\t\t\t\t\tq.append(n.left)\n",
    "\t\t\t\t\tq.append(n.right)\n",
    "\t\t\t\t\tq.append(n.third)"
   ],
   "execution_count": 185,
   "outputs": []
  },
  {
   "cell_type": "code",
   "metadata": {
    "id": "Fbu8GKpM5r7r"
   },
   "source": [
    "def genetic_programming():\n",
    "\tpopulation = [Individual(match, unmatch) for _ in range(POPULATION_SIZE)]\n",
    "\tnewPopulation = [Individual(match, unmatch) for _ in range(POPULATION_SIZE)]\n",
    "\n",
    "\tsolutions = []\n",
    "\n",
    "\tfor i in range(GENERATIONS_NUM):\n",
    "\t\tpopulation.sort()\n",
    "\t\tnewPopulation[:ELITIZM_SIZE] = population[:ELITIZM_SIZE]\n",
    "\n",
    "\t\t# if we found individual that satisfies condition:\n",
    "\t\t# num_m - num_u = num_m\n",
    "\t\t# we save it in solutions\n",
    "\t\t# (it is candidate for best solution)\n",
    "\t\tif population[0].fitnessFunction == num_m:\n",
    "\t\t\tsolutions.append(population[0])\n",
    "\n",
    "\t\tfor j in range(ELITIZM_SIZE, POPULATION_SIZE, 2):\n",
    "\t\t\tparent1Index = selection(population)\n",
    "\t\t\tparent2Index = selection(population)\n",
    "\n",
    "\t\t\tcrossover(population[parent1Index], population[parent2Index], newPopulation[j], newPopulation[j + 1])\n",
    "\n",
    "\t\t\tmutation(newPopulation[j])\n",
    "\t\t\tmutation(newPopulation[j + 1])\n",
    "\n",
    "\t\t\tnewPopulation[j].fitness = newPopulation[j].finalFitness()\n",
    "\t\t\tnewPopulation[j + 1].fitness = newPopulation[j + 1].finalFitness()\n",
    "\n",
    "\t\tpopulation = newPopulation\n",
    "\n",
    "\t# if we didn't save any individual in solution,\n",
    "\t# we take the best one from current population\n",
    "\tif len(solutions) == 0:\n",
    "\t\tpopulation.sort()\n",
    "\t\tsolutions.append(population[0])\n",
    "\n",
    "\treturn solutions"
   ],
   "execution_count": 186,
   "outputs": []
  },
  {
   "cell_type": "code",
   "metadata": {
    "id": "mNHxAYetHZtd"
   },
   "source": [
    "res = []\n",
    "last_top = None\n",
    "same_last_counting = 0\n",
    "EXCESSIVE = 2\n",
    "\n",
    "for i in range(POPULATION_NUM):\n",
    "\tprint(str(i + 1) + \". population out of \" + str(POPULATION_NUM))\n",
    "\tres.append(genetic_programming())\n",
    "\tres.sort()\n",
    "\tcurrent_top = res[0][0]\n",
    "\tprint(\"Current best solution: \", res[0][0],  res[0][0].fitness)\n",
    "\tif current_top == last_top:\n",
    "\t\tsame_last_counting += 1\n",
    "\t\tif same_last_counting >= EXCESSIVE:\n",
    "\t\t\tbreak\n",
    "\telse:\n",
    "\t\tlast_top = current_top\n",
    "\t\tsame_last_counting = 0\n",
    "\tprint(last_top, same_last_counting)\n",
    "\n",
    "print(\"Current best solution: \", last_top)\n"
   ],
   "execution_count": 187,
   "outputs": [
    {
     "name": "stdout",
     "output_type": "stream",
     "text": [
      "1. population out of 32\n"
     ]
    },
    {
     "name": "stderr",
     "output_type": "stream",
     "text": [
      "<ipython-input-179-1f9f4f589c5f>:24: FutureWarning: Possible nested set at position 20\n",
      "  re.compile(treeString)\n",
      "<ipython-input-179-1f9f4f589c5f>:24: FutureWarning: Possible nested set at position 3\n",
      "  re.compile(treeString)\n",
      "<ipython-input-179-1f9f4f589c5f>:24: FutureWarning: Possible nested set at position 1\n",
      "  re.compile(treeString)\n",
      "<ipython-input-179-1f9f4f589c5f>:24: FutureWarning: Possible nested set at position 6\n",
      "  re.compile(treeString)\n",
      "<ipython-input-179-1f9f4f589c5f>:24: FutureWarning: Possible nested set at position 2\n",
      "  re.compile(treeString)\n",
      "<ipython-input-179-1f9f4f589c5f>:24: FutureWarning: Possible nested set at position 8\n",
      "  re.compile(treeString)\n",
      "<ipython-input-179-1f9f4f589c5f>:24: FutureWarning: Possible nested set at position 12\n",
      "  re.compile(treeString)\n",
      "<ipython-input-179-1f9f4f589c5f>:24: FutureWarning: Possible nested set at position 27\n",
      "  re.compile(treeString)\n",
      "<ipython-input-179-1f9f4f589c5f>:24: FutureWarning: Possible nested set at position 18\n",
      "  re.compile(treeString)\n",
      "<ipython-input-179-1f9f4f589c5f>:24: FutureWarning: Possible nested set at position 4\n",
      "  re.compile(treeString)\n",
      "<ipython-input-179-1f9f4f589c5f>:24: FutureWarning: Possible nested set at position 22\n",
      "  re.compile(treeString)\n",
      "<ipython-input-179-1f9f4f589c5f>:24: FutureWarning: Possible nested set at position 16\n",
      "  re.compile(treeString)\n",
      "<ipython-input-179-1f9f4f589c5f>:24: FutureWarning: Possible nested set at position 19\n",
      "  re.compile(treeString)\n",
      "<ipython-input-179-1f9f4f589c5f>:24: FutureWarning: Possible nested set at position 14\n",
      "  re.compile(treeString)\n",
      "<ipython-input-179-1f9f4f589c5f>:24: FutureWarning: Possible nested set at position 5\n",
      "  re.compile(treeString)\n",
      "<ipython-input-179-1f9f4f589c5f>:24: FutureWarning: Possible nested set at position 9\n",
      "  re.compile(treeString)\n",
      "<ipython-input-179-1f9f4f589c5f>:24: FutureWarning: Possible nested set at position 15\n",
      "  re.compile(treeString)\n",
      "<ipython-input-179-1f9f4f589c5f>:38: FutureWarning: Possible nested set at position 20\n",
      "  re.compile(treeString)\n",
      "<ipython-input-179-1f9f4f589c5f>:38: FutureWarning: Possible nested set at position 1\n",
      "  re.compile(treeString)\n",
      "<ipython-input-179-1f9f4f589c5f>:58: FutureWarning: Possible nested set at position 1\n",
      "  matchM = re.findall(regex, wordM)\n",
      "<ipython-input-179-1f9f4f589c5f>:38: FutureWarning: Possible nested set at position 2\n",
      "  re.compile(treeString)\n",
      "<ipython-input-179-1f9f4f589c5f>:38: FutureWarning: Possible nested set at position 3\n",
      "  re.compile(treeString)\n",
      "<ipython-input-179-1f9f4f589c5f>:38: FutureWarning: Possible nested set at position 7\n",
      "  re.compile(treeString)\n"
     ]
    },
    {
     "ename": "KeyboardInterrupt",
     "evalue": "",
     "output_type": "error",
     "traceback": [
      "\u001B[0;31m---------------------------------------------------------------------------\u001B[0m",
      "\u001B[0;31mKeyboardInterrupt\u001B[0m                         Traceback (most recent call last)",
      "\u001B[0;32m<ipython-input-187-1815cd43af16>\u001B[0m in \u001B[0;36m<module>\u001B[0;34m\u001B[0m\n\u001B[1;32m      6\u001B[0m \u001B[0;32mfor\u001B[0m \u001B[0mi\u001B[0m \u001B[0;32min\u001B[0m \u001B[0mrange\u001B[0m\u001B[0;34m(\u001B[0m\u001B[0mPOPULATION_NUM\u001B[0m\u001B[0;34m)\u001B[0m\u001B[0;34m:\u001B[0m\u001B[0;34m\u001B[0m\u001B[0;34m\u001B[0m\u001B[0m\n\u001B[1;32m      7\u001B[0m         \u001B[0mprint\u001B[0m\u001B[0;34m(\u001B[0m\u001B[0mstr\u001B[0m\u001B[0;34m(\u001B[0m\u001B[0mi\u001B[0m \u001B[0;34m+\u001B[0m \u001B[0;36m1\u001B[0m\u001B[0;34m)\u001B[0m \u001B[0;34m+\u001B[0m \u001B[0;34m\". population out of \"\u001B[0m \u001B[0;34m+\u001B[0m \u001B[0mstr\u001B[0m\u001B[0;34m(\u001B[0m\u001B[0mPOPULATION_NUM\u001B[0m\u001B[0;34m)\u001B[0m\u001B[0;34m)\u001B[0m\u001B[0;34m\u001B[0m\u001B[0;34m\u001B[0m\u001B[0m\n\u001B[0;32m----> 8\u001B[0;31m         \u001B[0mres\u001B[0m\u001B[0;34m.\u001B[0m\u001B[0mappend\u001B[0m\u001B[0;34m(\u001B[0m\u001B[0mgenetic_programming\u001B[0m\u001B[0;34m(\u001B[0m\u001B[0;34m)\u001B[0m\u001B[0;34m)\u001B[0m\u001B[0;34m\u001B[0m\u001B[0;34m\u001B[0m\u001B[0m\n\u001B[0m\u001B[1;32m      9\u001B[0m         \u001B[0mres\u001B[0m\u001B[0;34m.\u001B[0m\u001B[0msort\u001B[0m\u001B[0;34m(\u001B[0m\u001B[0;34m)\u001B[0m\u001B[0;34m\u001B[0m\u001B[0;34m\u001B[0m\u001B[0m\n\u001B[1;32m     10\u001B[0m         \u001B[0mcurrent_top\u001B[0m \u001B[0;34m=\u001B[0m \u001B[0mres\u001B[0m\u001B[0;34m[\u001B[0m\u001B[0;36m0\u001B[0m\u001B[0;34m]\u001B[0m\u001B[0;34m[\u001B[0m\u001B[0;36m0\u001B[0m\u001B[0;34m]\u001B[0m\u001B[0;34m\u001B[0m\u001B[0;34m\u001B[0m\u001B[0m\n",
      "\u001B[0;32m<ipython-input-186-55380c4c9fbd>\u001B[0m in \u001B[0;36mgenetic_programming\u001B[0;34m()\u001B[0m\n\u001B[1;32m     26\u001B[0m \u001B[0;34m\u001B[0m\u001B[0m\n\u001B[1;32m     27\u001B[0m                         \u001B[0mnewPopulation\u001B[0m\u001B[0;34m[\u001B[0m\u001B[0mj\u001B[0m\u001B[0;34m]\u001B[0m\u001B[0;34m.\u001B[0m\u001B[0mfitness\u001B[0m \u001B[0;34m=\u001B[0m \u001B[0mnewPopulation\u001B[0m\u001B[0;34m[\u001B[0m\u001B[0mj\u001B[0m\u001B[0;34m]\u001B[0m\u001B[0;34m.\u001B[0m\u001B[0mfinalFitness\u001B[0m\u001B[0;34m(\u001B[0m\u001B[0;34m)\u001B[0m\u001B[0;34m\u001B[0m\u001B[0;34m\u001B[0m\u001B[0m\n\u001B[0;32m---> 28\u001B[0;31m                         \u001B[0mnewPopulation\u001B[0m\u001B[0;34m[\u001B[0m\u001B[0mj\u001B[0m \u001B[0;34m+\u001B[0m \u001B[0;36m1\u001B[0m\u001B[0;34m]\u001B[0m\u001B[0;34m.\u001B[0m\u001B[0mfitness\u001B[0m \u001B[0;34m=\u001B[0m \u001B[0mnewPopulation\u001B[0m\u001B[0;34m[\u001B[0m\u001B[0mj\u001B[0m \u001B[0;34m+\u001B[0m \u001B[0;36m1\u001B[0m\u001B[0;34m]\u001B[0m\u001B[0;34m.\u001B[0m\u001B[0mfinalFitness\u001B[0m\u001B[0;34m(\u001B[0m\u001B[0;34m)\u001B[0m\u001B[0;34m\u001B[0m\u001B[0;34m\u001B[0m\u001B[0m\n\u001B[0m\u001B[1;32m     29\u001B[0m \u001B[0;34m\u001B[0m\u001B[0m\n\u001B[1;32m     30\u001B[0m                 \u001B[0mpopulation\u001B[0m \u001B[0;34m=\u001B[0m \u001B[0mnewPopulation\u001B[0m\u001B[0;34m\u001B[0m\u001B[0;34m\u001B[0m\u001B[0m\n",
      "\u001B[0;32m<ipython-input-179-1f9f4f589c5f>\u001B[0m in \u001B[0;36mfinalFitness\u001B[0;34m(self)\u001B[0m\n\u001B[1;32m     93\u001B[0m         \u001B[0;32mdef\u001B[0m \u001B[0mfinalFitness\u001B[0m\u001B[0;34m(\u001B[0m\u001B[0mself\u001B[0m\u001B[0;34m)\u001B[0m\u001B[0;34m:\u001B[0m\u001B[0;34m\u001B[0m\u001B[0;34m\u001B[0m\u001B[0m\n\u001B[1;32m     94\u001B[0m                 \u001B[0;32mtry\u001B[0m\u001B[0;34m:\u001B[0m\u001B[0;34m\u001B[0m\u001B[0;34m\u001B[0m\u001B[0m\n\u001B[0;32m---> 95\u001B[0;31m                         \u001B[0;32mreturn\u001B[0m \u001B[0mself\u001B[0m\u001B[0;34m.\u001B[0m\u001B[0mwi\u001B[0m \u001B[0;34m*\u001B[0m \u001B[0mself\u001B[0m\u001B[0;34m.\u001B[0m\u001B[0mcalculateFitnessFunction\u001B[0m\u001B[0;34m(\u001B[0m\u001B[0;34m)\u001B[0m \u001B[0;34m-\u001B[0m \u001B[0mself\u001B[0m\u001B[0;34m.\u001B[0m\u001B[0mcalculateFitnessRegex\u001B[0m\u001B[0;34m(\u001B[0m\u001B[0;34m)\u001B[0m\u001B[0;34m\u001B[0m\u001B[0;34m\u001B[0m\u001B[0m\n\u001B[0m\u001B[1;32m     96\u001B[0m                 \u001B[0;32mexcept\u001B[0m \u001B[0mException\u001B[0m\u001B[0;34m:\u001B[0m\u001B[0;34m\u001B[0m\u001B[0;34m\u001B[0m\u001B[0m\n\u001B[1;32m     97\u001B[0m                         \u001B[0;32mreturn\u001B[0m \u001B[0;34m-\u001B[0m\u001B[0;36m100000\u001B[0m\u001B[0;34m\u001B[0m\u001B[0;34m\u001B[0m\u001B[0m\n",
      "\u001B[0;32m<ipython-input-179-1f9f4f589c5f>\u001B[0m in \u001B[0;36mcalculateFitnessFunction\u001B[0;34m(self)\u001B[0m\n\u001B[1;32m     56\u001B[0m                 \u001B[0;32mfor\u001B[0m \u001B[0mwordM\u001B[0m \u001B[0;32min\u001B[0m \u001B[0mself\u001B[0m\u001B[0;34m.\u001B[0m\u001B[0msetM\u001B[0m\u001B[0;34m:\u001B[0m\u001B[0;34m\u001B[0m\u001B[0;34m\u001B[0m\u001B[0m\n\u001B[1;32m     57\u001B[0m                         \u001B[0;31m# matchM - list of strings that are matched\u001B[0m\u001B[0;34m\u001B[0m\u001B[0;34m\u001B[0m\u001B[0;34m\u001B[0m\u001B[0m\n\u001B[0;32m---> 58\u001B[0;31m                         \u001B[0mmatchM\u001B[0m \u001B[0;34m=\u001B[0m \u001B[0mre\u001B[0m\u001B[0;34m.\u001B[0m\u001B[0mfindall\u001B[0m\u001B[0;34m(\u001B[0m\u001B[0mregex\u001B[0m\u001B[0;34m,\u001B[0m \u001B[0mwordM\u001B[0m\u001B[0;34m)\u001B[0m\u001B[0;34m\u001B[0m\u001B[0;34m\u001B[0m\u001B[0m\n\u001B[0m\u001B[1;32m     59\u001B[0m                         \u001B[0mfoundM\u001B[0m \u001B[0;34m=\u001B[0m \u001B[0;32mFalse\u001B[0m\u001B[0;34m\u001B[0m\u001B[0;34m\u001B[0m\u001B[0m\n\u001B[1;32m     60\u001B[0m \u001B[0;34m\u001B[0m\u001B[0m\n",
      "\u001B[0;32m/usr/lib/python3.8/re.py\u001B[0m in \u001B[0;36mfindall\u001B[0;34m(pattern, string, flags)\u001B[0m\n\u001B[1;32m    239\u001B[0m \u001B[0;34m\u001B[0m\u001B[0m\n\u001B[1;32m    240\u001B[0m     Empty matches are included in the result.\"\"\"\n\u001B[0;32m--> 241\u001B[0;31m     \u001B[0;32mreturn\u001B[0m \u001B[0m_compile\u001B[0m\u001B[0;34m(\u001B[0m\u001B[0mpattern\u001B[0m\u001B[0;34m,\u001B[0m \u001B[0mflags\u001B[0m\u001B[0;34m)\u001B[0m\u001B[0;34m.\u001B[0m\u001B[0mfindall\u001B[0m\u001B[0;34m(\u001B[0m\u001B[0mstring\u001B[0m\u001B[0;34m)\u001B[0m\u001B[0;34m\u001B[0m\u001B[0;34m\u001B[0m\u001B[0m\n\u001B[0m\u001B[1;32m    242\u001B[0m \u001B[0;34m\u001B[0m\u001B[0m\n\u001B[1;32m    243\u001B[0m \u001B[0;32mdef\u001B[0m \u001B[0mfinditer\u001B[0m\u001B[0;34m(\u001B[0m\u001B[0mpattern\u001B[0m\u001B[0;34m,\u001B[0m \u001B[0mstring\u001B[0m\u001B[0;34m,\u001B[0m \u001B[0mflags\u001B[0m\u001B[0;34m=\u001B[0m\u001B[0;36m0\u001B[0m\u001B[0;34m)\u001B[0m\u001B[0;34m:\u001B[0m\u001B[0;34m\u001B[0m\u001B[0;34m\u001B[0m\u001B[0m\n",
      "\u001B[0;32m/usr/lib/python3.8/re.py\u001B[0m in \u001B[0;36m_compile\u001B[0;34m(pattern, flags)\u001B[0m\n\u001B[1;32m    291\u001B[0m     \u001B[0;32mif\u001B[0m \u001B[0misinstance\u001B[0m\u001B[0;34m(\u001B[0m\u001B[0mflags\u001B[0m\u001B[0;34m,\u001B[0m \u001B[0mRegexFlag\u001B[0m\u001B[0;34m)\u001B[0m\u001B[0;34m:\u001B[0m\u001B[0;34m\u001B[0m\u001B[0;34m\u001B[0m\u001B[0m\n\u001B[1;32m    292\u001B[0m         \u001B[0mflags\u001B[0m \u001B[0;34m=\u001B[0m \u001B[0mflags\u001B[0m\u001B[0;34m.\u001B[0m\u001B[0mvalue\u001B[0m\u001B[0;34m\u001B[0m\u001B[0;34m\u001B[0m\u001B[0m\n\u001B[0;32m--> 293\u001B[0;31m     \u001B[0;32mtry\u001B[0m\u001B[0;34m:\u001B[0m\u001B[0;34m\u001B[0m\u001B[0;34m\u001B[0m\u001B[0m\n\u001B[0m\u001B[1;32m    294\u001B[0m         \u001B[0;32mreturn\u001B[0m \u001B[0m_cache\u001B[0m\u001B[0;34m[\u001B[0m\u001B[0mtype\u001B[0m\u001B[0;34m(\u001B[0m\u001B[0mpattern\u001B[0m\u001B[0;34m)\u001B[0m\u001B[0;34m,\u001B[0m \u001B[0mpattern\u001B[0m\u001B[0;34m,\u001B[0m \u001B[0mflags\u001B[0m\u001B[0;34m]\u001B[0m\u001B[0;34m\u001B[0m\u001B[0;34m\u001B[0m\u001B[0m\n\u001B[1;32m    295\u001B[0m     \u001B[0;32mexcept\u001B[0m \u001B[0mKeyError\u001B[0m\u001B[0;34m:\u001B[0m\u001B[0;34m\u001B[0m\u001B[0;34m\u001B[0m\u001B[0m\n",
      "\u001B[0;31mKeyboardInterrupt\u001B[0m: "
     ]
    }
   ]
  },
  {
   "cell_type": "code",
   "metadata": {
    "id": "LEKrjvOVpT77"
   },
   "source": [
    "print(res[0][0].fitness)"
   ],
   "execution_count": null,
   "outputs": []
  }
 ]
}