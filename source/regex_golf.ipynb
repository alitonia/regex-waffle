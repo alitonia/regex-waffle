{
  "nbformat": 4,
  "nbformat_minor": 0,
  "metadata": {
    "colab": {
      "name": "regex_golf.ipynb",
      "provenance": [],
      "collapsed_sections": [],
      "toc_visible": true
    },
    "kernelspec": {
      "name": "python3",
      "display_name": "Python 3"
    }
  },
  "cells": [
    {
      "cell_type": "markdown",
      "metadata": {
        "id": "ISPE_Lhzn-Ap"
      },
      "source": [
        "# Priprema podataka"
      ]
    },
    {
      "cell_type": "markdown",
      "metadata": {
        "id": "1HNfv6NG-T-O"
      },
      "source": [
        "**Ucitavanje podataka iz datoteke**\r\n",
        "  - u prvoj liniji su reci za koje treba naci regex (skup M)\r\n",
        "  - u drugoj liniji su reci za koje ne treba naci regex (skup U)\r\n",
        "  - reci u razdvojene sa: \", \""
      ]
    },
    {
      "cell_type": "code",
      "metadata": {
        "id": "UeMYatGC84Z2"
      },
      "source": [
        "def readFile(filename):\r\n",
        "    with open(filename, 'r') as f:\r\n",
        "        match = [word for word in f.readline().split(\", \")]\r\n",
        "        # uklanjanje novog reda iz poslednje reci\r\n",
        "        match[-1] = match[-1][:-1]\r\n",
        "        unmatch = [word for word in f.readline().split(\", \")]\r\n",
        "        \r\n",
        "    return match, unmatch"
      ],
      "execution_count": 3,
      "outputs": []
    },
    {
      "cell_type": "code",
      "metadata": {
        "colab": {
          "base_uri": "https://localhost:8080/"
        },
        "id": "urj9UlsW91GF",
        "outputId": "f22d8704-6184-4f5f-b086-0d1c905915c5"
      },
      "source": [
        "match, unmatch = readFile(\"/content/example_1.txt\")\r\n",
        "print(\"Prvi skup: \", match)\r\n",
        "print(\"Drugi skup: \", unmatch)"
      ],
      "execution_count": 4,
      "outputs": [
        {
          "output_type": "stream",
          "text": [
            "Prvi skup:  ['afoot', 'catfoot', 'dogfoot', 'fanfoot', 'foody', 'foolery', 'foolish', 'fooster', 'footage', 'foothot', 'footle', 'footpad', 'footway', 'hotfoot', 'jawfoot', 'mafoo', 'nonfood', 'padfoot', 'prefool', 'sfoot', 'unfool']\n",
            "Drugi skup:  ['Atlas', 'Aymoro', 'Iberic', 'Mahran', 'Ormazd', 'Silipan', 'altared', 'chandoo', 'crenel', 'crooked', 'fardo', 'folksy', 'forest', 'hebamic', 'idgah', 'manlike', 'marly', 'palazzi', 'sixfold', 'tarrock', 'unfold']\n"
          ],
          "name": "stdout"
        }
      ]
    },
    {
      "cell_type": "code",
      "metadata": {
        "id": "hN69PJ-Wx1aj"
      },
      "source": [
        "# skup za poredjenje rezultata iz dokumentacije\r\n",
        "# match = ['can', 'banana', 'and', 'ball']\r\n",
        "# match = ['bar', 'den', 'foo', 'can']\r\n",
        "# unmatch = ['indy', 'call', 'name', 'man']"
      ],
      "execution_count": 5,
      "outputs": []
    },
    {
      "cell_type": "code",
      "metadata": {
        "colab": {
          "base_uri": "https://localhost:8080/"
        },
        "id": "EGt04P3F_Zyu",
        "outputId": "f20e946c-ce47-42de-f36b-058528936cd1"
      },
      "source": [
        "# Broj reci u skupovima\r\n",
        "num_m = len(match)\r\n",
        "num_u = len(unmatch)\r\n",
        "print(num_m)\r\n",
        "print(num_u)"
      ],
      "execution_count": 7,
      "outputs": [
        {
          "output_type": "stream",
          "text": [
            "21\n",
            "21\n"
          ],
          "name": "stdout"
        }
      ]
    },
    {
      "cell_type": "markdown",
      "metadata": {
        "id": "MURatuNTEsXH"
      },
      "source": [
        "**Karakteri koji se pojavljuju u jednom skupu reci**"
      ]
    },
    {
      "cell_type": "code",
      "metadata": {
        "id": "0W6_Yhe0DyJR"
      },
      "source": [
        "def charsInSet(wordSet):\r\n",
        "    #stavicemo d chars bude set da ne bismo brinuli o duplikatima\r\n",
        "    charsSet = set({})\r\n",
        "\r\n",
        "    for word in wordSet:\r\n",
        "        for c in word:\r\n",
        "          charsSet.add(c)\r\n",
        "    chars = []\r\n",
        "    for el in charsSet:\r\n",
        "      chars.append(el)\r\n",
        "    chars.sort()\r\n",
        "\r\n",
        "    return chars"
      ],
      "execution_count": 8,
      "outputs": []
    },
    {
      "cell_type": "code",
      "metadata": {
        "colab": {
          "base_uri": "https://localhost:8080/"
        },
        "id": "8fh6YP-iEGUb",
        "outputId": "4e41b982-422e-455f-989c-5f2760169719"
      },
      "source": [
        "chars_in_M = charsInSet(match)\r\n",
        "print(chars_in_M)"
      ],
      "execution_count": 9,
      "outputs": [
        {
          "output_type": "stream",
          "text": [
            "['a', 'c', 'd', 'e', 'f', 'g', 'h', 'i', 'j', 'l', 'm', 'n', 'o', 'p', 'r', 's', 't', 'u', 'w', 'y']\n"
          ],
          "name": "stdout"
        }
      ]
    },
    {
      "cell_type": "markdown",
      "metadata": {
        "id": "Jca6y4S-ExZ_"
      },
      "source": [
        "**Opsezi reci (partial ranges) koji se javljaju u skupu M**"
      ]
    },
    {
      "cell_type": "code",
      "metadata": {
        "id": "fmjDtrNFAQRR"
      },
      "source": [
        "def makeRanges(chars_in_M):\r\n",
        "    ranges = []\r\n",
        "\r\n",
        "    i = 0\r\n",
        "    #za svako slovo niza proveravamo\r\n",
        "    while i < len(chars_in_M)-1:\r\n",
        "        distance = 0\r\n",
        "        for j in range(i+1, len(chars_in_M)):\r\n",
        "            if ord(chars_in_M[j]) - ord(chars_in_M[i]) == distance + 1:\r\n",
        "                distance += 1\r\n",
        "            else:\r\n",
        "                if chars_in_M[i] != chars_in_M[j-1]:\r\n",
        "                    ranges.append(chars_in_M[i] + '-' + chars_in_M[j-1])\r\n",
        "                i = j\r\n",
        "                break\r\n",
        "\r\n",
        "    return ranges"
      ],
      "execution_count": 10,
      "outputs": []
    },
    {
      "cell_type": "code",
      "metadata": {
        "colab": {
          "base_uri": "https://localhost:8080/"
        },
        "id": "djfuWM9kARZI",
        "outputId": "73c1c01b-509c-431d-b080-12afeecd7455"
      },
      "source": [
        "ranges = makeRanges(chars_in_M)\r\n",
        "print(ranges)"
      ],
      "execution_count": 11,
      "outputs": [
        {
          "output_type": "stream",
          "text": [
            "['c-j', 'l-p', 'r-u']\n"
          ],
          "name": "stdout"
        }
      ]
    },
    {
      "cell_type": "markdown",
      "metadata": {
        "id": "9W6gGCDjGkIj"
      },
      "source": [
        "**n-grami**"
      ]
    },
    {
      "cell_type": "code",
      "metadata": {
        "id": "okk1oZ_LGvFa"
      },
      "source": [
        "def ngram(M, U):\r\n",
        "    res = {}\r\n",
        "\r\n",
        "    # n-grami su duzine od 2 do 4\r\n",
        "    for n in range(2, 5):\r\n",
        "        # prolazimo kroz sve reci iz M i iz U \r\n",
        "        # (radi ako su skupovi iste duzine)\r\n",
        "        for i in range(0, len(M)):\r\n",
        "            word_m = M[i]\r\n",
        "            word_u = U[i]\r\n",
        "            \r\n",
        "            word_m_visited = False\r\n",
        "            word_u_visited = False\r\n",
        "            \r\n",
        "            # pravimo n-grame od jedne reci iz M i jedne iz U\r\n",
        "            ngrams_m = zip(*[word_m[i:] for i in range(n)])\r\n",
        "            ngrams_u = zip(*[word_u[i:] for i in range(n)])\r\n",
        "\r\n",
        "            gram_m = [\"\".join(gr) for gr in ngrams_m]\r\n",
        "            gram_u = [\"\".join(gr) for gr in ngrams_u]\r\n",
        "\r\n",
        "            # ne smemo imati ponavljanje n-grama u istoj reci (pravimo skup)\r\n",
        "            gram_m = set(gram_m)\r\n",
        "            gram_u = set(gram_u)\r\n",
        "\r\n",
        "            # azuriramo score za ngram u zavisnosti u kom skupu se nalazi\r\n",
        "            for g in gram_m: # povecavamo score ako je u M\r\n",
        "                if g not in res:\r\n",
        "                    res[g] = 1\r\n",
        "                elif g in res: \r\n",
        "                    res[g] += 1\r\n",
        "\r\n",
        "            for g in gram_u: # smanjujemo score ako je u U\r\n",
        "                if g not in res:\r\n",
        "                    res[g] = -1\r\n",
        "                elif g in res:\r\n",
        "                    res[g] -= 1\r\n",
        "\r\n",
        "    return res"
      ],
      "execution_count": 12,
      "outputs": []
    },
    {
      "cell_type": "code",
      "metadata": {
        "colab": {
          "base_uri": "https://localhost:8080/"
        },
        "id": "xwy2yN8TowU3",
        "outputId": "b2f65ca5-fd69-4454-c628-a93e29df0f25"
      },
      "source": [
        "ngrams = ngram(match, unmatch)\r\n",
        "ngrams = sorted(ngrams.items(), key=lambda x: x[1], reverse=True)\r\n",
        "\r\n",
        "# ngram_subset je najmanji podskup od ngrams tako da je skor reci bar |M|\r\n",
        "ngram_subset = []\r\n",
        "score = 0\r\n",
        "\r\n",
        "for i in range(len(ngrams)):\r\n",
        "    if ngrams[i][1] > 0: # azuriramo samo ako je skor pozitivan\r\n",
        "        score += ngrams[i][1]\r\n",
        "        ngram_subset.append(ngrams[i][0])\r\n",
        "\r\n",
        "        if score >= num_m:\r\n",
        "            break \r\n",
        "\r\n",
        "print(ngram_subset)\r\n",
        "# print(score)"
      ],
      "execution_count": 13,
      "outputs": [
        {
          "output_type": "stream",
          "text": [
            "['foo']\n"
          ],
          "name": "stdout"
        }
      ]
    },
    {
      "cell_type": "markdown",
      "metadata": {
        "id": "OJ1LqEhCAdnP"
      },
      "source": [
        "**Terminal i Function skupovi**"
      ]
    },
    {
      "cell_type": "code",
      "metadata": {
        "id": "H1QYV3TkAdVp"
      },
      "source": [
        "# . je placeholder za dete cvor\r\n",
        "FUNCTION_SET = [\".*\", \".+\", \".?\", \".{.,.}+\", # possessive quantifiers\r\n",
        "                \"(.)\",                          # group\r\n",
        "                \"[.]\",                          # character class\r\n",
        "                \"[^.]\",                         # negated character\r\n",
        "                \"..\",                           # concatenator (binary node) mislim da treba da promenimo prikaz ovog noda tipa ` jer je kod njih tacka na sredini a ovo znaci concat\r\n",
        "                \".|.\",                          # disjunction\r\n",
        "                ]"
      ],
      "execution_count": 14,
      "outputs": []
    },
    {
      "cell_type": "code",
      "metadata": {
        "id": "qq_YS0U6B1jH"
      },
      "source": [
        "TERMINAL_SET = [\"a-z\", \"A-Z\", \"0-9\", \"^\", \"$\", \"%\", # instance independent terminals\r\n",
        "                \"\\w\", \"\\W\", \"\\d\", \"\\D\", \"\\b\", \"\\B\", \"\\A\", \"\\Z\", \"\\s\", \"\\S\"\r\n",
        "               ]"
      ],
      "execution_count": 15,
      "outputs": []
    },
    {
      "cell_type": "code",
      "metadata": {
        "colab": {
          "base_uri": "https://localhost:8080/"
        },
        "id": "2OTi9DqqwaIW",
        "outputId": "ff6b6613-755f-4522-adab-964a5a34d71e"
      },
      "source": [
        "for c in chars_in_M:\r\n",
        "    TERMINAL_SET.extend(c)\r\n",
        "\r\n",
        "#Upisujemo n_grame u terminal set\r\n",
        "for n in ngram_subset:\r\n",
        "    TERMINAL_SET.extend(ngram_subset)\r\n",
        "\r\n",
        "#ispisujemo range-ove u terminal set\r\n",
        "for r in ranges:\r\n",
        "    TERMINAL_SET.append(r)\r\n",
        "\r\n",
        "print(TERMINAL_SET)"
      ],
      "execution_count": 16,
      "outputs": [
        {
          "output_type": "stream",
          "text": [
            "['a-z', 'A-Z', '0-9', '^', '$', '%', '\\\\w', '\\\\W', '\\\\d', '\\\\D', '\\x08', '\\\\B', '\\\\A', '\\\\Z', '\\\\s', '\\\\S', 'a', 'c', 'd', 'e', 'f', 'g', 'h', 'i', 'j', 'l', 'm', 'n', 'o', 'p', 'r', 's', 't', 'u', 'w', 'y', 'foo', 'c-j', 'l-p', 'r-u']\n"
          ],
          "name": "stdout"
        }
      ]
    },
    {
      "cell_type": "markdown",
      "metadata": {
        "id": "hiCQx8wh23YI"
      },
      "source": [
        "# Parametri za algoritam genetskog programiranja\r\n",
        "\r\n"
      ]
    },
    {
      "cell_type": "code",
      "metadata": {
        "id": "jRCMOB6J3COm"
      },
      "source": [
        "# pocetni parametri (zasnovani na dokumentaciji)\r\n",
        "POPULATION_SIZE = 500\r\n",
        "GENERATIONS_NUM = 1000\r\n",
        "POPULATION_NUM = 32\r\n",
        "TOURNAMENT_SIZE = 7"
      ],
      "execution_count": 17,
      "outputs": []
    },
    {
      "cell_type": "markdown",
      "metadata": {
        "id": "9dlZ8YuQ3neO"
      },
      "source": [
        "# Algoritam genetskog programiranja"
      ]
    },
    {
      "cell_type": "markdown",
      "metadata": {
        "id": "UCFnxyce6MHd"
      },
      "source": [
        "U nastavku je samo kostur/pseudokod GP-a"
      ]
    },
    {
      "cell_type": "markdown",
      "metadata": {
        "id": "81w_ilWI8wkb"
      },
      "source": [
        "Svaka jedinka ima 2 vrste fitnesa:\r\n",
        "- funkcija n_m - n_u treba da se maksimizuje\r\n",
        "- duzina r treba da se minimizuje\r\n",
        "\r\n",
        "r je trenutni regex, n_m je broj reci iz M koje su poklopljene sa r, n_u je broj reci iz U koje su poklopljene sa r"
      ]
    },
    {
      "cell_type": "code",
      "metadata": {
        "id": "FMD9wViZyB_Z"
      },
      "source": [
        "import re\n",
        "import random"
      ],
      "execution_count": 18,
      "outputs": []
    },
    {
      "cell_type": "code",
      "metadata": {
        "id": "fdvmyeLPEnSO"
      },
      "source": [
        "def getRandom():\n",
        "      pickSet = random.choice(['f', 't'])\n",
        "      if pickSet == 't':\n",
        "        value = random.choice(FUNCTION_SET)\n",
        "        if value in [\".{.,.}+\"]:\n",
        "          return value, 3\n",
        "        elif value in [\".|.\", \"..\"]:\n",
        "          return value, 2\n",
        "        else:\n",
        "          return value, 1\n",
        "      else:\n",
        "        value = random.choice(TERMINAL_SET)\n",
        "        return value, 0\n",
        "class Node(object):\n",
        "  def __init__(self, depth, root):\n",
        "    self.depth = depth\n",
        "    self.value = \"\"\n",
        "    self.childrenNum = 0\n",
        "    self.id = -1\n",
        "    \n",
        "    \n",
        "    if root:\n",
        "      self.value = \".\"\n",
        "      self.childrenNum = 2\n",
        "    else:\n",
        "      self.value, self.childrenNum = getRandom()\n",
        "    \n",
        "    self.left = None\n",
        "    self.right = None\n",
        "    self.third = None\n",
        "\n",
        "    if self.childrenNum == 3:\n",
        "      self.left= Node(depth+1, False)\n",
        "      self.right = Node(depth +1, False)\n",
        "      self.third = Node(depth+1, False)\n",
        "    elif self.childrenNum == 2:\n",
        "      self.left = Node(depth+1, False)\n",
        "      self.right = Node(depth+1, False)\n",
        "    elif self.childrenNum == 1:\n",
        "      self.left = Node(depth+1, False)  "
      ],
      "execution_count": 126,
      "outputs": []
    },
    {
      "cell_type": "code",
      "metadata": {
        "id": "Vpw0scGYW21i"
      },
      "source": [
        "def treeNumeration(n):\n",
        "  #prolazimo kroz drvo i numerisemo cvorove, koristimo bfs algoritam\n",
        "  #obilazak je BFS\n",
        "  parentMap = {}\n",
        "  q = []\n",
        "  q.append(n)\n",
        "  num = 0\n",
        "  while(len(q) >= 1):\n",
        "    top = q.pop(0)\n",
        "    if(top.id == -1):\n",
        "      top.id = num\n",
        "      num += 1\n",
        "      i = top.childrenNum\n",
        "      if i == 0:\n",
        "        parentMap[num] = [-1]\n",
        "      elif i == 1:\n",
        "        q.append(top.left)\n",
        "        parentMap[num] = [top.left]\n",
        "      elif i == 2:\n",
        "        q.append(top.left)\n",
        "        q.append(top.right)\n",
        "        parentMap[num] = [top.left, top.right]\n",
        "      else:\n",
        "        q.append(top.left)\n",
        "        q.append(top.right)\n",
        "        q.append(top.third)\n",
        "        parentMap[num] = [top.left, top.right, top.third]\n",
        "  #u mapi se uvek prvo navodi indeks levog, zatim desnog(ako postoji) i na kraju treceg deteta(ako postoji)\n",
        "  return parentMap\n"
      ],
      "execution_count": 179,
      "outputs": []
    },
    {
      "cell_type": "code",
      "metadata": {
        "id": "w89pncLsn_9j"
      },
      "source": [
        "def treeToString(node):\n",
        "  if node.value in TERMINAL_SET:\n",
        "    if node.value == \"%\":\n",
        "      return \".\"\n",
        "    return node.value\n",
        "  \n",
        "  rl= obidji(node.left)\n",
        "  if node.childrenNum == 2:\n",
        "    rr = obidji(node.right)\n",
        "  if node.childrenNum == 3:\n",
        "    rr = obidji(node.right)\n",
        "    rt = obidji(node.third)\n",
        "  \n",
        "  if node.value in FUNCTION_SET:\n",
        "    if node.value == \".*\":\n",
        "      string = rl + \"*\"\n",
        "      return string\n",
        "    if node.value == \".+\":\n",
        "      string = rl + \"+\"\n",
        "      return string\n",
        "    if node.value == \".?\":\n",
        "      string = rl + \"?\"\n",
        "      return string\n",
        "    if node.value == \"(.)\":\n",
        "      string = \"(\" + rl + \")\"\n",
        "      return string\n",
        "    if node.value == \"[.]\":\n",
        "      string = \"[\" + rl + \"]\"\n",
        "      return string\n",
        "    if node.value == \"[^.]\":\n",
        "      string = \"[^\" + rl + \"]\"\n",
        "      return string\n",
        "    if node.value == \"..\":\n",
        "      string = rl + rr\n",
        "      return string\n",
        "    if node.value == \".|.\":\n",
        "      string = rl + \"|\" + rr\n",
        "      return string\n",
        "    if node.value == \".{.,.}+\":\n",
        "      string = rl + \"{\" + rr + \",\" + rt + \"}+\"\n",
        "      return string\n",
        "    print(\"MATCHOVO SE SA FUNCTIONAL A NIJE FUNCTIONAL \" + node.value)\n",
        "  #ako je dosao do ovde je root\n",
        "  string = rl + rr\n",
        "  return string\n"
      ],
      "execution_count": 180,
      "outputs": []
    },
    {
      "cell_type": "code",
      "metadata": {
        "id": "HPnhgi_4Eubx",
        "colab": {
          "base_uri": "https://localhost:8080/"
        },
        "outputId": "3e57b87d-0c66-45a3-e49b-8f5e952af774"
      },
      "source": [
        "#testiranje gore navedenih funkcija\n",
        "n = Node(0, True)\n",
        "p = treeToString(n)\n",
        "print(p)\n",
        "re.compile(p)\n",
        "roditelji = treeNumeration(n)\n",
        "print(roditelji)\n",
        "print(len(roditelji))\n"
      ],
      "execution_count": 181,
      "outputs": [
        {
          "output_type": "stream",
          "text": [
            "r-ud\n",
            "{1: [<__main__.Node object at 0x7fb258011c50>, <__main__.Node object at 0x7fb258011e48>], 2: [-1], 3: [-1]}\n",
            "3\n"
          ],
          "name": "stdout"
        }
      ]
    },
    {
      "cell_type": "code",
      "metadata": {
        "id": "Uj_P2KA95mus"
      },
      "source": [
        "class Individual:\r\n",
        "  #Kako resavamo problem plain strings nase wi= 10\r\n",
        "    def __init__(self, setM, setU):\r\n",
        "        #kod je ustvari neko apstrakto drvo koje cuva odredjeni regex u sebi\r\n",
        "        #napraviti f-ju initialize koja poziva konstruktor noda sve dok ne dobije regex koji je validan\r\n",
        "        self.code = self.initialize()\r\n",
        "        self.wi = 10\r\n",
        "        self.setM = setM.copy()\r\n",
        "        self.setU = setU.copy()\r\n",
        "\r\n",
        "        self.n_m = 0\r\n",
        "        self.n_u = 0\r\n",
        "        #n_m - n_u - maximize\r\n",
        "        self.fitnessFunction = self.calculateFitnessFunction()\r\n",
        "        #length of r - minimize\r\n",
        "        self.fitnessRegex = self.calculateFitnessRegex()\r\n",
        "        #zapravo fitness racunamo kao wi*(n_m - n_u) - length(r)\r\n",
        "        self.fitness = self.wi * self.fitnessFunction - self.fitnessRegex\r\n",
        "    \r\n",
        "    def initialize(self):\r\n",
        "      generated = False\r\n",
        "      while(not generated):\r\n",
        "        n = Node(0, True)\r\n",
        "        treeString = treeToString(n)\r\n",
        "        try:\r\n",
        "          re.compile(treeString)\r\n",
        "          #ako kompilacija regexa ne izazove exception, onda je to validan regex i prihvatamo ovu jedinku\r\n",
        "          generated = True \r\n",
        "        except Exception:\r\n",
        "          print(\"Generating another one\")\r\n",
        "        \r\n",
        "      return n\r\n",
        "\r\n",
        "    def isFeasible(self):\r\n",
        "      treeString = treeToString(self.code)\r\n",
        "      try:\r\n",
        "        re.compile(treeString)\r\n",
        "        return True\r\n",
        "      except Exception:\r\n",
        "        return False\r\n",
        "\r\n",
        "    def __lt__(self, other):\r\n",
        "      #Dakle zapravo zelimo da maksimizujemo taj skor\r\n",
        "      return self.fitness > other.fitness\r\n",
        "\r\n",
        "    def calculateFitnessFunction(self):\r\n",
        "        #pretvoriti drvo u regex i videti i izracunati n_m - n_u\r\n",
        "        string = treeToString(self.code)\r\n",
        "        for wordM, wordU in zip(self.setM, self.setU): \r\n",
        "          #vratice nam listu stringova koji se poklapaju\r\n",
        "          matchM = re.findall(string, wordM)\r\n",
        "          matchU = re.findall(string, wordU)\r\n",
        "          for m in matchM:\r\n",
        "            if len(m) == len(wordM):\r\n",
        "              self.n_m +=1\r\n",
        "          for m in  matchU:\r\n",
        "            if len(m) == len(wordU):\r\n",
        "              self.n_u += 1\r\n",
        "        return self.n_m - self.n_u\r\n",
        "\r\n",
        "    def calculateFitnessRegex(self):\r\n",
        "        #pretvoriti drvo u string i vratiti njegovu duzinu\r\n",
        "        string = treeToString(self.code)\r\n",
        "        return len(string)\r\n",
        "    \r\n",
        "    def __str__(self):\r\n",
        "      treeString = treeToString(self.code)\r\n",
        "      return treeString"
      ],
      "execution_count": 165,
      "outputs": []
    },
    {
      "cell_type": "code",
      "metadata": {
        "id": "7M1VZspkJlAk"
      },
      "source": [
        "#Selekcija je klasicna, od sedam slucajno odabranih jedinki biramo onu sa najboljim fitnesom i njen indeks vracamo\n",
        "\n",
        "def selection(population):\n",
        "  TOURNAMENT_SIZE = 7\n",
        "  betsFitness = float('-inf')\n",
        "  bestIndex = -1\n",
        "\n",
        "  for i in range(TOURNAMENT_SIZE):\n",
        "    index = random.randrange(len(population))\n",
        "    if population[index].fitness > betsFitness:\n",
        "      betsFitness = population[index].fitness\n",
        "      bestIndex = index\n",
        "  return bestIndex"
      ],
      "execution_count": 150,
      "outputs": []
    },
    {
      "cell_type": "code",
      "metadata": {
        "id": "zKwTyD6NgIwB"
      },
      "source": [
        "import copy\n",
        "def crossover(parent1, parent2, child1, child2):\n",
        "  #definisemo jednopoziciono ukrstanje\n",
        "  map1 = treeNumeration(parent1)\n",
        "  map2 = treeNumeration(parent2)\n",
        "\n",
        "  parent1Size = len(map1) + 1\n",
        "  parent2Size = len(map2) + 1\n",
        "\n",
        "  breakpoint = -1\n",
        "  if parent1Size <= parent2Size:\n",
        "    breakpoint = random.randrange(parent1Size)\n",
        "  else:\n",
        "    breakpoint = random.randrange(parent2Size)\n",
        "\n",
        "  #cvorovi su numerisani zato breakpoint uvecavamo za 1 i pretrazujemo mapu\n",
        "  find = breakpoint + 1\n",
        "  #u pitanju je koren\n",
        "  if find == 1:\n",
        "    child1 = copy.deepcopy(parent2)\n",
        "    child2 = copy.deepcopy(parent1)\n",
        "  else:\n",
        "    map1Keys = map1.keys()\n",
        "    map2Keys = map2.keys()\n",
        "\n",
        "    replaceAtPositionParent1 = -1\n",
        "    side1 = -1\n",
        "    replaceAtPositionParent2 = -1\n",
        "    side2 = -1\n",
        "\n",
        "    #prolazimo kroz mapu da bismo nasli roditelja korena podstabla koje trebamo da zamneimo\n",
        "    child1 = copy.deepcopy(parent1)\n",
        "    child2 = copy.deepcopy(parent2)\n",
        "\n",
        "    mapChild1 = treeNumeration(child1)\n",
        "    mapChild2 = treeNumeration(child2)\n",
        "\n",
        "    for i in mapChild1:\n",
        "      children = map1[i]\n",
        "      for child in children:\n",
        "        if find == child.id:\n",
        "          #treba da zamenimo j-to dete korena i \n",
        "          replaceAtPositionParent1 = i\n",
        "          side1 = child\n",
        "    #isto i ovde\n",
        "    for i in mapChild2:\n",
        "      children = map2[i]\n",
        "      for child in children:\n",
        "        if find == child.id:\n",
        "          replaceAtPositionParent2 = i\n",
        "          side2 = child\n"
      ],
      "execution_count": 184,
      "outputs": []
    },
    {
      "cell_type": "markdown",
      "metadata": {
        "id": "RXddTWc878MS"
      },
      "source": [
        "\r\n",
        "- Prvih |M| jedinki populacije se formiraju tako sto se koriste samo slova iz trenutne reci i operator konkatenacije (..)\r\n",
        "- Ostalih POPULATION_SIZE-|M| jedinki se formiraju random, dubine drveta 1-5"
      ]
    },
    {
      "cell_type": "markdown",
      "metadata": {
        "id": "JUWTwnw9-pOC"
      },
      "source": [
        "Formiranje nove populacije:\r\n",
        "- 10% random\r\n",
        "- 10% mutacijom\r\n",
        "- 80% ukrstanje"
      ]
    },
    {
      "cell_type": "code",
      "metadata": {
        "id": "Fbu8GKpM5r7r"
      },
      "source": [
        "def genetic_programming():\r\n",
        "    population = [Individual() for _ in range(POPULATION_SIZE)]\r\n",
        "    newPopulation = [Individual() for _ in range(POPULATION_SIZE)]\r\n",
        "\r\n",
        "    solutionFound = False\r\n",
        "\r\n",
        "    for i in range(NUMBER_GENERATIONS):\r\n",
        "        population.sort()\r\n",
        "\r\n",
        "        if population[0].fitnessFunction == num_m:\r\n",
        "            solutionFound = True\r\n",
        "            break\r\n",
        "\r\n",
        "        for j in range(0, POPULATION_SIZE, 2):\r\n",
        "            parent1Index = selection(population)\r\n",
        "            parent2Index = selection(population)\r\n",
        "\r\n",
        "            crossover(population[parent1Index], population[parent2Index], newPopulation[j], newPopulation[j+1])\r\n",
        "\r\n",
        "            mutation(newPopulation[j])\r\n",
        "            mutation(newPopulation[j+1])\r\n",
        "\r\n",
        "            newPopulation[j].fitness = newPopulation[j].calculateFitness()\r\n",
        "            newPopulation[j+1].fitness = newPopulation[j+1].calculateFitness()\r\n",
        "\r\n",
        "        population = newPopulation"
      ],
      "execution_count": 61,
      "outputs": []
    },
    {
      "cell_type": "code",
      "metadata": {
        "id": "mNHxAYetHZtd",
        "colab": {
          "base_uri": "https://localhost:8080/"
        },
        "outputId": "5f43dbae-284f-43e1-bacf-98afacde1c4c"
      },
      "source": [
        "n = Individual(match, unmatch)\n",
        "print(n)"
      ],
      "execution_count": 62,
      "outputs": [
        {
          "output_type": "stream",
          "text": [
            "lfoo*\n"
          ],
          "name": "stdout"
        }
      ]
    },
    {
      "cell_type": "code",
      "metadata": {
        "id": "Ba0G8G40N8Pu"
      },
      "source": [
        ""
      ],
      "execution_count": null,
      "outputs": []
    }
  ]
}