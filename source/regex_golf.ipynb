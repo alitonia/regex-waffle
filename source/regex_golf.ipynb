{
  "nbformat": 4,
  "nbformat_minor": 0,
  "metadata": {
    "colab": {
      "name": "regex_golf.ipynb",
      "provenance": [],
      "collapsed_sections": [],
      "toc_visible": true
    },
    "kernelspec": {
      "name": "python3",
      "display_name": "Python 3"
    },
    "accelerator": "GPU"
  },
  "cells": [
    {
      "cell_type": "markdown",
      "metadata": {
        "id": "ISPE_Lhzn-Ap"
      },
      "source": [
        "# Priprema podataka"
      ]
    },
    {
      "cell_type": "markdown",
      "metadata": {
        "id": "1HNfv6NG-T-O"
      },
      "source": [
        "**Ucitavanje podataka iz datoteke**\r\n",
        "  - u prvoj liniji su reci za koje treba naci regex (skup M)\r\n",
        "  - u drugoj liniji su reci za koje ne treba naci regex (skup U)\r\n",
        "  - reci u razdvojene sa: \", \""
      ]
    },
    {
      "cell_type": "code",
      "metadata": {
        "id": "UeMYatGC84Z2"
      },
      "source": [
        "def readFile(filename):\r\n",
        "    with open(filename, 'r') as f:\r\n",
        "        match = [word for word in f.readline().split(\", \")]\r\n",
        "        # uklanjanje novog reda iz poslednje reci\r\n",
        "        match[-1] = match[-1][:-1]\r\n",
        "        unmatch = [word for word in f.readline().split(\", \")]\r\n",
        "        \r\n",
        "    return match, unmatch"
      ],
      "execution_count": 1,
      "outputs": []
    },
    {
      "cell_type": "code",
      "metadata": {
        "id": "urj9UlsW91GF",
        "colab": {
          "base_uri": "https://localhost:8080/"
        },
        "outputId": "679c9799-9c21-4631-8cb2-7921c4178c80"
      },
      "source": [
        "# M i U skupovi reci\r\n",
        "match, unmatch = readFile(\"/content/example_1.txt\")\r\n",
        "print(\"M skup: \", match)\r\n",
        "print(\"U skup: \", unmatch)"
      ],
      "execution_count": 4,
      "outputs": [
        {
          "output_type": "stream",
          "text": [
            "M skup:  ['afoot', 'catfoot', 'dogfoot', 'fanfoot', 'foody', 'foolery', 'foolish', 'fooster', 'footage', 'foothot', 'footle', 'footpad', 'footway', 'hotfoot', 'jawfoot', 'mafoo', 'nonfood', 'padfoot', 'prefool', 'sfoot', 'unfool']\n",
            "U skup:  ['Atlas', 'Aymoro', 'Iberic', 'Mahran', 'Ormazd', 'Silipan', 'altared', 'chandoo', 'crenel', 'crooked', 'fardo', 'folksy', 'forest', 'hebamic', 'idgah', 'manlike', 'marly', 'palazzi', 'sixfold', 'tarrock', 'unfold']\n"
          ],
          "name": "stdout"
        }
      ]
    },
    {
      "cell_type": "code",
      "metadata": {
        "id": "EGt04P3F_Zyu",
        "colab": {
          "base_uri": "https://localhost:8080/"
        },
        "outputId": "bb394b13-c57a-4856-ebec-c4baab30cb0d"
      },
      "source": [
        "# Broj reci u skupovima\r\n",
        "num_m = len(match)\r\n",
        "num_u = len(unmatch)\r\n",
        "print(num_m)\r\n",
        "print(num_u)"
      ],
      "execution_count": 5,
      "outputs": [
        {
          "output_type": "stream",
          "text": [
            "21\n",
            "21\n"
          ],
          "name": "stdout"
        }
      ]
    },
    {
      "cell_type": "markdown",
      "metadata": {
        "id": "MURatuNTEsXH"
      },
      "source": [
        "**Karakteri koji se pojavljuju u skupu M**"
      ]
    },
    {
      "cell_type": "code",
      "metadata": {
        "id": "0W6_Yhe0DyJR"
      },
      "source": [
        "def charsInSet(wordSet):\n",
        "    chars = []\n",
        " \n",
        "    for word in wordSet:\n",
        "        for c in word:\n",
        "            if c not in chars:\n",
        "                chars.append(c)\n",
        " \n",
        "    chars.sort()\n",
        " \n",
        "    return chars"
      ],
      "execution_count": 6,
      "outputs": []
    },
    {
      "cell_type": "code",
      "metadata": {
        "id": "8fh6YP-iEGUb",
        "colab": {
          "base_uri": "https://localhost:8080/"
        },
        "outputId": "e708f9ea-a5ff-4331-88cc-d23cd48d4acd"
      },
      "source": [
        "chars_in_M = charsInSet(match)\r\n",
        "print(chars_in_M)"
      ],
      "execution_count": 7,
      "outputs": [
        {
          "output_type": "stream",
          "text": [
            "['a', 'c', 'd', 'e', 'f', 'g', 'h', 'i', 'j', 'l', 'm', 'n', 'o', 'p', 'r', 's', 't', 'u', 'w', 'y']\n"
          ],
          "name": "stdout"
        }
      ]
    },
    {
      "cell_type": "markdown",
      "metadata": {
        "id": "Jca6y4S-ExZ_"
      },
      "source": [
        "**Opsezi reci (partial ranges) koji se javljaju u skupu M**"
      ]
    },
    {
      "cell_type": "code",
      "metadata": {
        "id": "fmjDtrNFAQRR"
      },
      "source": [
        "def makeRanges(chars_in_M):\r\n",
        "    ranges = []\r\n",
        "\r\n",
        "    i = 0\r\n",
        "    #za svako slovo niza proveravamo\r\n",
        "    while i < len(chars_in_M)-1:\r\n",
        "        distance = 0\r\n",
        "        for j in range(i+1, len(chars_in_M)):\r\n",
        "            if ord(chars_in_M[j]) - ord(chars_in_M[i]) == distance + 1:\r\n",
        "                distance += 1\r\n",
        "            else:\r\n",
        "                if chars_in_M[i] != chars_in_M[j-1]:\r\n",
        "                    ranges.append(chars_in_M[i] + '-' + chars_in_M[j-1])\r\n",
        "                i = j\r\n",
        "                break\r\n",
        "\r\n",
        "    return ranges"
      ],
      "execution_count": 8,
      "outputs": []
    },
    {
      "cell_type": "code",
      "metadata": {
        "id": "djfuWM9kARZI",
        "colab": {
          "base_uri": "https://localhost:8080/"
        },
        "outputId": "fa8c925b-4a8f-446d-9faa-c58feab0ebc1"
      },
      "source": [
        "ranges = makeRanges(chars_in_M)\r\n",
        "print(ranges)"
      ],
      "execution_count": 9,
      "outputs": [
        {
          "output_type": "stream",
          "text": [
            "['c-j', 'l-p', 'r-u']\n"
          ],
          "name": "stdout"
        }
      ]
    },
    {
      "cell_type": "markdown",
      "metadata": {
        "id": "9W6gGCDjGkIj"
      },
      "source": [
        "**n-grami**"
      ]
    },
    {
      "cell_type": "code",
      "metadata": {
        "id": "okk1oZ_LGvFa"
      },
      "source": [
        "def ngram(M, U):\r\n",
        "    res = {}\r\n",
        "\r\n",
        "    # n-grami su duzine od 2 do 4\r\n",
        "    for n in range(2, 5):\r\n",
        "        # prolazimo kroz sve reci iz M i iz U \r\n",
        "        # (radi ako su skupovi iste duzine)\r\n",
        "        for i in range(0, len(M)):\r\n",
        "            word_m = M[i]\r\n",
        "            word_u = U[i]\r\n",
        "            \r\n",
        "            word_m_visited = False\r\n",
        "            word_u_visited = False\r\n",
        "            \r\n",
        "            # pravimo n-grame od jedne reci iz M i jedne iz U\r\n",
        "            ngrams_m = zip(*[word_m[i:] for i in range(n)])\r\n",
        "            ngrams_u = zip(*[word_u[i:] for i in range(n)])\r\n",
        "\r\n",
        "            gram_m = [\"\".join(gr) for gr in ngrams_m]\r\n",
        "            gram_u = [\"\".join(gr) for gr in ngrams_u]\r\n",
        "\r\n",
        "            # ne smemo imati ponavljanje n-grama u istoj reci (pravimo skup)\r\n",
        "            gram_m = set(gram_m)\r\n",
        "            gram_u = set(gram_u)\r\n",
        "\r\n",
        "            # azuriramo score za ngram u zavisnosti u kom skupu se nalazi\r\n",
        "            for g in gram_m: # povecavamo score ako je u M\r\n",
        "                if g not in res:\r\n",
        "                    res[g] = 1\r\n",
        "                elif g in res: \r\n",
        "                    res[g] += 1\r\n",
        "\r\n",
        "            for g in gram_u: # smanjujemo score ako je u U\r\n",
        "                if g not in res:\r\n",
        "                    res[g] = -1\r\n",
        "                elif g in res:\r\n",
        "                    res[g] -= 1\r\n",
        "\r\n",
        "    return res"
      ],
      "execution_count": 10,
      "outputs": []
    },
    {
      "cell_type": "code",
      "metadata": {
        "id": "xwy2yN8TowU3",
        "colab": {
          "base_uri": "https://localhost:8080/"
        },
        "outputId": "ae089c70-8312-4338-dd82-0cff827f25ea"
      },
      "source": [
        "ngrams = ngram(match, unmatch)\r\n",
        "ngrams = sorted(ngrams.items(), key=lambda x: x[1], reverse=True)\r\n",
        "\r\n",
        "# ngram_subset je najmanji podskup od ngrams tako da je skor reci bar |M|\r\n",
        "ngram_subset = []\r\n",
        "score = 0\r\n",
        "\r\n",
        "for i in range(len(ngrams)):\r\n",
        "    if ngrams[i][1] > 0: # azuriramo samo ako je skor pozitivan\r\n",
        "        score += ngrams[i][1]\r\n",
        "        ngram_subset.append(ngrams[i][0])\r\n",
        "\r\n",
        "        if score >= num_m:\r\n",
        "            break \r\n",
        "\r\n",
        "print(ngram_subset)"
      ],
      "execution_count": 11,
      "outputs": [
        {
          "output_type": "stream",
          "text": [
            "['foo']\n"
          ],
          "name": "stdout"
        }
      ]
    },
    {
      "cell_type": "markdown",
      "metadata": {
        "id": "OJ1LqEhCAdnP"
      },
      "source": [
        "**Terminal i Function skupovi**"
      ]
    },
    {
      "cell_type": "code",
      "metadata": {
        "id": "H1QYV3TkAdVp"
      },
      "source": [
        "# . je placeholder za dete cvor\r\n",
        "FUNCTION_SET = [\".*\", \".+\", \".?\", \".{.,.}+\", # possessive quantifiers\r\n",
        "                \"(.)\",                          # group\r\n",
        "                \"[.]\",                          # character class\r\n",
        "                \"[^.]\",                         # negated character\r\n",
        "                \"..\",                           # concatenator (binary node) mislim da treba da promenimo prikaz ovog noda tipa ` jer je kod njih tacka na sredini a ovo znaci concat\r\n",
        "                \".|.\",                          # disjunction\r\n",
        "                ]"
      ],
      "execution_count": 12,
      "outputs": []
    },
    {
      "cell_type": "code",
      "metadata": {
        "id": "qq_YS0U6B1jH"
      },
      "source": [
        "TERMINAL_SET = [\"a-z\", \"A-Z\", \"0-9\", \"^\", \"$\", \"%\", # instance independent terminals\r\n",
        "                \"\\w\", \"\\W\", \"\\d\", \"\\D\", \"\\b\", \"\\B\", \"\\A\", \"\\Z\", \"\\s\", \"\\S\"\r\n",
        "               ]"
      ],
      "execution_count": 13,
      "outputs": []
    },
    {
      "cell_type": "code",
      "metadata": {
        "id": "2OTi9DqqwaIW",
        "colab": {
          "base_uri": "https://localhost:8080/"
        },
        "outputId": "04526748-8aaf-4c10-adbc-a5e2cddaab18"
      },
      "source": [
        "# dodajemo sve karaktere iz M u terminal set\n",
        "TERMINAL_SET.extend(chars_in_M)\n",
        "\n",
        "# upisujemo n_grame u terminal set\n",
        "TERMINAL_SET.extend(ngram_subset)\n",
        "\n",
        "# ispisujemo range-ove u terminal set\n",
        "TERMINAL_SET.extend(ranges)\n",
        "\n",
        "print(TERMINAL_SET)"
      ],
      "execution_count": 14,
      "outputs": [
        {
          "output_type": "stream",
          "text": [
            "['a-z', 'A-Z', '0-9', '^', '$', '%', '\\\\w', '\\\\W', '\\\\d', '\\\\D', '\\x08', '\\\\B', '\\\\A', '\\\\Z', '\\\\s', '\\\\S', 'a', 'c', 'd', 'e', 'f', 'g', 'h', 'i', 'j', 'l', 'm', 'n', 'o', 'p', 'r', 's', 't', 'u', 'w', 'y', 'foo', 'c-j', 'l-p', 'r-u']\n"
          ],
          "name": "stdout"
        }
      ]
    },
    {
      "cell_type": "markdown",
      "metadata": {
        "id": "9dlZ8YuQ3neO"
      },
      "source": [
        "# Formiranje jedinke"
      ]
    },
    {
      "cell_type": "code",
      "metadata": {
        "id": "FMD9wViZyB_Z"
      },
      "source": [
        "import re\n",
        "import random"
      ],
      "execution_count": 15,
      "outputs": []
    },
    {
      "cell_type": "markdown",
      "metadata": {
        "id": "tNVz7TuhDc8t"
      },
      "source": [
        "Funkcija *getRandom()* bira jedan element ili iz skupa Terminal ili iz skupa Function"
      ]
    },
    {
      "cell_type": "code",
      "metadata": {
        "id": "YEYrP_-uV4Vt"
      },
      "source": [
        "def getRandom():\r\n",
        "      pickSet = random.choice(['f', 't'])\r\n",
        "      if pickSet == 't':\r\n",
        "        value = random.choice(FUNCTION_SET)\r\n",
        "        if value in [\".{.,.}+\"]:\r\n",
        "          return value, 3\r\n",
        "        elif value in [\".|.\", \"..\"]:\r\n",
        "          return value, 2\r\n",
        "        else:\r\n",
        "          return value, 1\r\n",
        "      else:\r\n",
        "        value = random.choice(TERMINAL_SET)\r\n",
        "        return value, 0"
      ],
      "execution_count": 16,
      "outputs": []
    },
    {
      "cell_type": "markdown",
      "metadata": {
        "id": "2KMYr_arDmpK"
      },
      "source": [
        "Klasa *Node* predstavlja apstraktno drvo na osnovu koga se dobija regularni izraz"
      ]
    },
    {
      "cell_type": "code",
      "metadata": {
        "id": "fdvmyeLPEnSO"
      },
      "source": [
        "class Node(object):\n",
        "  def __init__(self, depth, root):\n",
        "    self.depth = depth\n",
        "    self.value = \"\"\n",
        "    self.childrenNum = 0\n",
        "    self.id = -1\n",
        "    \n",
        "    if root:\n",
        "      self.value = \".\"\n",
        "      self.childrenNum = 2\n",
        "    else:\n",
        "      self.value, self.childrenNum = getRandom()\n",
        "    \n",
        "    self.left = None\n",
        "    self.right = None\n",
        "    self.third = None\n",
        "\n",
        "    if self.childrenNum == 3:\n",
        "      self.left= Node(depth+1, False)\n",
        "      self.right = Node(depth +1, False)\n",
        "      self.third = Node(depth+1, False)\n",
        "    elif self.childrenNum == 2:\n",
        "      self.left = Node(depth+1, False)\n",
        "      self.right = Node(depth+1, False)\n",
        "    elif self.childrenNum == 1:\n",
        "      self.left = Node(depth+1, False)  "
      ],
      "execution_count": 17,
      "outputs": []
    },
    {
      "cell_type": "markdown",
      "metadata": {
        "id": "n6xPNtvCD7Rc"
      },
      "source": [
        "Obilazimo drvo BFS-om i oznacavamo sve cvorove kao neposecene"
      ]
    },
    {
      "cell_type": "code",
      "metadata": {
        "id": "FECqx1zDvS8v"
      },
      "source": [
        "def unvisit(n):\r\n",
        "\r\n",
        "  q = []\r\n",
        "  q.append(n)\r\n",
        "\r\n",
        "  while len(q) >= 1:\r\n",
        "    top = q.pop(0)\r\n",
        "\r\n",
        "    if top.id > -1:\r\n",
        "      top.id = -1\r\n",
        "      i = top.childrenNum\r\n",
        "      if i == 1:\r\n",
        "        q.append(top.left)\r\n",
        "        \r\n",
        "      elif i == 2:\r\n",
        "        q.append(top.left)\r\n",
        "        q.append(top.right)\r\n",
        "        \r\n",
        "      elif i == 3:\r\n",
        "        q.append(top.left)\r\n",
        "        q.append(top.right)\r\n",
        "        q.append(top.third)"
      ],
      "execution_count": 19,
      "outputs": []
    },
    {
      "cell_type": "markdown",
      "metadata": {
        "id": "67tJe6W7ECGz"
      },
      "source": [
        "Obilazimo drvo BFS-om i numerisemo redom cvorove"
      ]
    },
    {
      "cell_type": "code",
      "metadata": {
        "id": "Vpw0scGYW21i"
      },
      "source": [
        "def treeNumeration(n):\n",
        "\n",
        "  unvisit(n)\n",
        "\n",
        "  parentMap = {}\n",
        "  q = []\n",
        "  q.append(n)\n",
        "  num = 0\n",
        "\n",
        "  while len(q) >= 1:\n",
        "    top = q.pop(0)\n",
        "\n",
        "    if top.id == -1:\n",
        "      top.id = num\n",
        "      num += 1\n",
        "      i = top.childrenNum\n",
        "      if i == 0:\n",
        "        parentMap[num-1] = [-1]\n",
        "      elif i == 1:\n",
        "        q.append(top.left)\n",
        "        parentMap[num-1] = [top.left]\n",
        "      elif i == 2:\n",
        "        q.append(top.left)\n",
        "        q.append(top.right)\n",
        "        parentMap[num-1] = [top.left, top.right]\n",
        "      else:\n",
        "        q.append(top.left)\n",
        "        q.append(top.right)\n",
        "        q.append(top.third)\n",
        "        parentMap[num-1] = [top.left, top.right, top.third]\n",
        "  \n",
        "  # u mapi se uvek prvo navodi indeks levog, \n",
        "  # zatim desnog (ako postoji) i na kraju \n",
        "  # treceg deteta(ako postoji)\n",
        "  return parentMap"
      ],
      "execution_count": 20,
      "outputs": []
    },
    {
      "cell_type": "markdown",
      "metadata": {
        "id": "nYdHBOWBEMDT"
      },
      "source": [
        "Formiramo string koji predstavlja regularni izraz na osnovu stabla"
      ]
    },
    {
      "cell_type": "code",
      "metadata": {
        "id": "w89pncLsn_9j"
      },
      "source": [
        "def treeToString(node):\n",
        "\n",
        "  if node.value in TERMINAL_SET:\n",
        "    if node.value == \"%\":\n",
        "      return \".\"\n",
        "    return node.value\n",
        "  \n",
        "  rl= treeToString(node.left)\n",
        "  if node.childrenNum == 2:\n",
        "    rr = treeToString(node.right)\n",
        "  if node.childrenNum == 3:\n",
        "    rr = treeToString(node.right)\n",
        "    rt = treeToString(node.third)\n",
        "  \n",
        "  if node.value in FUNCTION_SET:\n",
        "    if node.value == \".*\":\n",
        "      string = rl + \"*\"\n",
        "      return string\n",
        "    if node.value == \".+\":\n",
        "      string = rl + \"+\"\n",
        "      return string\n",
        "    if node.value == \".?\":\n",
        "      string = rl + \"?\"\n",
        "      return string\n",
        "    if node.value == \"(.)\":\n",
        "      string = \"(\" + rl + \")\"\n",
        "      return string\n",
        "    if node.value == \"[.]\":\n",
        "      string = \"[\" + rl + \"]\"\n",
        "      return string\n",
        "    if node.value == \"[^.]\":\n",
        "      string = \"[^\" + rl + \"]\"\n",
        "      return string\n",
        "    if node.value == \"..\":\n",
        "      string = rl + rr\n",
        "      return string\n",
        "    if node.value == \".|.\":\n",
        "      string = rl + \"|\" + rr\n",
        "      return string\n",
        "    if node.value == \".{.,.}+\":\n",
        "      string = rl + \"{\" + rr + \",\" + rt + \"}+\"\n",
        "      return string\n",
        "\n",
        "    # print(\"MATCHOVO SE SA FUNCTIONAL A NIJE FUNCTIONAL \" + node.value)\n",
        "  \n",
        "  #ako je dosao do ovde je root\n",
        "  string = rl + rr\n",
        "\n",
        "  return string\n"
      ],
      "execution_count": 21,
      "outputs": []
    },
    {
      "cell_type": "markdown",
      "metadata": {
        "id": "-_aRP2dQEVJq"
      },
      "source": [
        "Klasa *Individual* predstavlja jedinku koju koristimo za generisanje populacije"
      ]
    },
    {
      "cell_type": "markdown",
      "metadata": {
        "id": "81w_ilWI8wkb"
      },
      "source": [
        "Svaka jedinka ima 2 vrste fitnesa:\r\n",
        "- funkcija n_m - n_u treba da se maksimizuje\r\n",
        "- duzina r treba da se minimizuje\r\n",
        "\r\n",
        "r je trenutni regex, n_m je broj reci iz M koje su poklopljene sa r, n_u je broj reci iz U koje su poklopljene sa r"
      ]
    },
    {
      "cell_type": "code",
      "metadata": {
        "id": "Uj_P2KA95mus"
      },
      "source": [
        "class Individual:\n",
        "    def __init__(self, setM, setU):\n",
        "        # code je apstrakto drvo koje cuva odredjeni regex u sebi\n",
        "        self.code = self.initialize()\n",
        "        self.wi = 10\n",
        "        # setM i setU su ulazni skupovi M i U\n",
        "        self.setM = setM.copy()\n",
        "        self.setU = setU.copy()\n",
        "\n",
        "        #n_m - n_u - maximize\n",
        "        self.fitnessFunction = self.calculateFitnessFunction()\n",
        "        # length(r) - minimize\n",
        "        self.fitnessRegex = self.calculateFitnessRegex()\n",
        "        # fitness racunamo kao wi*(n_m - n_u) - length(r)\n",
        "        self.fitness = self.finalFitness()\n",
        "\n",
        "    # inicijalizujemo code jedinke\n",
        "    def initialize(self):\n",
        "      generated = False\n",
        "      while not generated:\n",
        "        n = Node(0, True)\n",
        "        treeString = treeToString(n)\n",
        "        try:\n",
        "          re.compile(treeString)\n",
        "          # ako kompilacija regexa ne izazove exception,\n",
        "          # onda je to validan regex i prihvatamo ovu jedinku\n",
        "          generated = True \n",
        "        except Exception:\n",
        "          generated = False\n",
        "        \n",
        "      return n\n",
        "\n",
        "    # provera da li je dobijeni regex validan\n",
        "    def isFeasible(self):\n",
        "      treeString = treeToString(self.code)\n",
        "      try:\n",
        "        re.compile(treeString)\n",
        "        return True\n",
        "      except Exception:\n",
        "        return False\n",
        "\n",
        "    def __lt__(self, other):\n",
        "      #zelimo da maksimizujemo fitnes\n",
        "      return self.fitness > other.fitness\n",
        "    \n",
        "    def __str__(self):\n",
        "      treeString = treeToString(self.code)\n",
        "      return treeString\n",
        "\n",
        "    def calculateFitnessFunction(self):\n",
        "        n_m = 0\n",
        "        n_u = 0\n",
        "        regex = treeToString(self.code)\n",
        "\n",
        "        for wordM, wordU in zip(self.setM, self.setU): \n",
        "          # vratice nam listu stringova koji se poklapaju\n",
        "          matchM = re.findall(regex, wordM)\n",
        "          matchU = re.findall(regex, wordU)\n",
        "\n",
        "          foundM = False\n",
        "          foundU = False\n",
        "\n",
        "          for m in matchM:\n",
        "            # u slucaju | - m moze imati vise elemenata u sebi\n",
        "            for elem in m:\n",
        "                if elem != \"\":\n",
        "                    if len(elem) == len(wordM) or elem in wordM:\n",
        "                        n_m += 1\n",
        "                        foundM = True\n",
        "                        break\n",
        "            if foundM:\n",
        "                break\n",
        "            \n",
        "          for m in  matchU:\n",
        "            # u slucaju | - m moze imati vise elemenata u sebi\n",
        "            for elem in m:\n",
        "                if elem != \"\":\n",
        "                    if len(elem) == len(wordU) or elem in wordU:\n",
        "                        n_u += 1\n",
        "                        foundU = True\n",
        "                        break\n",
        "            if foundU:\n",
        "                break\n",
        "\n",
        "        return n_m - n_u\n",
        "\n",
        "    def calculateFitnessRegex(self):\n",
        "        regex = treeToString(self.code)\n",
        "        return len(regex)\n",
        "\n",
        "    def finalFitness(self):\n",
        "      try:\n",
        "        return self.wi * self.calculateFitnessFunction() - self.calculateFitnessRegex()\n",
        "      except Exception:\n",
        "        return -100000"
      ],
      "execution_count": 82,
      "outputs": []
    },
    {
      "cell_type": "markdown",
      "metadata": {
        "id": "ecFcRuanFVDd"
      },
      "source": [
        "# Parametri genetskog programiranja"
      ]
    },
    {
      "cell_type": "code",
      "metadata": {
        "id": "OX-BtWu7FUP1"
      },
      "source": [
        "# pocetni parametri (zasnovani na dokumentaciji)\r\n",
        "POPULATION_SIZE = 500\r\n",
        "GENERATIONS_NUM = 1000\r\n",
        "POPULATION_NUM = 32\r\n",
        "TOURNAMENT_SIZE = 7\r\n",
        "MUTATION_PROB = 0.1\r\n",
        "ELITIZM_SIZE = int(0.02 * POPULATION_SIZE)"
      ],
      "execution_count": 83,
      "outputs": []
    },
    {
      "cell_type": "markdown",
      "metadata": {
        "id": "kOgdOKZAFG1o"
      },
      "source": [
        "# Genetesko programiranje"
      ]
    },
    {
      "cell_type": "markdown",
      "metadata": {
        "id": "53JEMl7kFjIy"
      },
      "source": [
        "Selekcija je klasicna, od sedam slucajno odabranih jedinki biramo onu sa najboljim fitnesom i njen indeks vracamo"
      ]
    },
    {
      "cell_type": "code",
      "metadata": {
        "id": "O_oXrtwwFpM2"
      },
      "source": [
        "import copy"
      ],
      "execution_count": 84,
      "outputs": []
    },
    {
      "cell_type": "code",
      "metadata": {
        "id": "7M1VZspkJlAk"
      },
      "source": [
        "def selection(population):\n",
        "  betsFitness = float('-inf')\n",
        "  bestIndex = -1\n",
        "\n",
        "  for i in range(TOURNAMENT_SIZE):\n",
        "    index = random.randrange(len(population))\n",
        "    if population[index].fitness > betsFitness:\n",
        "      betsFitness = population[index].fitness\n",
        "      bestIndex = index\n",
        "      \n",
        "  return bestIndex"
      ],
      "execution_count": 85,
      "outputs": []
    },
    {
      "cell_type": "markdown",
      "metadata": {
        "id": "sEm6ufwCFsgy"
      },
      "source": [
        "Pokusavamo da nadjemo cvor koji je numerisan brojem position, i njegovo dete (levo-0, desno-1, trece-2), menjamo adresom podstabla address"
      ]
    },
    {
      "cell_type": "code",
      "metadata": {
        "id": "LxgLd6vvF17L"
      },
      "source": [
        "def replace(root, position, child, address):\r\n",
        "  \r\n",
        "  red = []\r\n",
        "  red.append(root)\r\n",
        "  found = False\r\n",
        "\r\n",
        "  while not found:\r\n",
        "    node = red.pop(0)\r\n",
        "    if node.id == position:\r\n",
        "      found = True\r\n",
        "      if child == 0:\r\n",
        "        node.left = address\r\n",
        "      elif child == 1:\r\n",
        "        node.right = address\r\n",
        "      else:\r\n",
        "        node.third = address\r\n",
        "    else:\r\n",
        "      children = node.childrenNum\r\n",
        "      if children == 1:\r\n",
        "        red.append(node.left)\r\n",
        "      elif children == 2:\r\n",
        "        red.append(node.left)\r\n",
        "        red.append(node.right)\r\n",
        "      elif children == 3:\r\n",
        "        red.append(node.left)\r\n",
        "        red.append(node.right)\r\n",
        "        red.append(node.third)"
      ],
      "execution_count": 77,
      "outputs": []
    },
    {
      "cell_type": "markdown",
      "metadata": {
        "id": "Jo-3hItxF4x0"
      },
      "source": [
        "Jednopoziciono ukrstanje"
      ]
    },
    {
      "cell_type": "code",
      "metadata": {
        "id": "zKwTyD6NgIwB"
      },
      "source": [
        "def crossover(parent1, parent2, child1, child2):\n",
        "  \n",
        "  map1 = treeNumeration(parent1.code)\n",
        "  map2 = treeNumeration(parent2.code)\n",
        "  \n",
        "  parent1Size = len(map1)\n",
        "  parent2Size = len(map2) \n",
        "\n",
        "  breakpoint = -1\n",
        "  if parent1Size <= parent2Size:\n",
        "    breakpoint = random.randrange(parent1Size)\n",
        "  else:\n",
        "    breakpoint = random.randrange(parent2Size)\n",
        "\n",
        "  find = breakpoint\n",
        "  \n",
        "  if find == 0:\n",
        "    # root je izabran\n",
        "    child1.code = copy.deepcopy(parent2.code)\n",
        "    child2.code = copy.deepcopy(parent1.code)\n",
        "  else:\n",
        "    child1.code = copy.deepcopy(parent1.code)\n",
        "    child2.code = copy.deepcopy(parent2.code)\n",
        "    \n",
        "    unvisit(child1.code)\n",
        "    unvisit(child2.code)\n",
        "\n",
        "    #znamo da ce cvorovi biti isto numerisani\n",
        "    mapChild1 = treeNumeration(child1.code)\n",
        "    mapChild2 = treeNumeration(child2.code)\n",
        "    \n",
        "    map1Keys = mapChild1.keys()\n",
        "    map2Keys = mapChild2.keys()\n",
        "\n",
        "    replaceAtPositionParent1 = -1\n",
        "    childAdress1 = -1\n",
        "    side1 = -1\n",
        "    replaceAtPositionParent2 = -1\n",
        "    childAdress2 = -1\n",
        "    side2 = -1\n",
        "\n",
        "    for i in map1Keys:\n",
        "      children = mapChild1[i]\n",
        "      index = 0\n",
        "      for child in children:\n",
        "        if child == -1:\n",
        "          continue\n",
        "        if find == child.id:\n",
        "          # id roditelja podstabla koje menjamo\n",
        "          replaceAtPositionParent1 = i\n",
        "          # pokazivac na podstablo koje menjamo\n",
        "          childAdress1 = child\n",
        "          # broj koji sugerise da li je levo(0), desno(1), ili trece(2) dete\n",
        "          side1 = index\n",
        "        else:\n",
        "          index += 1\n",
        "\n",
        "    # isto i ovde\n",
        "    for i in map2Keys:\n",
        "      children = mapChild2[i]\n",
        "      index = 0\n",
        "      for child in children:\n",
        "        if child == -1:\n",
        "          continue\n",
        "        if find == child.id:\n",
        "          replaceAtPositionParent2 = i\n",
        "          childAdress2 = child\n",
        "          side2 = index\n",
        "        else:\n",
        "          index += 1\n",
        "  \n",
        "    replace(child1.code, replaceAtPositionParent1, side1, childAdress2)\n",
        "    replace(child2.code, replaceAtPositionParent2, side2, childAdress1) \n",
        "\n",
        "    if not child1.isFeasible():\n",
        "      child1.code = copy.deepcopy(parent1.code)\n",
        "    if not child2.isFeasible():\n",
        "      child2.code = copy.deepcopy(parent2.code)\n"
      ],
      "execution_count": 78,
      "outputs": []
    },
    {
      "cell_type": "markdown",
      "metadata": {
        "id": "sZWmt3W7GK9o"
      },
      "source": [
        "Mutaciju radimo sa verovatnocom 0.1"
      ]
    },
    {
      "cell_type": "code",
      "metadata": {
        "id": "yj_mlJROg4IY"
      },
      "source": [
        "def mutation(individual):\n",
        "  q = random.random()\n",
        "  \n",
        "  if MUTATION_PROB > q:\n",
        "    # zelimo da pre mutacije sacuvamo trenutno drvo odnosno kod \n",
        "    oldCode = copy.deepcopy(individual.code)\n",
        "    mapaSuseda = treeNumeration(individual.code)\n",
        "    choiceRange = len(mapaSuseda)\n",
        "\n",
        "    index = random.randrange(choiceRange)\n",
        "    \n",
        "    # obilazimo drvo dok se ne pozicioniramo na cvor sa datim indeksom\n",
        "    previousValue = \"\"\n",
        "    found = False\n",
        "\n",
        "    q = []\n",
        "    q.append(individual.code)\n",
        "\n",
        "    while not found:\n",
        "      n = q.pop(0)\n",
        "      if n.id == index:\n",
        "        # dosli smo u cvor sa datim indeksom\n",
        "        found = True\n",
        "        previousValue = n.value\n",
        "        if n.value in FUNCTION_SET:\n",
        "          # znamo da je onda u pitanju neki unutrasnji cvor\n",
        "          newValue = random.choice(FUNCTION_SET)\n",
        "          n.value = newValue\n",
        "          children = n.childrenNum\n",
        "\n",
        "          if n.value in [\".*\", \".+\", \".?\", \"(.)\", \"[.]\", \"[^.]\"] and children != 1:\n",
        "            n.right = None\n",
        "            if children == 3:\n",
        "              n.third = None\n",
        "            n.childrenNum = 1\n",
        "          elif n.value in [\"..\", \".|.\"] and children != 2:\n",
        "            if children == 1:\n",
        "              n.right = Node(n.depth+1, False)\n",
        "            else:\n",
        "              # znaci da ima troje dece\n",
        "              n.third = None\n",
        "            n.childrenNum = 2\n",
        "          elif n.value == \".{.,.}+\" and children != 3:\n",
        "            if children == 1:\n",
        "              n.right = Node(n.depth+1, False)\n",
        "              n.third = Node(n.depth+1, False)\n",
        "            else:\n",
        "              # znaci da ima 2 dece\n",
        "              n.third = Node(n.depth, False)\n",
        "            n.childrenNum = 3\n",
        "          \n",
        "          if not individual.isFeasible():\n",
        "            n.value = previousValue\n",
        "            individual.code = oldCode\n",
        "        else:\n",
        "          # znamo da je onda u pitanju neki list i nivu vrednost bitramo iz \n",
        "          # Terminal skupa\n",
        "          newValue = random.choice(TERMINAL_SET)\n",
        "          n.value = newValue\n",
        "          if not individual.isFeasible():\n",
        "            n.value = previousValue\n",
        "      else:\n",
        "        children = n.childrenNum\n",
        "        if children == 0:\n",
        "          continue\n",
        "        elif children == 1:\n",
        "          q.append(n.left)\n",
        "        elif children == 2:\n",
        "          q.append(n.left)\n",
        "          q.append(n.right)\n",
        "        elif children == 3:\n",
        "          q.append(n.left)\n",
        "          q.append(n.right)\n",
        "          q.append(n.third)"
      ],
      "execution_count": 79,
      "outputs": []
    },
    {
      "cell_type": "code",
      "metadata": {
        "id": "Fbu8GKpM5r7r"
      },
      "source": [
        "def genetic_programming():\r\n",
        "    population = [Individual(match, unmatch) for _ in range(POPULATION_SIZE)]\r\n",
        "    newPopulation = [Individual(match, unmatch) for _ in range(POPULATION_SIZE)]\r\n",
        "\r\n",
        "    solutions = []\r\n",
        "    print(ELITIZM_SIZE)\r\n",
        "\r\n",
        "    for i in range(GENERATIONS_NUM):\r\n",
        "        population.sort()\r\n",
        "        newPopulation[:ELITIZM_SIZE] = population[:ELITIZM_SIZE]\r\n",
        "\r\n",
        "        # ako smo nasli jedinku koja zadovoljava 2 od 3 uslova\r\n",
        "        # cuvamo je u solutions\r\n",
        "        if population[0].fitnessFunction == num_m:\r\n",
        "            solutions.append(population[0])\r\n",
        "\r\n",
        "        for j in range(ELITIZM_SIZE, POPULATION_SIZE, 2):\r\n",
        "            parent1Index = selection(population)\r\n",
        "            parent2Index = selection(population)\r\n",
        "\r\n",
        "            crossover(population[parent1Index], population[parent2Index], newPopulation[j], newPopulation[j+1])\r\n",
        "\r\n",
        "            mutation(newPopulation[j])\r\n",
        "            mutation(newPopulation[j+1])\r\n",
        "\r\n",
        "            newPopulation[j].fitness = newPopulation[j].finalFitness()\r\n",
        "            newPopulation[j+1].fitness = newPopulation[j+1].finalFitness()\r\n",
        "\r\n",
        "        population = newPopulation\r\n",
        "\r\n",
        "    # ako nismo imali \"savrsenu\" jedinku,\r\n",
        "    # uzimamo najbolju jedinku populacije\r\n",
        "    if len(solutions) <= 0:\r\n",
        "        population.sort()\r\n",
        "        solutions.append(population[0])\r\n",
        "\r\n",
        "    return solutions"
      ],
      "execution_count": 80,
      "outputs": []
    },
    {
      "cell_type": "code",
      "metadata": {
        "id": "mNHxAYetHZtd",
        "colab": {
          "base_uri": "https://localhost:8080/"
        },
        "outputId": "15f174cb-e06f-4a92-d520-96d1a4681fab"
      },
      "source": [
        "res = []\r\n",
        "POPULATION_NUM = 10\r\n",
        "for i in range(POPULATION_NUM):\r\n",
        "    res.append(genetic_programming())\r\n",
        "\r\n",
        "res.sort()\r\n",
        "print(\"Best solution: \", res[0][0])"
      ],
      "execution_count": 81,
      "outputs": [
        {
          "output_type": "stream",
          "text": [
            "10\n",
            "10\n",
            "10\n",
            "10\n",
            "10\n",
            "10\n",
            "10\n",
            "10\n",
            "10\n",
            "10\n",
            "Best solution:  foo\n"
          ],
          "name": "stdout"
        }
      ]
    },
    {
      "cell_type": "code",
      "metadata": {
        "id": "RnsvZ1RZeXJJ"
      },
      "source": [
        ""
      ],
      "execution_count": null,
      "outputs": []
    }
  ]
}