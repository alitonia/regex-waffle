{
  "nbformat": 4,
  "nbformat_minor": 0,
  "metadata": {
    "colab": {
      "name": "regex_golf.ipynb",
      "provenance": [],
      "collapsed_sections": []
    },
    "kernelspec": {
      "name": "python3",
      "display_name": "Python 3"
    }
  },
  "cells": [
    {
      "cell_type": "markdown",
      "metadata": {
        "id": "ISPE_Lhzn-Ap"
      },
      "source": [
        "# Data preparation"
      ]
    },
    {
      "cell_type": "markdown",
      "metadata": {
        "id": "1HNfv6NG-T-O"
      },
      "source": [
        "**Loading datasets from file**\n",
        "  - in the first line are words for which we need to find matching regex (set M) \n",
        "  - in the second line are words for which found regex can't match (set U) \n",
        "  - words are separated with comma ','"
      ]
    },
    {
      "cell_type": "code",
      "metadata": {
        "id": "UeMYatGC84Z2"
      },
      "source": [
        "def readFile(filename):\n",
        "    with open(filename, 'r') as f:\n",
        "        match = [word for word in f.readline().split(\", \")]\n",
        "        # removing of new line from last word in M\n",
        "        match[-1] = match[-1][:-1]\n",
        "        unmatch = [word for word in f.readline().split(\", \")]\n",
        "        \n",
        "    return match, unmatch"
      ],
      "execution_count": null,
      "outputs": []
    },
    {
      "cell_type": "code",
      "metadata": {
        "id": "urj9UlsW91GF"
      },
      "source": [
        "# word sets M and U\n",
        "match, unmatch = readFile(\"example_1.txt\")\n",
        "print(\"set M: \", match)\n",
        "print(\"set U: \", unmatch)"
      ],
      "execution_count": null,
      "outputs": []
    },
    {
      "cell_type": "code",
      "metadata": {
        "id": "EGt04P3F_Zyu"
      },
      "source": [
        "# number of words in sets\n",
        "num_m = len(match)\n",
        "num_u = len(unmatch)\n",
        "print(num_m)\n",
        "print(num_u)"
      ],
      "execution_count": null,
      "outputs": []
    },
    {
      "cell_type": "markdown",
      "metadata": {
        "id": "MURatuNTEsXH"
      },
      "source": [
        "**Sorted set of characters that appear in M**"
      ]
    },
    {
      "cell_type": "code",
      "metadata": {
        "id": "0W6_Yhe0DyJR"
      },
      "source": [
        "def charsInSet(wordSet):\n",
        "    chars = []\n",
        " \n",
        "    for word in wordSet:\n",
        "        for c in word:\n",
        "            if c not in chars:\n",
        "                chars.append(c)\n",
        " \n",
        "    chars.sort()\n",
        " \n",
        "    return chars"
      ],
      "execution_count": null,
      "outputs": []
    },
    {
      "cell_type": "code",
      "metadata": {
        "id": "8fh6YP-iEGUb"
      },
      "source": [
        "chars_in_M = charsInSet(match)\n",
        "print(chars_in_M)"
      ],
      "execution_count": null,
      "outputs": []
    },
    {
      "cell_type": "markdown",
      "metadata": {
        "id": "Jca6y4S-ExZ_"
      },
      "source": [
        "**Partial ranges of characters in M**"
      ]
    },
    {
      "cell_type": "code",
      "metadata": {
        "id": "fmjDtrNFAQRR"
      },
      "source": [
        "def makeRanges(chars_in_M):\n",
        "    ranges = []\n",
        "    done = False\n",
        "    i = 0\n",
        "\n",
        "    while i < len(chars_in_M)-1:\n",
        "        distance = 0\n",
        "        for j in range(i+1, len(chars_in_M)):\n",
        "            if ord(chars_in_M[j]) - ord(chars_in_M[i]) == distance + 1:\n",
        "                distance += 1\n",
        "                # if range contains last character from chars_in_M,\n",
        "                # we exit both loops (search is done)\n",
        "                if j == (len(chars_in_M)-1):\n",
        "                    ranges.append(chars_in_M[i] + '-' + chars_in_M[j])\n",
        "                    done = True\n",
        "                    break\n",
        "            else:\n",
        "                if chars_in_M[i] != chars_in_M[j-1]:\n",
        "                    ranges.append(chars_in_M[i] + '-' + chars_in_M[j-1])\n",
        "                i = j\n",
        "                break\n",
        "        if done:\n",
        "            break\n",
        "\n",
        "    return ranges"
      ],
      "execution_count": null,
      "outputs": []
    },
    {
      "cell_type": "code",
      "metadata": {
        "id": "djfuWM9kARZI"
      },
      "source": [
        "ranges = makeRanges(chars_in_M)\n",
        "print(ranges)"
      ],
      "execution_count": null,
      "outputs": []
    },
    {
      "cell_type": "markdown",
      "metadata": {
        "id": "9W6gGCDjGkIj"
      },
      "source": [
        "**n-grams**"
      ]
    },
    {
      "cell_type": "code",
      "metadata": {
        "id": "okk1oZ_LGvFa"
      },
      "source": [
        "def ngram(M, U):\n",
        "    res = {}\n",
        "\n",
        "    # length of n-grams is between 2 and 4\n",
        "    for n in range(2, 5):\n",
        "        # we go through all elements in M\n",
        "        for i in range(0, len(M)):\n",
        "            word_m = M[i]         \n",
        "                        \n",
        "            # n-grams from current element \n",
        "            ngrams_m = zip(*[word_m[i:] for i in range(n)])            \n",
        "            gram_m = [\"\".join(gr) for gr in ngrams_m]\n",
        "\n",
        "            # we need set of n-grams \n",
        "            gram_m = set(gram_m)\n",
        "\n",
        "            # we update score for n-gram by +1, if it can be found in M\n",
        "            for g in gram_m:\n",
        "                if g not in res:\n",
        "                    res[g] = 1\n",
        "                elif g in res: \n",
        "                    res[g] += 1\n",
        "\n",
        "        # we go through all elements in U \n",
        "        for j in range(0, len(U)):\n",
        "            word_u = U[j]\n",
        "\n",
        "            ngrams_u = zip(*[word_u[j:] for j in range(n)])\n",
        "            gram_u = [\"\".join(gr) for gr in ngrams_u]\n",
        "            gram_u = set(gram_u)\n",
        "\n",
        "            # we update score for n-gram by -1, if it can be found in U\n",
        "            for g in gram_u: \n",
        "                if g not in res:\n",
        "                    res[g] = -1\n",
        "                elif g in res:\n",
        "                    res[g] -= 1\n",
        "\n",
        "    return res"
      ],
      "execution_count": null,
      "outputs": []
    },
    {
      "cell_type": "code",
      "metadata": {
        "id": "xwy2yN8TowU3"
      },
      "source": [
        "ngrams = ngram(match, unmatch)\n",
        "ngrams = sorted(ngrams.items(), key=lambda x: x[1], reverse=True)\n",
        "\n",
        "# ngram_subset is the smallest subset of n-grams\n",
        "# for which total score equals at least |M|\n",
        "# (|M| = number of elements in M)\n",
        "ngram_subset = []\n",
        "score = 0\n",
        "\n",
        "for i in range(len(ngrams)):\n",
        "    if ngrams[i][1] > 0: # we update only if score is positive\n",
        "        score += ngrams[i][1]\n",
        "        ngram_subset.append(ngrams[i][0])\n",
        "\n",
        "        if score >= num_m:\n",
        "            break \n",
        "\n",
        "print(ngram_subset)"
      ],
      "execution_count": null,
      "outputs": []
    },
    {
      "cell_type": "markdown",
      "metadata": {
        "id": "OJ1LqEhCAdnP"
      },
      "source": [
        "**Terminal i Function skupovi**"
      ]
    },
    {
      "cell_type": "code",
      "metadata": {
        "id": "H1QYV3TkAdVp"
      },
      "source": [
        "# . is a placeholder for child node\n",
        "FUNCTION_SET = [\".*\", \".+\", \".?\", \".{.,.}+\",    # possessive quantifiers\n",
        "                \"(.)\",                          # group\n",
        "                \"[.]\",                          # character class\n",
        "                \"[^.]\",                         # negated character\n",
        "                \"..\",                           # concatenator (binary node) \n",
        "                \".|.\",                          # disjunction\n",
        "                ]"
      ],
      "execution_count": null,
      "outputs": []
    },
    {
      "cell_type": "code",
      "metadata": {
        "id": "qq_YS0U6B1jH"
      },
      "source": [
        "TERMINAL_SET = [\"a-z\", \"A-Z\", \"0-9\", \"^\", \"$\", \"%\", # instance independent terminals\n",
        "                \"\\w\", \"\\W\", \"\\d\", \"\\D\", \"\\b\", \"\\B\", \"\\A\", \"\\Z\", \"\\s\", \"\\S\"\n",
        "               ]"
      ],
      "execution_count": null,
      "outputs": []
    },
    {
      "cell_type": "code",
      "metadata": {
        "id": "2OTi9DqqwaIW"
      },
      "source": [
        "# chars_in_M set goes in Terminal set\n",
        "TERMINAL_SET.extend(chars_in_M)\n",
        "\n",
        "# ngram_subset goes in Terminal set\n",
        "TERMINAL_SET.extend(ngram_subset)\n",
        "\n",
        "# ranges go in Terminal set\n",
        "TERMINAL_SET.extend(ranges)\n",
        "\n",
        "print(TERMINAL_SET)"
      ],
      "execution_count": null,
      "outputs": []
    },
    {
      "cell_type": "markdown",
      "metadata": {
        "id": "9dlZ8YuQ3neO"
      },
      "source": [
        "# Making of Individuals"
      ]
    },
    {
      "cell_type": "code",
      "metadata": {
        "id": "FMD9wViZyB_Z"
      },
      "source": [
        "import re\n",
        "import random"
      ],
      "execution_count": null,
      "outputs": []
    },
    {
      "cell_type": "markdown",
      "metadata": {
        "id": "tNVz7TuhDc8t"
      },
      "source": [
        "Function *getRandom()* chooses one element from Terminal or Function set"
      ]
    },
    {
      "cell_type": "code",
      "metadata": {
        "id": "YEYrP_-uV4Vt"
      },
      "source": [
        "def getRandom():\n",
        "      pickSet = random.choice(['f', 't'])\n",
        "      if pickSet == 't':\n",
        "        value = random.choice(FUNCTION_SET)\n",
        "        if value in [\".{.,.}+\"]:\n",
        "          return value, 3\n",
        "        elif value in [\".|.\", \"..\"]:\n",
        "          return value, 2\n",
        "        else:\n",
        "          return value, 1\n",
        "      else:\n",
        "        value = random.choice(TERMINAL_SET)\n",
        "        return value, 0"
      ],
      "execution_count": null,
      "outputs": []
    },
    {
      "cell_type": "markdown",
      "metadata": {
        "id": "2KMYr_arDmpK"
      },
      "source": [
        "Class *Node* represents abstract tree from which we later get valid regex"
      ]
    },
    {
      "cell_type": "code",
      "metadata": {
        "id": "fdvmyeLPEnSO"
      },
      "source": [
        "class Node(object):\n",
        "  def __init__(self, depth, root):\n",
        "    self.depth = depth\n",
        "    self.value = \"\"\n",
        "    self.childrenNum = 0\n",
        "    self.id = -1\n",
        "    \n",
        "    if root:\n",
        "      self.value = \".\"\n",
        "      self.childrenNum = 2\n",
        "    else:\n",
        "      self.value, self.childrenNum = getRandom()\n",
        "    \n",
        "    self.left = None\n",
        "    self.right = None\n",
        "    self.third = None\n",
        "\n",
        "    if self.childrenNum == 3:\n",
        "      self.left= Node(depth+1, False)\n",
        "      self.right = Node(depth +1, False)\n",
        "      self.third = Node(depth+1, False)\n",
        "    elif self.childrenNum == 2:\n",
        "      self.left = Node(depth+1, False)\n",
        "      self.right = Node(depth+1, False)\n",
        "    elif self.childrenNum == 1:\n",
        "      self.left = Node(depth+1, False)  "
      ],
      "execution_count": null,
      "outputs": []
    },
    {
      "cell_type": "markdown",
      "metadata": {
        "id": "n6xPNtvCD7Rc"
      },
      "source": [
        "We use BFS algorithm to visit and mark all nodes as *unvisited*"
      ]
    },
    {
      "cell_type": "code",
      "metadata": {
        "id": "FECqx1zDvS8v"
      },
      "source": [
        "def unvisit(n):\n",
        "\n",
        "  q = []\n",
        "  q.append(n)\n",
        "\n",
        "  while len(q) >= 1:\n",
        "    top = q.pop(0)\n",
        "\n",
        "    if top.id > -1:\n",
        "      top.id = -1\n",
        "      i = top.childrenNum\n",
        "      if i == 1:\n",
        "        q.append(top.left)\n",
        "        \n",
        "      elif i == 2:\n",
        "        q.append(top.left)\n",
        "        q.append(top.right)\n",
        "        \n",
        "      elif i == 3:\n",
        "        q.append(top.left)\n",
        "        q.append(top.right)\n",
        "        q.append(top.third)"
      ],
      "execution_count": null,
      "outputs": []
    },
    {
      "cell_type": "markdown",
      "metadata": {
        "id": "67tJe6W7ECGz"
      },
      "source": [
        "We use BFS algorithm to visit and numerate all nodes"
      ]
    },
    {
      "cell_type": "code",
      "metadata": {
        "id": "Vpw0scGYW21i"
      },
      "source": [
        "def treeNumeration(n):\n",
        "\n",
        "  unvisit(n)\n",
        "\n",
        "  parentMap = {}\n",
        "  q = []\n",
        "  q.append(n)\n",
        "  num = 0\n",
        "\n",
        "  while len(q) >= 1:\n",
        "    top = q.pop(0)\n",
        "\n",
        "    if top.id == -1:\n",
        "      top.id = num\n",
        "      num += 1\n",
        "      i = top.childrenNum\n",
        "      if i == 0:\n",
        "        parentMap[num-1] = [-1]\n",
        "      elif i == 1:\n",
        "        q.append(top.left)\n",
        "        parentMap[num-1] = [top.left]\n",
        "      elif i == 2:\n",
        "        q.append(top.left)\n",
        "        q.append(top.right)\n",
        "        parentMap[num-1] = [top.left, top.right]\n",
        "      else:\n",
        "        q.append(top.left)\n",
        "        q.append(top.right)\n",
        "        q.append(top.third)\n",
        "        parentMap[num-1] = [top.left, top.right, top.third]\n",
        "  \n",
        "  # in map is always first index of left, \n",
        "  # then right (if exists) and finally\n",
        "  # third (if exists) child\n",
        "  return parentMap"
      ],
      "execution_count": null,
      "outputs": []
    },
    {
      "cell_type": "markdown",
      "metadata": {
        "id": "nYdHBOWBEMDT"
      },
      "source": [
        "We form string (which represents regex) from abstract tree"
      ]
    },
    {
      "cell_type": "code",
      "metadata": {
        "id": "w89pncLsn_9j"
      },
      "source": [
        "def treeToString(node):\n",
        "\n",
        "  if node.value in TERMINAL_SET:\n",
        "    if node.value == \"%\":\n",
        "      return \".\"\n",
        "    return node.value\n",
        "  \n",
        "  rl= treeToString(node.left)\n",
        "  if node.childrenNum == 2:\n",
        "    rr = treeToString(node.right)\n",
        "  if node.childrenNum == 3:\n",
        "    rr = treeToString(node.right)\n",
        "    rt = treeToString(node.third)\n",
        "  \n",
        "  if node.value in FUNCTION_SET:\n",
        "    if node.value == \".*\":\n",
        "      string = rl + \"*\"\n",
        "      return string\n",
        "    if node.value == \".+\":\n",
        "      string = rl + \"+\"\n",
        "      return string\n",
        "    if node.value == \".?\":\n",
        "      string = rl + \"?\"\n",
        "      return string\n",
        "    if node.value == \"(.)\":\n",
        "      string = \"(\" + rl + \")\"\n",
        "      return string\n",
        "    if node.value == \"[.]\":\n",
        "      string = \"[\" + rl + \"]\"\n",
        "      return string\n",
        "    if node.value == \"[^.]\":\n",
        "      string = \"[^\" + rl + \"]\"\n",
        "      return string\n",
        "    if node.value == \"..\":\n",
        "      string = rl + rr\n",
        "      return string\n",
        "    if node.value == \".|.\":\n",
        "      string = rl + \"|\" + rr\n",
        "      return string\n",
        "    if node.value == \".{.,.}+\":\n",
        "      string = rl + \"{\" + rr + \",\" + rt + \"}+\"\n",
        "      return string\n",
        "\n",
        "  # root\n",
        "  string = rl + rr\n",
        "\n",
        "  return string"
      ],
      "execution_count": null,
      "outputs": []
    },
    {
      "cell_type": "markdown",
      "metadata": {
        "id": "-_aRP2dQEVJq"
      },
      "source": [
        "**Class *Individual* represents individual which we use for generating population**"
      ]
    },
    {
      "cell_type": "markdown",
      "metadata": {
        "id": "81w_ilWI8wkb"
      },
      "source": [
        "Each individual has 2 kinds of fitness:\n",
        "- function $n_m - n_u$ which should be maximized\n",
        "- length r which should be minimized\n",
        "\n",
        "r is current regex, $n_m$ is number of words/elements from M which are matched by r, $n_u$ is number of words/elements from U which are matched by r"
      ]
    },
    {
      "cell_type": "code",
      "metadata": {
        "id": "Uj_P2KA95mus"
      },
      "source": [
        "class Individual:\n",
        "    def __init__(self, setM, setU):\n",
        "        # code is abstract tree which saves regex\n",
        "        self.code = self.initialize()\n",
        "        self.wi = 10\n",
        "        # setM and setU are sets M and U from beginning\n",
        "        self.setM = setM.copy()\n",
        "        self.setU = setU.copy()\n",
        "\n",
        "        #n_m - n_u - maximize\n",
        "        self.fitnessFunction = self.calculateFitnessFunction()\n",
        "        # length(r) - minimize\n",
        "        self.fitnessRegex = self.calculateFitnessRegex()\n",
        "        # final fitness = wi*(n_m - n_u) - length(r)\n",
        "        # and it should be maximized\n",
        "        self.fitness = self.finalFitness()\n",
        "\n",
        "    def initialize(self):\n",
        "      generated = False\n",
        "      while not generated:\n",
        "        n = Node(0, True)\n",
        "        treeString = treeToString(n)\n",
        "        try:\n",
        "          re.compile(treeString)\n",
        "          # if compile doesn't throw exception,\n",
        "          # we've got a valid regex and we accept\n",
        "          # this individual\n",
        "          generated = True \n",
        "        except Exception:\n",
        "          generated = False\n",
        "        \n",
        "      return n\n",
        "\n",
        "    # check if current regex is valid\n",
        "    def isFeasible(self):\n",
        "      treeString = treeToString(self.code)\n",
        "      try:\n",
        "        re.compile(treeString)\n",
        "        return True\n",
        "      except Exception:\n",
        "        return False\n",
        "\n",
        "    def __lt__(self, other):\n",
        "      # we want to maximize final fitness\n",
        "      return self.fitness > other.fitness\n",
        "    \n",
        "    def __str__(self):\n",
        "      treeString = treeToString(self.code)\n",
        "      return treeString\n",
        "\n",
        "    def calculateFitnessFunction(self):\n",
        "        n_m = 0\n",
        "        n_u = 0\n",
        "        regex = treeToString(self.code)\n",
        "\n",
        "        for wordM in self.setM:\n",
        "            # matchM - list of strings that are matched\n",
        "            matchM = re.findall(regex, wordM)\n",
        "            foundM = False\n",
        "\n",
        "            for m in matchM:\n",
        "                # in case of character | in regex,\n",
        "                # m can have more elements\n",
        "                for elem in m:\n",
        "                    if elem != \"\":\n",
        "                        if len(elem) == len(wordM) or elem in wordM:\n",
        "                            n_m += 1\n",
        "                            foundM = True\n",
        "                            break\n",
        "                if foundM:\n",
        "                    break\n",
        "\n",
        "        for wordU in self.setU:          \n",
        "            matchU = re.findall(regex, wordU)\n",
        "            foundU = False\n",
        "\n",
        "            for m in  matchU:\n",
        "                for elem in m:\n",
        "                    if elem != \"\":\n",
        "                        if len(elem) == len(wordU) or elem in wordU:\n",
        "                            n_u += 1\n",
        "                            foundU = True\n",
        "                            break\n",
        "                if foundU:\n",
        "                    break\n",
        "\n",
        "        return n_m - n_u\n",
        "\n",
        "    def calculateFitnessRegex(self):\n",
        "        regex = treeToString(self.code)\n",
        "        return len(regex)\n",
        "\n",
        "    def finalFitness(self):\n",
        "      try:\n",
        "        return self.wi * self.calculateFitnessFunction() - self.calculateFitnessRegex()\n",
        "      except Exception:\n",
        "        return -100000"
      ],
      "execution_count": null,
      "outputs": []
    },
    {
      "cell_type": "markdown",
      "metadata": {
        "id": "ecFcRuanFVDd"
      },
      "source": [
        "# Parameters of genetic programming"
      ]
    },
    {
      "cell_type": "code",
      "metadata": {
        "id": "OX-BtWu7FUP1"
      },
      "source": [
        "# (based on documentation)\n",
        "POPULATION_SIZE = 500\n",
        "GENERATIONS_NUM = 1000\n",
        "POPULATION_NUM = 32\n",
        "TOURNAMENT_SIZE = 7\n",
        "MUTATION_PROB = 0.1\n",
        "ELITIZM_SIZE = int(0.2 * POPULATION_SIZE)"
      ],
      "execution_count": null,
      "outputs": []
    },
    {
      "cell_type": "markdown",
      "metadata": {
        "id": "kOgdOKZAFG1o"
      },
      "source": [
        "# Genetic programming"
      ]
    },
    {
      "cell_type": "markdown",
      "metadata": {
        "id": "53JEMl7kFjIy"
      },
      "source": [
        "We use standard algorithm for *selection* - from 7 randomly choosen individual, we pick one with best fitness and return it's index"
      ]
    },
    {
      "cell_type": "code",
      "metadata": {
        "id": "O_oXrtwwFpM2"
      },
      "source": [
        "import copy"
      ],
      "execution_count": null,
      "outputs": []
    },
    {
      "cell_type": "code",
      "metadata": {
        "id": "7M1VZspkJlAk"
      },
      "source": [
        "def selection(population):\n",
        "  betsFitness = float('-inf')\n",
        "  bestIndex = -1\n",
        "\n",
        "  for i in range(TOURNAMENT_SIZE):\n",
        "    index = random.randrange(len(population))\n",
        "    if population[index].fitness > betsFitness:\n",
        "      betsFitness = population[index].fitness\n",
        "      bestIndex = index\n",
        "      \n",
        "  return bestIndex"
      ],
      "execution_count": null,
      "outputs": []
    },
    {
      "cell_type": "markdown",
      "metadata": {
        "id": "sEm6ufwCFsgy"
      },
      "source": [
        "We try to find node numerated with *position*, and we replace it's child (left - 0, right - 1, third - 2) with address of subtree *address*"
      ]
    },
    {
      "cell_type": "code",
      "metadata": {
        "id": "LxgLd6vvF17L"
      },
      "source": [
        "def replace(root, position, child, address):\n",
        "  \n",
        "  red = []\n",
        "  red.append(root)\n",
        "  found = False\n",
        "\n",
        "  while not found:\n",
        "    node = red.pop(0)\n",
        "    if node.id == position:\n",
        "      found = True\n",
        "      if child == 0:\n",
        "        node.left = address\n",
        "      elif child == 1:\n",
        "        node.right = address\n",
        "      else:\n",
        "        node.third = address\n",
        "    else:\n",
        "      children = node.childrenNum\n",
        "      if children == 1:\n",
        "        red.append(node.left)\n",
        "      elif children == 2:\n",
        "        red.append(node.left)\n",
        "        red.append(node.right)\n",
        "      elif children == 3:\n",
        "        red.append(node.left)\n",
        "        red.append(node.right)\n",
        "        red.append(node.third)"
      ],
      "execution_count": null,
      "outputs": []
    },
    {
      "cell_type": "markdown",
      "metadata": {
        "id": "Jo-3hItxF4x0"
      },
      "source": [
        "Single-point crossover"
      ]
    },
    {
      "cell_type": "code",
      "metadata": {
        "id": "zKwTyD6NgIwB"
      },
      "source": [
        "def crossover(parent1, parent2, child1, child2):\n",
        "  \n",
        "  map1 = treeNumeration(parent1.code)\n",
        "  map2 = treeNumeration(parent2.code)\n",
        "  \n",
        "  parent1Size = len(map1)\n",
        "  parent2Size = len(map2) \n",
        "\n",
        "  breakpoint = -1\n",
        "  if parent1Size <= parent2Size:\n",
        "    breakpoint = random.randrange(parent1Size)\n",
        "  else:\n",
        "    breakpoint = random.randrange(parent2Size)\n",
        "\n",
        "  find = breakpoint\n",
        "  \n",
        "  if find == 0:\n",
        "    # root is chosen\n",
        "    child1.code = copy.deepcopy(parent2.code)\n",
        "    child2.code = copy.deepcopy(parent1.code)\n",
        "  else:\n",
        "    child1.code = copy.deepcopy(parent1.code)\n",
        "    child2.code = copy.deepcopy(parent2.code)\n",
        "    \n",
        "    unvisit(child1.code)\n",
        "    unvisit(child2.code)\n",
        "\n",
        "    # we know that nodes will have same numeration\n",
        "    mapChild1 = treeNumeration(child1.code)\n",
        "    mapChild2 = treeNumeration(child2.code)\n",
        "    \n",
        "    map1Keys = mapChild1.keys()\n",
        "    map2Keys = mapChild2.keys()\n",
        "\n",
        "    replaceAtPositionParent1 = -1\n",
        "    childAdress1 = -1\n",
        "    side1 = -1\n",
        "    replaceAtPositionParent2 = -1\n",
        "    childAdress2 = -1\n",
        "    side2 = -1\n",
        "\n",
        "    for i in map1Keys:\n",
        "      children = mapChild1[i]\n",
        "      index = 0\n",
        "      for child in children:\n",
        "        if child == -1:\n",
        "          continue\n",
        "        if find == child.id:\n",
        "          # parent id of subtree we will change\n",
        "          replaceAtPositionParent1 = i\n",
        "          # subtree which we'll change\n",
        "          childAdress1 = child\n",
        "          # number to identify which child it is\n",
        "          # left - 0, right - 1, third - 2\n",
        "          side1 = index\n",
        "        else:\n",
        "          index += 1\n",
        "\n",
        "    # same process\n",
        "    for i in map2Keys:\n",
        "      children = mapChild2[i]\n",
        "      index = 0\n",
        "      for child in children:\n",
        "        if child == -1:\n",
        "          continue\n",
        "        if find == child.id:\n",
        "          replaceAtPositionParent2 = i\n",
        "          childAdress2 = child\n",
        "          side2 = index\n",
        "        else:\n",
        "          index += 1\n",
        "  \n",
        "    replace(child1.code, replaceAtPositionParent1, side1, childAdress2)\n",
        "    replace(child2.code, replaceAtPositionParent2, side2, childAdress1) \n",
        "\n",
        "    if not child1.isFeasible():\n",
        "      child1.code = copy.deepcopy(parent1.code)\n",
        "    if not child2.isFeasible():\n",
        "      child2.code = copy.deepcopy(parent2.code)\n"
      ],
      "execution_count": null,
      "outputs": []
    },
    {
      "cell_type": "markdown",
      "metadata": {
        "id": "sZWmt3W7GK9o"
      },
      "source": [
        "Mutation with probability 0.1"
      ]
    },
    {
      "cell_type": "code",
      "metadata": {
        "id": "yj_mlJROg4IY"
      },
      "source": [
        "def mutation(individual):\n",
        "  q = random.random()\n",
        "  \n",
        "  if MUTATION_PROB > q:\n",
        "    # we save current tree (code of individual)\n",
        "    oldCode = copy.deepcopy(individual.code)\n",
        "    mapaSuseda = treeNumeration(individual.code)\n",
        "    choiceRange = len(mapaSuseda)\n",
        "\n",
        "    index = random.randrange(choiceRange)\n",
        "    \n",
        "    # we search tree for a node with wanted index\n",
        "    previousValue = \"\"\n",
        "    found = False\n",
        "\n",
        "    q = []\n",
        "    q.append(individual.code)\n",
        "\n",
        "    while not found:\n",
        "      n = q.pop(0)\n",
        "      if n.id == index:\n",
        "        # we found a node\n",
        "        found = True\n",
        "        previousValue = n.value\n",
        "        if n.value in FUNCTION_SET:\n",
        "          # it's some inner node\n",
        "          newValue = random.choice(FUNCTION_SET)\n",
        "          n.value = newValue\n",
        "          children = n.childrenNum\n",
        "\n",
        "          if n.value in [\".*\", \".+\", \".?\", \"(.)\", \"[.]\", \"[^.]\"] and children != 1:\n",
        "            n.right = None\n",
        "            if children == 3:\n",
        "              n.third = None\n",
        "            n.childrenNum = 1\n",
        "          elif n.value in [\"..\", \".|.\"] and children != 2:\n",
        "            if children == 1:\n",
        "              n.right = Node(n.depth+1, False)\n",
        "            else:\n",
        "              # it has three children\n",
        "              n.third = None\n",
        "            n.childrenNum = 2\n",
        "          elif n.value == \".{.,.}+\" and children != 3:\n",
        "            if children == 1:\n",
        "              n.right = Node(n.depth+1, False)\n",
        "              n.third = Node(n.depth+1, False)\n",
        "            else:\n",
        "              # it has two children\n",
        "              n.third = Node(n.depth, False)\n",
        "            n.childrenNum = 3\n",
        "          \n",
        "          if not individual.isFeasible():\n",
        "            n.value = previousValue\n",
        "            individual.code = oldCode\n",
        "        else:\n",
        "          # it's leaf node and we choose new value from Terminal set\n",
        "          newValue = random.choice(TERMINAL_SET)\n",
        "          n.value = newValue\n",
        "          if not individual.isFeasible():\n",
        "            n.value = previousValue\n",
        "      else:\n",
        "        children = n.childrenNum\n",
        "        if children == 0:\n",
        "          continue\n",
        "        elif children == 1:\n",
        "          q.append(n.left)\n",
        "        elif children == 2:\n",
        "          q.append(n.left)\n",
        "          q.append(n.right)\n",
        "        elif children == 3:\n",
        "          q.append(n.left)\n",
        "          q.append(n.right)\n",
        "          q.append(n.third)"
      ],
      "execution_count": null,
      "outputs": []
    },
    {
      "cell_type": "code",
      "metadata": {
        "id": "Fbu8GKpM5r7r"
      },
      "source": [
        "def genetic_programming():\n",
        "    population = [Individual(match, unmatch) for _ in range(POPULATION_SIZE)]\n",
        "    newPopulation = [Individual(match, unmatch) for _ in range(POPULATION_SIZE)]\n",
        "\n",
        "    solutions = []\n",
        "\n",
        "    for i in range(GENERATIONS_NUM):\n",
        "        population.sort()\n",
        "        newPopulation[:ELITIZM_SIZE] = population[:ELITIZM_SIZE]\n",
        "\n",
        "        # if we found individual that satisfies condition:\n",
        "        # num_m - num_u = num_m\n",
        "        # we save it in solutions \n",
        "        # (it is candidate for best solution)\n",
        "        if population[0].fitnessFunction == num_m:\n",
        "            solutions.append(population[0])\n",
        "\n",
        "        for j in range(ELITIZM_SIZE, POPULATION_SIZE, 2):\n",
        "            parent1Index = selection(population)\n",
        "            parent2Index = selection(population)\n",
        "\n",
        "            crossover(population[parent1Index], population[parent2Index], newPopulation[j], newPopulation[j+1])\n",
        "\n",
        "            mutation(newPopulation[j])\n",
        "            mutation(newPopulation[j+1])\n",
        "\n",
        "            newPopulation[j].fitness = newPopulation[j].finalFitness()\n",
        "            newPopulation[j+1].fitness = newPopulation[j+1].finalFitness()\n",
        "\n",
        "        population = newPopulation\n",
        "\n",
        "    # if we didn't save any individual in solution,\n",
        "    # we take best one from current population\n",
        "    if len(solutions) == 0:\n",
        "        population.sort()\n",
        "        solutions.append(population[0])\n",
        "\n",
        "    return solutions"
      ],
      "execution_count": null,
      "outputs": []
    },
    {
      "cell_type": "code",
      "metadata": {
        "id": "mNHxAYetHZtd"
      },
      "source": [
        "res = []\n",
        "for i in range(POPULATION_NUM):\n",
        "    print(str(i+1) + \". population out of \" + str(POPULATION_NUM))\n",
        "    res.append(genetic_programming())\n",
        "\n",
        "res.sort()\n",
        "print(\"Best solution: \", res[0][0])"
      ],
      "execution_count": null,
      "outputs": []
    },
    {
      "cell_type": "code",
      "metadata": {
        "id": "LEKrjvOVpT77"
      },
      "source": [
        "print(res[0][0].fitness)"
      ],
      "execution_count": null,
      "outputs": []
    }
  ]
}