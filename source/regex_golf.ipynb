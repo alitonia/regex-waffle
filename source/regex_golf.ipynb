{
  "nbformat": 4,
  "nbformat_minor": 0,
  "metadata": {
    "colab": {
      "name": "regex_golf.ipynb",
      "provenance": [],
      "collapsed_sections": []
    },
    "kernelspec": {
      "name": "python3",
      "display_name": "Python 3"
    }
  },
  "cells": [
    {
      "cell_type": "markdown",
      "metadata": {
        "id": "ISPE_Lhzn-Ap"
      },
      "source": [
        "# Priprema podataka"
      ]
    },
    {
      "cell_type": "markdown",
      "metadata": {
        "id": "1HNfv6NG-T-O"
      },
      "source": [
        "**Ucitavanje podataka iz datoteke**\r\n",
        "  - u prvoj liniji su reci za koje treba naci regex (skup M)\r\n",
        "  - u drugoj liniji su reci za koje ne treba naci regex (skup U)\r\n",
        "  - reci u razdvojene sa: \", \""
      ]
    },
    {
      "cell_type": "code",
      "metadata": {
        "id": "UeMYatGC84Z2"
      },
      "source": [
        "def readFile(filename):\r\n",
        "    with open(filename, 'r') as f:\r\n",
        "        match = [word for word in f.readline().split(\", \")]\r\n",
        "        # uklanjanje novog reda iz poslednje reci\r\n",
        "        match[-1] = match[-1][:-1]\r\n",
        "        unmatch = [word for word in f.readline().split(\", \")]\r\n",
        "        \r\n",
        "    return match, unmatch"
      ],
      "execution_count": null,
      "outputs": []
    },
    {
      "cell_type": "code",
      "metadata": {
        "colab": {
          "base_uri": "https://localhost:8080/"
        },
        "id": "urj9UlsW91GF",
        "outputId": "a7041739-58bf-4fd1-e3a4-2dade1fb477d"
      },
      "source": [
        "match, unmatch = readFile(\"/content/example_1.txt\")\r\n",
        "print(\"Prvi skup: \", match)\r\n",
        "print(\"Drugi skup: \", unmatch)"
      ],
      "execution_count": null,
      "outputs": [
        {
          "output_type": "stream",
          "text": [
            "Prvi skup:  ['afoot', 'catfoot', 'dogfoot', 'fanfoot', 'foody', 'foolery', 'foolish', 'fooster', 'footage', 'foothot', 'footle', 'footpad', 'footway', 'hotfoot', 'jawfoot', 'mafoo', 'nonfood', 'padfoot', 'prefool', 'sfoot', 'unfool']\n",
            "Drugi skup:  ['Atlas', 'Aymoro', 'Iberic', 'Mahran', 'Ormazd', 'Silipan', 'altared', 'chandoo', 'crenel', 'crooked', 'fardo', 'folksy', 'forest', 'hebamic', 'idgah', 'manlike', 'marly', 'palazzi', 'sixfold', 'tarrock', 'unfold']\n"
          ],
          "name": "stdout"
        }
      ]
    },
    {
      "cell_type": "code",
      "metadata": {
        "id": "hN69PJ-Wx1aj"
      },
      "source": [
        "# skup za poredjenje rezultata iz dokumentacije\r\n",
        "# match = ['can', 'banana', 'and', 'ball']\r\n",
        "# match = ['bar', 'den', 'foo', 'can']\r\n",
        "# unmatch = ['indy', 'call', 'name', 'man']"
      ],
      "execution_count": null,
      "outputs": []
    },
    {
      "cell_type": "code",
      "metadata": {
        "colab": {
          "base_uri": "https://localhost:8080/"
        },
        "id": "EGt04P3F_Zyu",
        "outputId": "8a99662a-9802-42d5-f720-9a6340885f34"
      },
      "source": [
        "# Broj reci u skupovima\r\n",
        "num_m = len(match)\r\n",
        "num_u = len(unmatch)\r\n",
        "print(num_m)\r\n",
        "print(num_u)"
      ],
      "execution_count": null,
      "outputs": [
        {
          "output_type": "stream",
          "text": [
            "21\n",
            "21\n"
          ],
          "name": "stdout"
        }
      ]
    },
    {
      "cell_type": "markdown",
      "metadata": {
        "id": "MURatuNTEsXH"
      },
      "source": [
        "**Karakteri koji se pojavljuju u jednom skupu reci**"
      ]
    },
    {
      "cell_type": "code",
      "metadata": {
        "id": "0W6_Yhe0DyJR"
      },
      "source": [
        "def charsInSet(wordSet):\r\n",
        "    #stavicemo d chars bude set da ne bismo brinuli o duplikatima\r\n",
        "    charsSet = set({})\r\n",
        "\r\n",
        "    for word in wordSet:\r\n",
        "        for c in word:\r\n",
        "          charsSet.add(c)\r\n",
        "    chars = []\r\n",
        "    for el in charsSet:\r\n",
        "      chars.append(el)\r\n",
        "    chars.sort()\r\n",
        "\r\n",
        "    return chars"
      ],
      "execution_count": null,
      "outputs": []
    },
    {
      "cell_type": "code",
      "metadata": {
        "colab": {
          "base_uri": "https://localhost:8080/"
        },
        "id": "8fh6YP-iEGUb",
        "outputId": "f4b98ffd-b8d4-4878-e88e-b83442f7645a"
      },
      "source": [
        "chars_in_M = charsInSet(match)\r\n",
        "print(chars_in_M)"
      ],
      "execution_count": null,
      "outputs": [
        {
          "output_type": "stream",
          "text": [
            "['a', 'c', 'd', 'e', 'f', 'g', 'h', 'i', 'j', 'l', 'm', 'n', 'o', 'p', 'r', 's', 't', 'u', 'w', 'y']\n"
          ],
          "name": "stdout"
        }
      ]
    },
    {
      "cell_type": "markdown",
      "metadata": {
        "id": "Jca6y4S-ExZ_"
      },
      "source": [
        "**Opsezi reci (partial ranges) koji se javljaju u skupu M**"
      ]
    },
    {
      "cell_type": "code",
      "metadata": {
        "id": "fmjDtrNFAQRR"
      },
      "source": [
        "def makeRanges(chars_in_M):\r\n",
        "    ranges = []\r\n",
        "\r\n",
        "    i = 0\r\n",
        "    #za svako slovo niza proveravamo\r\n",
        "    while i < len(chars_in_M)-1:\r\n",
        "        distance = 0\r\n",
        "        for j in range(i+1, len(chars_in_M)):\r\n",
        "            if ord(chars_in_M[j]) - ord(chars_in_M[i]) == distance + 1:\r\n",
        "                distance += 1\r\n",
        "            else:\r\n",
        "                if chars_in_M[i] != chars_in_M[j-1]:\r\n",
        "                    ranges.append(chars_in_M[i] + '-' + chars_in_M[j-1])\r\n",
        "                i = j\r\n",
        "                break\r\n",
        "\r\n",
        "    return ranges"
      ],
      "execution_count": null,
      "outputs": []
    },
    {
      "cell_type": "code",
      "metadata": {
        "colab": {
          "base_uri": "https://localhost:8080/"
        },
        "id": "djfuWM9kARZI",
        "outputId": "1d6a75c7-2a50-4eab-c13a-2d0c46a0f794"
      },
      "source": [
        "ranges = makeRanges(chars_in_M)\r\n",
        "print(ranges)"
      ],
      "execution_count": null,
      "outputs": [
        {
          "output_type": "stream",
          "text": [
            "['c-j', 'l-p', 'r-u']\n"
          ],
          "name": "stdout"
        }
      ]
    },
    {
      "cell_type": "markdown",
      "metadata": {
        "id": "9W6gGCDjGkIj"
      },
      "source": [
        "**n-grami**"
      ]
    },
    {
      "cell_type": "code",
      "metadata": {
        "id": "okk1oZ_LGvFa"
      },
      "source": [
        "def ngram(M, U):\r\n",
        "    res = {}\r\n",
        "\r\n",
        "    # n-grami su duzine od 2 do 4\r\n",
        "    for n in range(2, 5):\r\n",
        "        # prolazimo kroz sve reci iz M i iz U \r\n",
        "        # (radi ako su skupovi iste duzine)\r\n",
        "        for i in range(0, len(M)):\r\n",
        "            word_m = M[i]\r\n",
        "            word_u = U[i]\r\n",
        "            \r\n",
        "            word_m_visited = False\r\n",
        "            word_u_visited = False\r\n",
        "            \r\n",
        "            # pravimo n-grame od jedne reci iz M i jedne iz U\r\n",
        "            ngrams_m = zip(*[word_m[i:] for i in range(n)])\r\n",
        "            ngrams_u = zip(*[word_u[i:] for i in range(n)])\r\n",
        "\r\n",
        "            gram_m = [\"\".join(gr) for gr in ngrams_m]\r\n",
        "            gram_u = [\"\".join(gr) for gr in ngrams_u]\r\n",
        "\r\n",
        "            # ne smemo imati ponavljanje n-grama u istoj reci (pravimo skup)\r\n",
        "            gram_m = set(gram_m)\r\n",
        "            gram_u = set(gram_u)\r\n",
        "\r\n",
        "            # azuriramo score za ngram u zavisnosti u kom skupu se nalazi\r\n",
        "            for g in gram_m: # povecavamo score ako je u M\r\n",
        "                if g not in res:\r\n",
        "                    res[g] = 1\r\n",
        "                elif g in res: \r\n",
        "                    res[g] += 1\r\n",
        "\r\n",
        "            for g in gram_u: # smanjujemo score ako je u U\r\n",
        "                if g not in res:\r\n",
        "                    res[g] = -1\r\n",
        "                elif g in res:\r\n",
        "                    res[g] -= 1\r\n",
        "\r\n",
        "    return res"
      ],
      "execution_count": null,
      "outputs": []
    },
    {
      "cell_type": "code",
      "metadata": {
        "colab": {
          "base_uri": "https://localhost:8080/"
        },
        "id": "xwy2yN8TowU3",
        "outputId": "f09afd95-5978-4c07-9cd1-6ac2a50729ff"
      },
      "source": [
        "ngrams = ngram(match, unmatch)\r\n",
        "ngrams = sorted(ngrams.items(), key=lambda x: x[1], reverse=True)\r\n",
        "\r\n",
        "# ngram_subset je najmanji podskup od ngrams tako da je skor reci bar |M|\r\n",
        "ngram_subset = []\r\n",
        "score = 0\r\n",
        "\r\n",
        "for i in range(len(ngrams)):\r\n",
        "    if ngrams[i][1] > 0: # azuriramo samo ako je skor pozitivan\r\n",
        "        score += ngrams[i][1]\r\n",
        "        ngram_subset.append(ngrams[i][0])\r\n",
        "\r\n",
        "        if score >= num_m:\r\n",
        "            break \r\n",
        "\r\n",
        "print(ngram_subset)\r\n",
        "# print(score)"
      ],
      "execution_count": null,
      "outputs": [
        {
          "output_type": "stream",
          "text": [
            "['foo']\n"
          ],
          "name": "stdout"
        }
      ]
    },
    {
      "cell_type": "markdown",
      "metadata": {
        "id": "OJ1LqEhCAdnP"
      },
      "source": [
        "**Terminal i Function skupovi**"
      ]
    },
    {
      "cell_type": "code",
      "metadata": {
        "id": "H1QYV3TkAdVp"
      },
      "source": [
        "# . je placeholder za dete cvor\r\n",
        "FUNCTION_SET = ['.*+', '.++', '.?+', '.{.,.}+', # possessive quantifiers\r\n",
        "                '(.)',                          # group\r\n",
        "                '[.]',                          # character class\r\n",
        "                '[^.]',                         # negated character\r\n",
        "                '..',                           # concatenator (binary node) mislim da treba da promenimo prikaz ovog noda tipa ` jer je kod njih tacka na sredini a ovo znaci concat\r\n",
        "                '.|.',                          # disjunction\r\n",
        "                ]"
      ],
      "execution_count": null,
      "outputs": []
    },
    {
      "cell_type": "code",
      "metadata": {
        "id": "qq_YS0U6B1jH"
      },
      "source": [
        "TERMINAL_SET = ['a-z', 'A-Z', '0-9', '^', '$', '#', # instance independent terminals\r\n",
        "                '\\w', '\\W', '\\d', '\\D', '\\b', '\\B', '\\A', '\\Z', '\\s', '\\S',\r\n",
        "                chars_in_M,                          # instance dependent terminals\r\n",
        "                ngram_subset\r\n",
        "               ]"
      ],
      "execution_count": null,
      "outputs": []
    },
    {
      "cell_type": "markdown",
      "metadata": {
        "id": "hiCQx8wh23YI"
      },
      "source": [
        "# Parametri za algoritam genetskog programiranja\r\n",
        "\r\n"
      ]
    },
    {
      "cell_type": "code",
      "metadata": {
        "id": "jRCMOB6J3COm"
      },
      "source": [
        "# pocetni parametri (zasnovani na dokumentaciji)\r\n",
        "POPULATION_SIZE = 500\r\n",
        "GENERATIONS_NUM = 1000\r\n",
        "POPULATION_NUM = 32\r\n",
        "TOURNAMENT_SIZE = 7"
      ],
      "execution_count": null,
      "outputs": []
    },
    {
      "cell_type": "markdown",
      "metadata": {
        "id": "9dlZ8YuQ3neO"
      },
      "source": [
        "# Algoritam genetskog programiranja"
      ]
    },
    {
      "cell_type": "markdown",
      "metadata": {
        "id": "UCFnxyce6MHd"
      },
      "source": [
        "U nastavku je samo kostur/pseudokod GP-a"
      ]
    },
    {
      "cell_type": "markdown",
      "metadata": {
        "id": "81w_ilWI8wkb"
      },
      "source": [
        "Svaka jedinka ima 2 vrste fitnesa:\r\n",
        "- funkcija n_m - n_u treba da se maksimizuje\r\n",
        "- duzina r treba da se minimizuje\r\n",
        "\r\n",
        "r je trenutni regex, n_m je broj reci iz M koje su poklopljene sa r, n_u je broj reci iz U koje su poklopljene sa r"
      ]
    },
    {
      "cell_type": "code",
      "metadata": {
        "id": "FMD9wViZyB_Z"
      },
      "source": [
        "import re"
      ],
      "execution_count": null,
      "outputs": []
    },
    {
      "cell_type": "code",
      "metadata": {
        "id": "Uj_P2KA95mus"
      },
      "source": [
        "def getRandom():\r\n",
        "      set = random.choice(['f', 't'])\r\n",
        "      if set == 't':\r\n",
        "        value = random.choice(self.FUNCTION_SET)\r\n",
        "        if value in ['.{.,.}+']:\r\n",
        "          return value, 3\r\n",
        "        elif value in ['.|.', '..']:\r\n",
        "          return value, 2\r\n",
        "        else:\r\n",
        "          return value, 1\r\n",
        "      else:\r\n",
        "        value = random.choice(self.TERMINAL_SET)\r\n",
        "        return value, 0\r\n",
        "class Node(object):\r\n",
        "  def __init__(self, depth, root):\r\n",
        "    if root:\r\n",
        "      self.value = '.'\r\n",
        "      self.childrenNum = 2\r\n",
        "    else:\r\n",
        "      self.value, self.childrenNum = getRandom()\r\n",
        "    \r\n",
        "    self.left = None\r\n",
        "    self.right = None\r\n",
        "    self.thirs = None\r\n",
        "\r\n",
        "    if self.childrenNum == 3:\r\n",
        "      self.left= Node(depth+1, False)\r\n",
        "      self.right = Node(depth +1, False)\r\n",
        "      self.thirs = Node(depth+1, False)\r\n",
        "    elif self.childrenNum == 2:\r\n",
        "      self.left = Node(depth+1, False)\r\n",
        "      self.right = Node(depth+1, False)\r\n",
        "    else:\r\n",
        "      self.left = Node(depth+1, False)\r\n",
        "\r\n",
        "def transformTreeToRegex(node):\r\n",
        "  if node.left:\r\n",
        "    rl = transformTreeToRegex(node.left)\r\n",
        "  else:\r\n",
        "    rl = ''\r\n",
        "\r\n",
        "  if node.right:\r\n",
        "    rr = transformTreeToRegex(node.right)\r\n",
        "  else:\r\n",
        "    rr = ''\r\n",
        "\r\n",
        "  if node.third:\r\n",
        "    rt = transformTreeToRegex(node.third)\r\n",
        "  else:\r\n",
        "    rt = ''\r\n",
        "  \r\n",
        "  string = ''\r\n",
        "  if node.value == '.*+':\r\n",
        "    string += rl + '*+'\r\n",
        "  if node.value == '.++':\r\n",
        "    string += rl + '++'\r\n",
        "  if nodde.value == '.?+':\r\n",
        "    string += rl + '?*'\r\n",
        "  if node.value == '.{.,.}+':\r\n",
        "    string += rl + '{' + rr + ',' + rt + '}+'\r\n",
        "  if node.value == '(.)':\r\n",
        "    strign += '(' + rl + ')'\r\n",
        "  if node.value == '[^.]':\r\n",
        "    strign += '[' + '^' +rl + ']'\r\n",
        "  if node.vlalue == '..':\r\n",
        "    string += rl + rr\r\n",
        "  if node.value == '.|.':\r\n",
        "    string += rl + '|' + rr\r\n",
        "  if node.value == '.':\r\n",
        "    string += ''\r\n",
        "  \r\n",
        "  return string\r\n",
        "\r\n",
        "class Individual:\r\n",
        "  #Kako resavamo problem plain strings nase wi= 10\r\n",
        "    def __init__(self, setM, setU):\r\n",
        "        #kod je ustvari neko apstrakto drvo koje cuva odredjeni regex u sebi\r\n",
        "        self.code = Node(0, True)\r\n",
        "        self.wi = 10\r\n",
        "        self.setM = setM.copy()\r\n",
        "        self.setU = setU.copy()\r\n",
        "\r\n",
        "        self.n_m = 0\r\n",
        "        self.n_u = 0\r\n",
        "        #n_m - n_u - maximize\r\n",
        "        self.fitnessFunction = self.calculateFitnessFunction()\r\n",
        "        #length of r - minimize\r\n",
        "        self.fitnessRegex = self.calculateFitnessRegex()\r\n",
        "        #zapravo fitness racunamo kao wi*(n_m - n_u) - length(r)\r\n",
        "        self.fitness = self.wi * self.fitnessFuction - self.fitnessRegex\r\n",
        "    \r\n",
        "    def __lt__(self, other):\r\n",
        "      #Dakle zapravo zelimo da maksimizujemo taj skor\r\n",
        "      self.fitness > other.fitness\r\n",
        "\r\n",
        "    def calculateFitnessFunction(self):\r\n",
        "        #pretvoriti drvo u regex i videti i izracunati n_m - n_u\r\n",
        "        string = transformTreeToRegex(self.code)\r\n",
        "        for wordM, wordU in zip(self.setM, self.setU): \r\n",
        "          #vratice nam listu stringova koji se poklapaju\r\n",
        "          matchM = re.findall(string, wordM)\r\n",
        "          matchU = re.findall(string, wordU)\r\n",
        "          for m in matchM:\r\n",
        "            if len(m) == len(wordM):\r\n",
        "              n_m +=1\r\n",
        "          for m in  matchU:\r\n",
        "            if len(m) == len(wordU):\r\n",
        "              n_u += 1\r\n",
        "        return n_m - n_u\r\n",
        "\r\n",
        "    def calculateFitnessRegex(self):\r\n",
        "        #pretvoriti drvo u string i vratiti njegovu duzinu\r\n",
        "        string = transformTreeToRegex(self.code)\r\n",
        "        return len(string)"
      ],
      "execution_count": null,
      "outputs": []
    },
    {
      "cell_type": "code",
      "metadata": {
        "id": "7M1VZspkJlAk"
      },
      "source": [
        "def selection(population):\n",
        "  TOURNAMENT_SIZE = 7\n",
        "  betsFitness = float('-inf')\n",
        "  bestIndex = -1\n",
        "\n",
        "  for i in range(TOURNAMENT_SIZE):\n",
        "    index = random.randrange(len(population))\n",
        "    if population[index].fitness > betsFitness:\n",
        "      betsFitness = population[index].fitness\n",
        "      bestIndex = index\n",
        "  return bestIndex"
      ],
      "execution_count": null,
      "outputs": []
    },
    {
      "cell_type": "markdown",
      "metadata": {
        "id": "RXddTWc878MS"
      },
      "source": [
        "- Prvih |M| jedinki populacije se formiraju tako sto se koriste samo slova iz trenutne reci i operator konkatenacije (..)\r\n",
        "- Ostalih POPULATION_SIZE-|M| jedinki se formiraju random, dubine drveta 1-5"
      ]
    },
    {
      "cell_type": "markdown",
      "metadata": {
        "id": "JUWTwnw9-pOC"
      },
      "source": [
        "Formiranje nove populacije:\r\n",
        "- 10% random\r\n",
        "- 10% mutacijom\r\n",
        "- 80% ukrstanje"
      ]
    },
    {
      "cell_type": "code",
      "metadata": {
        "id": "Fbu8GKpM5r7r"
      },
      "source": [
        "def genetic_programming():\r\n",
        "    population = [Individual() for _ in range(POPULATION_SIZE)]\r\n",
        "    newPopulation = [Individual() for _ in range(POPULATION_SIZE)]\r\n",
        "\r\n",
        "    solutionFound = False\r\n",
        "\r\n",
        "    for i in range(NUMBER_GENERATIONS):\r\n",
        "        population.sort()\r\n",
        "\r\n",
        "        if population[0].fitnessFunction == num_m:\r\n",
        "            solutionFound = True\r\n",
        "            break\r\n",
        "\r\n",
        "        for j in range(0, POPULATION_SIZE, 2):\r\n",
        "            parent1Index = selection(population)\r\n",
        "            parent2Index = selection(population)\r\n",
        "\r\n",
        "            crossover(population[parent1Index], population[parent2Index], newPopulation[j], newPopulation[j+1])\r\n",
        "\r\n",
        "            mutation(newPopulation[j])\r\n",
        "            mutation(newPopulation[j+1])\r\n",
        "\r\n",
        "            newPopulation[j].fitness = newPopulation[j].calculateFitness()\r\n",
        "            newPopulation[j+1].fitness = newPopulation[j+1].calculateFitness()\r\n",
        "\r\n",
        "        population = newPopulation"
      ],
      "execution_count": null,
      "outputs": []
    },
    {
      "cell_type": "code",
      "metadata": {
        "id": "YAL4q_mq_Oay"
      },
      "source": [
        ""
      ],
      "execution_count": null,
      "outputs": []
    }
  ]
}