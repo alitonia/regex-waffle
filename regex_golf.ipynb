{
  "nbformat": 4,
  "nbformat_minor": 0,
  "metadata": {
    "colab": {
      "name": "regex_golf.ipynb",
      "provenance": [],
      "collapsed_sections": []
    },
    "kernelspec": {
      "name": "python3",
      "display_name": "Python 3"
    }
  },
  "cells": [
    {
      "cell_type": "markdown",
      "metadata": {
        "id": "ISPE_Lhzn-Ap"
      },
      "source": [
        "# Priprema podataka"
      ]
    },
    {
      "cell_type": "markdown",
      "metadata": {
        "id": "1HNfv6NG-T-O"
      },
      "source": [
        "**Ucitavanje podataka iz datoteke**\r\n",
        "  - u prvoj liniji su reci za koje treba naci regex (skup M)\r\n",
        "  - u drugoj liniji su reci za koje ne treba naci regex (skup U)\r\n",
        "  - reci u razdvojene sa: \", \""
      ]
    },
    {
      "cell_type": "code",
      "metadata": {
        "id": "UeMYatGC84Z2"
      },
      "source": [
        "def readFile(filename):\r\n",
        "    with open(filename, 'r') as f:\r\n",
        "        match = [word for word in f.readline().split(\", \")]\r\n",
        "        # uklanjanje novog reda iz poslednje reci\r\n",
        "        match[-1] = match[-1][:-1]\r\n",
        "        unmatch = [word for word in f.readline().split(\", \")]\r\n",
        "        \r\n",
        "    return match, unmatch"
      ],
      "execution_count": 1,
      "outputs": []
    },
    {
      "cell_type": "code",
      "metadata": {
        "colab": {
          "base_uri": "https://localhost:8080/"
        },
        "id": "urj9UlsW91GF",
        "outputId": "cc3f8b85-caab-456d-d060-4621146cb42b"
      },
      "source": [
        "match, unmatch = readFile(\"example_1.txt\")\r\n",
        "print(\"Prvi skup: \", match)\r\n",
        "print(\"Drugi skup: \", unmatch)"
      ],
      "execution_count": 2,
      "outputs": [
        {
          "output_type": "stream",
          "text": [
            "Prvi skup:  ['afoot', 'catfoot', 'dogfoot', 'fanfoot', 'foody', 'foolery', 'foolish', 'fooster', 'footage', 'foothot', 'footle', 'footpad', 'footway', 'hotfoot', 'jawfoot', 'mafoo', 'nonfood', 'padfoot', 'prefool', 'sfoot', 'unfool']\n",
            "Drugi skup:  ['Atlas', 'Aymoro', 'Iberic', 'Mahran', 'Ormazd', 'Silipan', 'altared', 'chandoo', 'crenel', 'crooked', 'fardo', 'folksy', 'forest', 'hebamic', 'idgah', 'manlike', 'marly', 'palazzi', 'sixfold', 'tarrock', 'unfold']\n"
          ],
          "name": "stdout"
        }
      ]
    },
    {
      "cell_type": "code",
      "metadata": {
        "colab": {
          "base_uri": "https://localhost:8080/"
        },
        "id": "EGt04P3F_Zyu",
        "outputId": "2391ce01-134b-45ba-df65-021560fe80bd"
      },
      "source": [
        "# Broj reci u skupovima\r\n",
        "num_m = len(match)\r\n",
        "num_u = len(unmatch)\r\n",
        "print(num_m)\r\n",
        "print(num_u)"
      ],
      "execution_count": 3,
      "outputs": [
        {
          "output_type": "stream",
          "text": [
            "21\n",
            "21\n"
          ],
          "name": "stdout"
        }
      ]
    },
    {
      "cell_type": "markdown",
      "metadata": {
        "id": "MURatuNTEsXH"
      },
      "source": [
        "**Karakteri koji se pojavljuju u jednom skupu reci**"
      ]
    },
    {
      "cell_type": "code",
      "metadata": {
        "id": "0W6_Yhe0DyJR"
      },
      "source": [
        "def charsInSet(wordSet):\r\n",
        "    chars = []\r\n",
        "\r\n",
        "    for word in wordSet:\r\n",
        "        for c in word:\r\n",
        "            if c not in chars:\r\n",
        "                chars.append(c)\r\n",
        "\r\n",
        "    chars.sort()\r\n",
        "\r\n",
        "    return chars"
      ],
      "execution_count": 4,
      "outputs": []
    },
    {
      "cell_type": "code",
      "metadata": {
        "colab": {
          "base_uri": "https://localhost:8080/"
        },
        "id": "8fh6YP-iEGUb",
        "outputId": "6706405d-9ec4-407f-bf5a-cb8bf803e4e6"
      },
      "source": [
        "chars_in_M = charsInSet(match)\r\n",
        "print(chars_in_M)"
      ],
      "execution_count": 5,
      "outputs": [
        {
          "output_type": "stream",
          "text": [
            "['a', 'c', 'd', 'e', 'f', 'g', 'h', 'i', 'j', 'l', 'm', 'n', 'o', 'p', 'r', 's', 't', 'u', 'w', 'y']\n"
          ],
          "name": "stdout"
        }
      ]
    },
    {
      "cell_type": "markdown",
      "metadata": {
        "id": "Jca6y4S-ExZ_"
      },
      "source": [
        "**Opsezi reci (partial ranges) koji se javljaju u skupu**"
      ]
    },
    {
      "cell_type": "code",
      "metadata": {
        "id": "-3b3WB9MGhdX"
      },
      "source": [
        "# TODO - za skup match"
      ],
      "execution_count": 6,
      "outputs": []
    },
    {
      "cell_type": "markdown",
      "metadata": {
        "id": "9W6gGCDjGkIj"
      },
      "source": [
        "**n-grami**"
      ]
    },
    {
      "cell_type": "code",
      "metadata": {
        "id": "okk1oZ_LGvFa"
      },
      "source": [
        "def ngram(M, U):\r\n",
        "    res = {}\r\n",
        "\r\n",
        "    for n in range(2, 5):\r\n",
        "        for i in range(0, len(M)):\r\n",
        "            word_m = M[i]\r\n",
        "            word_u = U[i]\r\n",
        "            \r\n",
        "            ngrams_m = zip(*[word_m[i:] for i in range(n)])\r\n",
        "            ngrams_u = zip(*[word_u[i:] for i in range(n)])\r\n",
        "\r\n",
        "            gram_m = [\"\".join(gr) for gr in ngrams_m]\r\n",
        "            gram_u = [\"\".join(gr) for gr in ngrams_u]\r\n",
        "\r\n",
        "            for g in gram_m: # povecavamo score ako je u M\r\n",
        "                if g not in res:\r\n",
        "                    res[g] = 1\r\n",
        "                elif g in res:\r\n",
        "                    res[g] += 1\r\n",
        "\r\n",
        "            for g in gram_u: # smanjujemo score ako je u U\r\n",
        "                if g not in res:\r\n",
        "                    res[g] = -1\r\n",
        "                elif g in res:\r\n",
        "                    res[g] -= 1\r\n",
        "\r\n",
        "    return res"
      ],
      "execution_count": 7,
      "outputs": []
    },
    {
      "cell_type": "code",
      "metadata": {
        "colab": {
          "base_uri": "https://localhost:8080/"
        },
        "id": "xwy2yN8TowU3",
        "outputId": "e87fe962-e10a-432f-e8eb-d5c61cd282b6"
      },
      "source": [
        "ngrams = ngram(match, unmatch)\r\n",
        "ngrams = sorted(ngrams.items(), key=lambda x: x[1], reverse=True)\r\n",
        "print(ngrams)"
      ],
      "execution_count": 8,
      "outputs": [
        {
          "output_type": "stream",
          "text": [
            "[('foo', 21), ('oo', 19), ('fo', 17), ('ot', 15), ('oot', 13), ('foot', 13), ('ool', 4), ('fool', 4), ('nfoo', 3), ('af', 2), ('tf', 2), ('nf', 2), ('od', 2), ('le', 2), ('ho', 2), ('ad', 2), ('afo', 2), ('tfo', 2), ('nfo', 2), ('ood', 2), ('hot', 2), ('pad', 2), ('afoo', 2), ('tfoo', 2), ('food', 2), ('ca', 1), ('at', 1), ('og', 1), ('gf', 1), ('er', 1), ('dy', 1), ('ol', 1), ('ry', 1), ('is', 1), ('sh', 1), ('os', 1), ('te', 1), ('ag', 1), ('ge', 1), ('th', 1), ('tp', 1), ('tw', 1), ('wa', 1), ('ay', 1), ('ja', 1), ('aw', 1), ('wf', 1), ('no', 1), ('on', 1), ('df', 1), ('pr', 1), ('ef', 1), ('sf', 1), ('cat', 1), ('atf', 1), ('dog', 1), ('ogf', 1), ('gfo', 1), ('fan', 1), ('anf', 1), ('ody', 1), ('ole', 1), ('ler', 1), ('ery', 1), ('oli', 1), ('lis', 1), ('ish', 1), ('oos', 1), ('ost', 1), ('ste', 1), ('ter', 1), ('ota', 1), ('tag', 1), ('age', 1), ('oth', 1), ('tho', 1), ('otl', 1), ('tle', 1), ('otp', 1), ('tpa', 1), ('otw', 1), ('twa', 1), ('way', 1), ('otf', 1), ('jaw', 1), ('awf', 1), ('wfo', 1), ('maf', 1), ('non', 1), ('onf', 1), ('adf', 1), ('dfo', 1), ('pre', 1), ('ref', 1), ('efo', 1), ('sfo', 1), ('catf', 1), ('atfo', 1), ('dogf', 1), ('ogfo', 1), ('gfoo', 1), ('fanf', 1), ('anfo', 1), ('oody', 1), ('oole', 1), ('oler', 1), ('lery', 1), ('ooli', 1), ('olis', 1), ('lish', 1), ('foos', 1), ('oost', 1), ('oste', 1), ('ster', 1), ('oota', 1), ('otag', 1), ('tage', 1), ('ooth', 1), ('otho', 1), ('thot', 1), ('ootl', 1), ('otle', 1), ('ootp', 1), ('otpa', 1), ('tpad', 1), ('ootw', 1), ('otwa', 1), ('tway', 1), ('hotf', 1), ('otfo', 1), ('jawf', 1), ('awfo', 1), ('wfoo', 1), ('mafo', 1), ('nonf', 1), ('onfo', 1), ('padf', 1), ('adfo', 1), ('dfoo', 1), ('pref', 1), ('refo', 1), ('efoo', 1), ('sfoo', 1), ('tl', 0), ('fa', 0), ('pa', 0), ('st', 0), ('un', 0), ('unf', 0), ('unfo', 0), ('At', -1), ('as', -1), ('Ay', -1), ('ym', -1), ('mo', -1), ('do', -1), ('Ib', -1), ('be', -1), ('ri', -1), ('Ma', -1), ('hr', -1), ('ra', -1), ('Or', -1), ('rm', -1), ('zd', -1), ('Si', -1), ('il', -1), ('li', -1), ('ip', -1), ('lt', -1), ('ta', -1), ('ch', -1), ('ha', -1), ('nd', -1), ('en', -1), ('ne', -1), ('el', -1), ('ok', -1), ('rd', -1), ('lk', -1), ('ks', -1), ('sy', -1), ('es', -1), ('he', -1), ('eb', -1), ('ba', -1), ('am', -1), ('mi', -1), ('id', -1), ('dg', -1), ('ga', -1), ('nl', -1), ('ik', -1), ('rl', -1), ('ly', -1), ('zz', -1), ('zi', -1), ('si', -1), ('ix', -1), ('xf', -1), ('rr', -1), ('oc', -1), ('ck', -1), ('Atl', -1), ('tla', -1), ('las', -1), ('Aym', -1), ('ymo', -1), ('mor', -1), ('oro', -1), ('Ibe', -1), ('ber', -1), ('eri', -1), ('ric', -1), ('Mah', -1), ('ahr', -1), ('hra', -1), ('ran', -1), ('Orm', -1), ('rma', -1), ('maz', -1), ('azd', -1), ('Sil', -1), ('ili', -1), ('lip', -1), ('ipa', -1), ('pan', -1), ('alt', -1), ('lta', -1), ('are', -1), ('red', -1), ('cha', -1), ('han', -1), ('and', -1), ('ndo', -1), ('doo', -1), ('cre', -1), ('ren', -1), ('ene', -1), ('nel', -1), ('cro', -1), ('roo', -1), ('ook', -1), ('oke', -1), ('ked', -1), ('far', -1), ('ard', -1), ('rdo', -1), ('olk', -1), ('lks', -1), ('ksy', -1), ('for', -1), ('ore', -1), ('res', -1), ('est', -1), ('heb', -1), ('eba', -1), ('bam', -1), ('ami', -1), ('mic', -1), ('idg', -1), ('dga', -1), ('gah', -1), ('man', -1), ('anl', -1), ('nli', -1), ('lik', -1), ('ike', -1), ('mar', -1), ('arl', -1), ('rly', -1), ('pal', -1), ('ala', -1), ('laz', -1), ('azz', -1), ('zzi', -1), ('six', -1), ('ixf', -1), ('xfo', -1), ('arr', -1), ('rro', -1), ('roc', -1), ('ock', -1), ('Atla', -1), ('tlas', -1), ('Aymo', -1), ('ymor', -1), ('moro', -1), ('Iber', -1), ('beri', -1), ('eric', -1), ('Mahr', -1), ('ahra', -1), ('hran', -1), ('Orma', -1), ('rmaz', -1), ('mazd', -1), ('Sili', -1), ('ilip', -1), ('lipa', -1), ('ipan', -1), ('alta', -1), ('ltar', -1), ('tare', -1), ('ared', -1), ('chan', -1), ('hand', -1), ('ando', -1), ('ndoo', -1), ('cren', -1), ('rene', -1), ('enel', -1), ('croo', -1), ('rook', -1), ('ooke', -1), ('oked', -1), ('fard', -1), ('ardo', -1), ('folk', -1), ('olks', -1), ('lksy', -1), ('fore', -1), ('ores', -1), ('rest', -1), ('heba', -1), ('ebam', -1), ('bami', -1), ('amic', -1), ('idga', -1), ('dgah', -1), ('manl', -1), ('anli', -1), ('nlik', -1), ('like', -1), ('marl', -1), ('arly', -1), ('pala', -1), ('alaz', -1), ('lazz', -1), ('azzi', -1), ('sixf', -1), ('ixfo', -1), ('xfol', -1), ('tarr', -1), ('arro', -1), ('rroc', -1), ('rock', -1), ('nfol', -1), ('la', -2), ('or', -2), ('ic', -2), ('ah', -2), ('ma', -2), ('az', -2), ('al', -2), ('re', -2), ('ed', -2), ('cr', -2), ('ke', -2), ('ld', -2), ('tar', -2), ('old', -2), ('fold', -2), ('ro', -3), ('an', -3), ('fol', -3), ('ar', -4)]\n"
          ],
          "name": "stdout"
        }
      ]
    },
    {
      "cell_type": "markdown",
      "metadata": {
        "id": "OJ1LqEhCAdnP"
      },
      "source": [
        "**Terminal i Function skupovi**"
      ]
    },
    {
      "cell_type": "code",
      "metadata": {
        "id": "H1QYV3TkAdVp"
      },
      "source": [
        "# . je placeholder za dete cvor\r\n",
        "FUNCTION_SET = ['.*+', '.++', '.?+', '.{.,.}+', # possessive quantifiers\r\n",
        "                '(.)',                          # group\r\n",
        "                '[.]',                          # character class\r\n",
        "                '[^.]',                         # negated character\r\n",
        "                '..',                           # concatenator\r\n",
        "                '.|.',                          # disjunction\r\n",
        "                ]"
      ],
      "execution_count": 9,
      "outputs": []
    },
    {
      "cell_type": "code",
      "metadata": {
        "id": "qq_YS0U6B1jH"
      },
      "source": [
        "TERMINAL_SET = ['a-z', 'A-Z', '0-9', '^', '$', '..', # instance independent terminals\r\n",
        "                '\\w', '\\W', '\\d', '\\D', '\\b', '\\B', '\\A', '\\Z', '\\s', '\\S',\r\n",
        "                chars_in_M,                          # instance dependent terminals\r\n",
        "                ngrams\r\n",
        "                ]"
      ],
      "execution_count": 10,
      "outputs": []
    }
  ]
}