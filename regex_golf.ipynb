{
  "nbformat": 4,
  "nbformat_minor": 0,
  "metadata": {
    "colab": {
      "name": "regex_golf.ipynb",
      "provenance": [],
      "collapsed_sections": []
    },
    "kernelspec": {
      "name": "python3",
      "display_name": "Python 3"
    }
  },
  "cells": [
    {
      "cell_type": "markdown",
      "metadata": {
        "id": "1HNfv6NG-T-O"
      },
      "source": [
        "**Ucitavanje podataka iz datoteke**\r\n",
        "  - u prvoj liniji su reci za koje treba naci regex (skup M)\r\n",
        "  - u drugoj liniji su reci za koje ne treba naci regex (skup U)\r\n",
        "  - reci u razdvojene sa: \", \""
      ]
    },
    {
      "cell_type": "code",
      "metadata": {
        "id": "UeMYatGC84Z2"
      },
      "source": [
        "def readFile(filename):\r\n",
        "    with open(filename, 'r') as f:\r\n",
        "        match = [word for word in f.readline().split(\", \")]\r\n",
        "        # uklanjanje novog reda iz poslednje reci\r\n",
        "        match[-1] = match[-1][:-1]\r\n",
        "        unmatch = [word for word in f.readline().split(\", \")]\r\n",
        "        \r\n",
        "    return match, unmatch"
      ],
      "execution_count": 1,
      "outputs": []
    },
    {
      "cell_type": "code",
      "metadata": {
        "colab": {
          "base_uri": "https://localhost:8080/"
        },
        "id": "urj9UlsW91GF",
        "outputId": "50f9dc12-474f-4dbb-bab0-00e804a0ed48"
      },
      "source": [
        "match, unmatch = readFile(\"example_1.txt\")\r\n",
        "print(\"Prvi skup: \", match)\r\n",
        "print(\"Drugi skup: \", unmatch)"
      ],
      "execution_count": 2,
      "outputs": [
        {
          "output_type": "stream",
          "text": [
            "Prvi skup:  ['afoot', 'catfoot', 'dogfoot', 'fanfoot', 'foody', 'foolery', 'foolish', 'fooster', 'footage', 'foothot', 'footle', 'footpad', 'footway', 'hotfoot', 'jawfoot', 'mafoo', 'nonfood', 'padfoot', 'prefool', 'sfoot', 'unfool']\n",
            "Drugi skup:  ['Atlas', 'Aymoro', 'Iberic', 'Mahran', 'Ormazd', 'Silipan', 'altared', 'chandoo', 'crenel', 'crooked', 'fardo', 'folksy', 'forest', 'hebamic', 'idgah', 'manlike', 'marly', 'palazzi', 'sixfold', 'tarrock', 'unfold']\n"
          ],
          "name": "stdout"
        }
      ]
    },
    {
      "cell_type": "code",
      "metadata": {
        "colab": {
          "base_uri": "https://localhost:8080/"
        },
        "id": "EGt04P3F_Zyu",
        "outputId": "b82ce2bb-973b-45ea-f94e-462229152933"
      },
      "source": [
        "# Broj reci u skupovima\r\n",
        "num_m = len(match)\r\n",
        "num_u = len(unmatch)\r\n",
        "print(num_m)\r\n",
        "print(num_u)"
      ],
      "execution_count": 3,
      "outputs": [
        {
          "output_type": "stream",
          "text": [
            "21\n",
            "21\n"
          ],
          "name": "stdout"
        }
      ]
    },
    {
      "cell_type": "markdown",
      "metadata": {
        "id": "MURatuNTEsXH"
      },
      "source": [
        "**Karakteri koji se pojavljuju u jednom skupu reci**"
      ]
    },
    {
      "cell_type": "code",
      "metadata": {
        "id": "0W6_Yhe0DyJR"
      },
      "source": [
        "def charsInSet(wordSet):\r\n",
        "    chars = []\r\n",
        "\r\n",
        "    for word in wordSet:\r\n",
        "        for c in word:\r\n",
        "            if c not in chars:\r\n",
        "                chars.append(c)\r\n",
        "\r\n",
        "    chars.sort()\r\n",
        "\r\n",
        "    return chars"
      ],
      "execution_count": 4,
      "outputs": []
    },
    {
      "cell_type": "code",
      "metadata": {
        "colab": {
          "base_uri": "https://localhost:8080/"
        },
        "id": "8fh6YP-iEGUb",
        "outputId": "a9abcadb-ce0d-44fd-c175-48655ddd02d9"
      },
      "source": [
        "chars_in_M = charsInSet(match)\r\n",
        "print(chars_in_M)"
      ],
      "execution_count": 5,
      "outputs": [
        {
          "output_type": "stream",
          "text": [
            "['a', 'c', 'd', 'e', 'f', 'g', 'h', 'i', 'j', 'l', 'm', 'n', 'o', 'p', 'r', 's', 't', 'u', 'w', 'y']\n"
          ],
          "name": "stdout"
        }
      ]
    },
    {
      "cell_type": "markdown",
      "metadata": {
        "id": "Jca6y4S-ExZ_"
      },
      "source": [
        "**Opsezi reci (partial ranges) koji se javljaju u skupu**"
      ]
    },
    {
      "cell_type": "code",
      "metadata": {
        "id": "-3b3WB9MGhdX"
      },
      "source": [
        "# TODO - za skup match"
      ],
      "execution_count": null,
      "outputs": []
    },
    {
      "cell_type": "markdown",
      "metadata": {
        "id": "9W6gGCDjGkIj"
      },
      "source": [
        "**n-grami**"
      ]
    },
    {
      "cell_type": "code",
      "metadata": {
        "id": "okk1oZ_LGvFa"
      },
      "source": [
        "# TODO - za oba skupa"
      ],
      "execution_count": null,
      "outputs": []
    },
    {
      "cell_type": "markdown",
      "metadata": {
        "id": "OJ1LqEhCAdnP"
      },
      "source": [
        "**Terminal i Function skupovi**"
      ]
    },
    {
      "cell_type": "code",
      "metadata": {
        "id": "H1QYV3TkAdVp"
      },
      "source": [
        "# . je placeholder za dete cvor\r\n",
        "FUNCTION_SET = ['.*+', '.++', '.?+', '.{.,.}+', # possessive quantifiers\r\n",
        "                '(.)',                          # group\r\n",
        "                '[.]',                          # character class\r\n",
        "                '[^.]',                         # negated character\r\n",
        "                '..',                           # concatenator\r\n",
        "                '.|.',                          # disjunction\r\n",
        "                ]"
      ],
      "execution_count": 6,
      "outputs": []
    },
    {
      "cell_type": "code",
      "metadata": {
        "id": "qq_YS0U6B1jH"
      },
      "source": [
        "TERMINAL_SET = ['a-z', 'A-Z', '0-9', '^', '$', '..', # instance independent terminals\r\n",
        "                '\\w', '\\W', '\\d', '\\D', '\\b', '\\B', '\\A', '\\Z', '\\s', '\\S',\r\n",
        "                chars_in_M # instance dependent terminals\r\n",
        "                ]"
      ],
      "execution_count": 7,
      "outputs": []
    }
  ]
}